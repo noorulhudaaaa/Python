{
  "nbformat": 4,
  "nbformat_minor": 0,
  "metadata": {
    "colab": {
      "provenance": [],
      "toc_visible": true
    },
    "kernelspec": {
      "name": "python3",
      "display_name": "Python 3"
    },
    "language_info": {
      "name": "python"
    }
  },
  "cells": [
    {
      "cell_type": "markdown",
      "source": [
        "# CREWAI - Multi-Agent Content Creation System\n",
        "CrewAI is a tool that lets you create “AI teams” to work together on tasks. Think of it like building a small team of people, but each “person” is an AI agent with a specific role.\n",
        "\n",
        "- Agents: AI “team members” with a role and a goal.\n",
        "- Example: A Researcher who gathers info, a Writer who writes content, and an Editor who polishes it.\n",
        "- Tasks: Specific jobs you give to your agents.\n",
        "- Example: “Research the latest AI trends” or “Write a blog post.”\n",
        "- Crew: The team of agents working together on your tasks.\n",
        "\n",
        "CrewAI makes the agents communicate, pass work to each other, and complete complex projects automatically."
      ],
      "metadata": {
        "id": "Ili-JxISwTm6"
      }
    },
    {
      "cell_type": "code",
      "source": [
        "!pip install crewai openai langchain_openai -q"
      ],
      "metadata": {
        "id": "3hJzECSAwMWl"
      },
      "execution_count": null,
      "outputs": []
    },
    {
      "cell_type": "code",
      "source": [
        "# Importing Necessary Libraries\n",
        "from crewai import Agent, Task, Crew\n",
        "from langchain_openai import ChatOpenAI\n",
        "from google.colab import userdata\n"
      ],
      "metadata": {
        "id": "B8h1deRC5U02"
      },
      "execution_count": null,
      "outputs": []
    },
    {
      "cell_type": "markdown",
      "source": [
        "## 1. API KEY"
      ],
      "metadata": {
        "id": "claG6NDJu7ZX"
      }
    },
    {
      "cell_type": "code",
      "source": [
        "# Getting the API Key\n",
        "API_KEY = userdata.get('GOOGLE_API_KEY')\n"
      ],
      "metadata": {
        "id": "l-oD4slt5bUk"
      },
      "execution_count": null,
      "outputs": []
    },
    {
      "cell_type": "markdown",
      "source": [
        "## 2. LLM"
      ],
      "metadata": {
        "id": "19jKZBtkvNzk"
      }
    },
    {
      "cell_type": "code",
      "source": [
        "# Making LLM\n",
        "llm = ChatGoogleGenerativeAI(\n",
        "    model = \"gemini-2.0-flash\",\n",
        "    google_api_key = API_KEY,\n",
        "\n",
        ")\n"
      ],
      "metadata": {
        "id": "MzhqHD9y5dKw"
      },
      "execution_count": null,
      "outputs": []
    },
    {
      "cell_type": "markdown",
      "source": [
        "## 3. Multiple Agents"
      ],
      "metadata": {
        "id": "5kgnqll7vfg0"
      }
    },
    {
      "cell_type": "code",
      "source": [
        "# Making 3 Agents\n",
        "# Researcher, Editor and Writer\n",
        "Researcher = Agent (\n",
        "    llm = llm ,\n",
        "    role = \"Researcher\",\n",
        "    goal = \"Find accurate, up-to-date information about AI trends.\",\n",
        "    backstory = \"You are an AI researcher who knows how to summarize complex topics.\",\n",
        ")\n",
        "\n",
        "Editor = Agent(\n",
        "    llm = llm,\n",
        "    role = \"Editor\",\n",
        "    goal = \"Write engaging and clear blog posts using the researcher’s notes.\",\n",
        "    backstory = \"You are a skilled writer with a talent for explaining technology in simple terms.\"\n",
        ")\n",
        "\n",
        "Writer = Agent(\n",
        "    llm = llm,\n",
        "    role = \"Writer\",\n",
        "    goal = \"Polish the article for grammar, flow, and style.\",\n",
        "    backstory = \"You are an editor who ensures the content is professional and easy to read.\"\n",
        ")\n"
      ],
      "metadata": {
        "id": "0Ll0rWhM5frD"
      },
      "execution_count": null,
      "outputs": []
    },
    {
      "cell_type": "markdown",
      "source": [
        "## 4. Agents Tasks"
      ],
      "metadata": {
        "id": "TRHMzAcsvqiD"
      }
    },
    {
      "cell_type": "code",
      "source": [
        "# Assigning task to each agent\n",
        "researcher_task = Task(\n",
        "    agent = Researcher,\n",
        "    description = \"Research the latest developments in Generative AI for 2025.\",\n",
        "    expected_output = \"A summary of the latest developments in Generative AI for 2025.\"\n",
        ")\n",
        "\n",
        "editor_task = Task(\n",
        "    agent = Editor,\n",
        "    description = \"Write a detailed blog post (500 words) about the research findings.\",\n",
        "    expected_output = \"A 500-word blog post about the latest developments in Generative AI for 2025, based on the research findings.\"\n",
        ")\n",
        "\n",
        "writer_task = Task(\n",
        "    agent = Writer,\n",
        "    description = \"Edit the blog post for grammar, flow, and readability. Provide the final polished article.\",\n",
        "    expected_output = \"A polished and ready-to-publish blog post about the latest developments in Generative AI for 2025.\"\n",
        ")\n"
      ],
      "metadata": {
        "id": "zR98hCeh5kMf"
      },
      "execution_count": null,
      "outputs": []
    },
    {
      "cell_type": "markdown",
      "source": [
        "## 5. Crew"
      ],
      "metadata": {
        "id": "8EtRntRjv1jk"
      }
    },
    {
      "cell_type": "code",
      "source": [
        "# Using crew to use multiple agents\n",
        "content_crew = Crew(\n",
        "    agents = [Researcher, Editor, Writer],\n",
        "    tasks = [researcher_task, editor_task, writer_task],\n",
        "    verbose = False\n",
        ")\n"
      ],
      "metadata": {
        "id": "D7r7EjTT5lQT"
      },
      "execution_count": null,
      "outputs": []
    },
    {
      "cell_type": "markdown",
      "source": [
        "## 6. Agents Response"
      ],
      "metadata": {
        "id": "EcK-l-zyv6pU"
      }
    },
    {
      "cell_type": "code",
      "source": [
        "# Getting Response\n",
        "response = content_crew.kickoff()\n",
        "\n",
        "# Printing\n",
        "print(\"Final Article:\\n\")\n",
        "print(response)\n"
      ],
      "metadata": {
        "colab": {
          "base_uri": "https://localhost:8080/"
        },
        "id": "-zgEtqcf5omt",
        "outputId": "57b1a907-ac27-4994-bdc7-65d6cf17e565"
      },
      "execution_count": null,
      "outputs": [
        {
          "output_type": "stream",
          "name": "stdout",
          "text": [
            "\n",
            " Final Article:\n",
            "\n",
            "**Generative AI: Transforming Creativity and Technology in 2025**\n",
            "\n",
            "As we step into 2025, Generative AI stands at the forefront of technological advancements, revolutionizing not only how we create but also how we interact with content across various domains. This exciting journey has been marked by key developments that enhance model efficiency, promote multimodal capabilities, empower customization, and address crucial ethical considerations. Let’s explore the transformative trends shaping the landscape of Generative AI.\n",
            "\n",
            "One of the most striking changes is the increased efficiency of AI models. Recent innovations, such as Efficient Transformers and Sparse Modeling, have allowed these systems to produce high-quality outputs with a fraction of the computational resources previously required. This breakthrough means that even those with access to consumer-grade hardware can now train and use advanced AI models. The democratization of AI tools heralds a new era where individuals and small businesses can leverage powerful technologies traditionally reserved for large corporations.\n",
            "\n",
            "In tandem with efficiency, multimodal generative models have emerged, seamlessly integrating various data types—text, images, audio, and video. Pioneering examples like OpenAI’s DALL-E and Google’s Imagen showcase the ability to create rich multimedia content from simple text inputs, enabling new levels of interactivity. This capability is not just limited to individual use but is increasingly applied in industries such as entertainment, marketing, and education, allowing creators to produce captivating content that resonates with audiences on multiple levels.\n",
            "\n",
            "Moreover, users can now exert greater control over content generation, tailoring outputs to specific styles, tones, or formats through user-friendly interfaces. This shift has profound implications for creative sectors, including game development and graphic design. Non-experts can now easily customize content, allowing for a more personal touch in creations that reflect individual preferences or brand identities.\n",
            "\n",
            "However, the rapid progression in Generative AI also raises essential ethical considerations. As the risk of misuse—such as the spread of misinformation and copyright violations—increases, the development of legal and ethical frameworks becomes paramount. Institutions and corporations are proactively establishing guidelines that emphasize transparency and responsible practices, ensuring that AI contributes positively to society while minimizing harm.\n",
            "\n",
            "Simultaneously, AI is evolving from a mere content generator to a collaborative partner in creativity. Professionals in fields like art, writing, and music are beginning to engage with AI tools in co-creation. This newfound collaboration enhances the creative process, allowing human intuition and emotion to guide directions while leveraging AI’s efficiency and capabilities.\n",
            "\n",
            "Another significant advancement is the ability of generative AI to produce real-time content, greatly enriching user experiences in gaming, virtual reality, and live streaming. This scientific leap results in dynamic environments that react instantly to user actions, making interactions more engaging and lifelike than ever before.\n",
            "\n",
            "In education, Generative AI is reshaping the learning landscape by creating personalized tutorials and exercises tailored to individual learning styles. Furthermore, AI is being utilized in companion applications to engage users emotionally, generating dialogues that adapt to their feelings, thereby aiding mental health support.\n",
            "\n",
            "Lastly, researchers continuously probe the depths of creativity, seeking to understand how AI can emulate and enhance human artistic qualities. This ongoing inquiry challenges conventional views on creativity, expanding the realm of what AI-generated art can be and fostering innovations that blur the lines between human and machine.\n",
            "\n",
            "The advancements in Generative AI as of 2025 mark a transformative moment where technology and creativity intertwine like never before. The promise of these developments lies not solely in innovation but in the responsible integration of AI into our lives, opening doors to new opportunities across countless industries. As we embrace this dynamic shift, the future looks bright for both creators and consumers alike.\n"
          ]
        }
      ]
    }
  ]
}