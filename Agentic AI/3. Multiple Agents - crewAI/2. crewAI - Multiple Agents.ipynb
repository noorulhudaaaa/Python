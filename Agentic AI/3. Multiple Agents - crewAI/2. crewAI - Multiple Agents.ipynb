{
  "nbformat": 4,
  "nbformat_minor": 0,
  "metadata": {
    "colab": {
      "provenance": [],
      "gpuType": "T4",
      "toc_visible": true
    },
    "kernelspec": {
      "name": "python3",
      "display_name": "Python 3"
    },
    "language_info": {
      "name": "python"
    },
    "accelerator": "GPU"
  },
  "cells": [
    {
      "cell_type": "markdown",
      "source": [
        "# CrewAI Hands-On: Building an AI Career Coach Agent\n",
        "\n",
        "Welcome to this hands-on activity!\n",
        "\n",
        "Today, we'll build an **AI Career Coach Agent** using CrewAI. This agent will suggest exciting career paths  based on their interests.\n",
        "\n",
        "By the end of this notebook, you'll:\n",
        "- Understand what an AI agent is\n",
        "- Create a one-agent CrewAI app\n",
        "- See how AI can help with real-life questions"
      ],
      "metadata": {
        "id": "YIXt0mU9rRTg"
      }
    },
    {
      "cell_type": "code",
      "execution_count": null,
      "metadata": {
        "colab": {
          "base_uri": "https://localhost:8080/"
        },
        "id": "V18Kp1ivrOY8",
        "outputId": "9309c579-758c-42bd-f32d-fde5ffcaced3"
      },
      "outputs": [
        {
          "output_type": "stream",
          "name": "stdout",
          "text": [
            "\u001b[2K     \u001b[90m━━━━━━━━━━━━━━━━━━━━━━━━━━━━━━━━━━━━━━━━\u001b[0m \u001b[32m40.6/40.6 kB\u001b[0m \u001b[31m3.6 MB/s\u001b[0m eta \u001b[36m0:00:00\u001b[0m\n",
            "\u001b[2K     \u001b[90m━━━━━━━━━━━━━━━━━━━━━━━━━━━━━━━━━━━━━━━━\u001b[0m \u001b[32m42.8/42.8 kB\u001b[0m \u001b[31m4.6 MB/s\u001b[0m eta \u001b[36m0:00:00\u001b[0m\n",
            "\u001b[2K     \u001b[90m━━━━━━━━━━━━━━━━━━━━━━━━━━━━━━━━━━━━━━━━\u001b[0m \u001b[32m67.3/67.3 kB\u001b[0m \u001b[31m8.2 MB/s\u001b[0m eta \u001b[36m0:00:00\u001b[0m\n",
            "\u001b[?25h  Installing build dependencies ... \u001b[?25l\u001b[?25hdone\n",
            "  Getting requirements to build wheel ... \u001b[?25l\u001b[?25hdone\n",
            "  Preparing metadata (pyproject.toml) ... \u001b[?25l\u001b[?25hdone\n",
            "\u001b[2K     \u001b[90m━━━━━━━━━━━━━━━━━━━━━━━━━━━━━━━━━━━━━━━━\u001b[0m \u001b[32m48.5/48.5 kB\u001b[0m \u001b[31m4.1 MB/s\u001b[0m eta \u001b[36m0:00:00\u001b[0m\n",
            "\u001b[2K   \u001b[90m━━━━━━━━━━━━━━━━━━━━━━━━━━━━━━━━━━━━━━━━\u001b[0m \u001b[32m423.3/423.3 kB\u001b[0m \u001b[31m34.1 MB/s\u001b[0m eta \u001b[36m0:00:00\u001b[0m\n",
            "\u001b[2K   \u001b[90m━━━━━━━━━━━━━━━━━━━━━━━━━━━━━━━━━━━━━━━━\u001b[0m \u001b[32m8.7/8.7 MB\u001b[0m \u001b[31m91.6 MB/s\u001b[0m eta \u001b[36m0:00:00\u001b[0m\n",
            "\u001b[2K   \u001b[90m━━━━━━━━━━━━━━━━━━━━━━━━━━━━━━━━━━━━━━━━\u001b[0m \u001b[32m16.4/16.4 MB\u001b[0m \u001b[31m29.1 MB/s\u001b[0m eta \u001b[36m0:00:00\u001b[0m\n",
            "\u001b[2K   \u001b[90m━━━━━━━━━━━━━━━━━━━━━━━━━━━━━━━━━━━━━━━━\u001b[0m \u001b[32m75.0/75.0 kB\u001b[0m \u001b[31m7.0 MB/s\u001b[0m eta \u001b[36m0:00:00\u001b[0m\n",
            "\u001b[2K   \u001b[90m━━━━━━━━━━━━━━━━━━━━━━━━━━━━━━━━━━━━━━━━\u001b[0m \u001b[32m19.8/19.8 MB\u001b[0m \u001b[31m96.4 MB/s\u001b[0m eta \u001b[36m0:00:00\u001b[0m\n",
            "\u001b[2K   \u001b[90m━━━━━━━━━━━━━━━━━━━━━━━━━━━━━━━━━━━━━━━━\u001b[0m \u001b[32m155.5/155.5 kB\u001b[0m \u001b[31m16.4 MB/s\u001b[0m eta \u001b[36m0:00:00\u001b[0m\n",
            "\u001b[2K   \u001b[90m━━━━━━━━━━━━━━━━━━━━━━━━━━━━━━━━━━━━━━━━\u001b[0m \u001b[32m447.5/447.5 kB\u001b[0m \u001b[31m42.8 MB/s\u001b[0m eta \u001b[36m0:00:00\u001b[0m\n",
            "\u001b[2K   \u001b[90m━━━━━━━━━━━━━━━━━━━━━━━━━━━━━━━━━━━━━━━━\u001b[0m \u001b[32m72.5/72.5 kB\u001b[0m \u001b[31m7.0 MB/s\u001b[0m eta \u001b[36m0:00:00\u001b[0m\n",
            "\u001b[2K   \u001b[90m━━━━━━━━━━━━━━━━━━━━━━━━━━━━━━━━━━━━━━━━\u001b[0m \u001b[32m131.9/131.9 kB\u001b[0m \u001b[31m13.3 MB/s\u001b[0m eta \u001b[36m0:00:00\u001b[0m\n",
            "\u001b[2K   \u001b[90m━━━━━━━━━━━━━━━━━━━━━━━━━━━━━━━━━━━━━━━━\u001b[0m \u001b[32m65.7/65.7 kB\u001b[0m \u001b[31m7.0 MB/s\u001b[0m eta \u001b[36m0:00:00\u001b[0m\n",
            "\u001b[2K   \u001b[90m━━━━━━━━━━━━━━━━━━━━━━━━━━━━━━━━━━━━━━━━\u001b[0m \u001b[32m208.0/208.0 kB\u001b[0m \u001b[31m22.5 MB/s\u001b[0m eta \u001b[36m0:00:00\u001b[0m\n",
            "\u001b[2K   \u001b[90m━━━━━━━━━━━━━━━━━━━━━━━━━━━━━━━━━━━━━━━━\u001b[0m \u001b[32m60.0/60.0 kB\u001b[0m \u001b[31m6.6 MB/s\u001b[0m eta \u001b[36m0:00:00\u001b[0m\n",
            "\u001b[2K   \u001b[90m━━━━━━━━━━━━━━━━━━━━━━━━━━━━━━━━━━━━━━━━\u001b[0m \u001b[32m5.6/5.6 MB\u001b[0m \u001b[31m91.5 MB/s\u001b[0m eta \u001b[36m0:00:00\u001b[0m\n",
            "\u001b[2K   \u001b[90m━━━━━━━━━━━━━━━━━━━━━━━━━━━━━━━━━━━━━━━━\u001b[0m \u001b[32m756.0/756.0 kB\u001b[0m \u001b[31m55.1 MB/s\u001b[0m eta \u001b[36m0:00:00\u001b[0m\n",
            "\u001b[2K   \u001b[90m━━━━━━━━━━━━━━━━━━━━━━━━━━━━━━━━━━━━━━━━\u001b[0m \u001b[32m242.3/242.3 kB\u001b[0m \u001b[31m22.7 MB/s\u001b[0m eta \u001b[36m0:00:00\u001b[0m\n",
            "\u001b[2K   \u001b[90m━━━━━━━━━━━━━━━━━━━━━━━━━━━━━━━━━━━━━━━━\u001b[0m \u001b[32m21.0/21.0 MB\u001b[0m \u001b[31m25.0 MB/s\u001b[0m eta \u001b[36m0:00:00\u001b[0m\n",
            "\u001b[2K   \u001b[90m━━━━━━━━━━━━━━━━━━━━━━━━━━━━━━━━━━━━━━━━\u001b[0m \u001b[32m284.2/284.2 kB\u001b[0m \u001b[31m27.6 MB/s\u001b[0m eta \u001b[36m0:00:00\u001b[0m\n",
            "\u001b[2K   \u001b[90m━━━━━━━━━━━━━━━━━━━━━━━━━━━━━━━━━━━━━━━━\u001b[0m \u001b[32m45.5/45.5 kB\u001b[0m \u001b[31m4.3 MB/s\u001b[0m eta \u001b[36m0:00:00\u001b[0m\n",
            "\u001b[2K   \u001b[90m━━━━━━━━━━━━━━━━━━━━━━━━━━━━━━━━━━━━━━━━\u001b[0m \u001b[32m1.9/1.9 MB\u001b[0m \u001b[31m70.7 MB/s\u001b[0m eta \u001b[36m0:00:00\u001b[0m\n",
            "\u001b[2K   \u001b[90m━━━━━━━━━━━━━━━━━━━━━━━━━━━━━━━━━━━━━━━━\u001b[0m \u001b[32m103.3/103.3 kB\u001b[0m \u001b[31m9.6 MB/s\u001b[0m eta \u001b[36m0:00:00\u001b[0m\n",
            "\u001b[2K   \u001b[90m━━━━━━━━━━━━━━━━━━━━━━━━━━━━━━━━━━━━━━━━\u001b[0m \u001b[32m105.4/105.4 kB\u001b[0m \u001b[31m10.7 MB/s\u001b[0m eta \u001b[36m0:00:00\u001b[0m\n",
            "\u001b[2K   \u001b[90m━━━━━━━━━━━━━━━━━━━━━━━━━━━━━━━━━━━━━━━━\u001b[0m \u001b[32m71.6/71.6 kB\u001b[0m \u001b[31m7.6 MB/s\u001b[0m eta \u001b[36m0:00:00\u001b[0m\n",
            "\u001b[2K   \u001b[90m━━━━━━━━━━━━━━━━━━━━━━━━━━━━━━━━━━━━━━━━\u001b[0m \u001b[32m2.8/2.8 MB\u001b[0m \u001b[31m22.3 MB/s\u001b[0m eta \u001b[36m0:00:00\u001b[0m\n",
            "\u001b[2K   \u001b[90m━━━━━━━━━━━━━━━━━━━━━━━━━━━━━━━━━━━━━━━━\u001b[0m \u001b[32m46.0/46.0 kB\u001b[0m \u001b[31m4.2 MB/s\u001b[0m eta \u001b[36m0:00:00\u001b[0m\n",
            "\u001b[2K   \u001b[90m━━━━━━━━━━━━━━━━━━━━━━━━━━━━━━━━━━━━━━━━\u001b[0m \u001b[32m510.8/510.8 kB\u001b[0m \u001b[31m32.2 MB/s\u001b[0m eta \u001b[36m0:00:00\u001b[0m\n",
            "\u001b[2K   \u001b[90m━━━━━━━━━━━━━━━━━━━━━━━━━━━━━━━━━━━━━━━━\u001b[0m \u001b[32m86.8/86.8 kB\u001b[0m \u001b[31m9.7 MB/s\u001b[0m eta \u001b[36m0:00:00\u001b[0m\n",
            "\u001b[2K   \u001b[90m━━━━━━━━━━━━━━━━━━━━━━━━━━━━━━━━━━━━━━━━\u001b[0m \u001b[32m1.6/1.6 MB\u001b[0m \u001b[31m85.7 MB/s\u001b[0m eta \u001b[36m0:00:00\u001b[0m\n",
            "\u001b[2K   \u001b[90m━━━━━━━━━━━━━━━━━━━━━━━━━━━━━━━━━━━━━━━━\u001b[0m \u001b[32m4.7/4.7 MB\u001b[0m \u001b[31m84.8 MB/s\u001b[0m eta \u001b[36m0:00:00\u001b[0m\n",
            "\u001b[2K   \u001b[90m━━━━━━━━━━━━━━━━━━━━━━━━━━━━━━━━━━━━━━━━\u001b[0m \u001b[32m452.2/452.2 kB\u001b[0m \u001b[31m42.2 MB/s\u001b[0m eta \u001b[36m0:00:00\u001b[0m\n",
            "\u001b[?25h  Building wheel for pypika (pyproject.toml) ... \u001b[?25l\u001b[?25hdone\n"
          ]
        }
      ],
      "source": [
        "!pip install crewai openai langchain_openai -q"
      ]
    },
    {
      "cell_type": "code",
      "source": [
        "# Importing Necessary Libraries\n",
        "from crewai import Agent, Task, Crew\n",
        "from langchain_openai import ChatOpenAI\n",
        "from google.colab import userdata\n"
      ],
      "metadata": {
        "id": "sw8t708urrQc"
      },
      "execution_count": null,
      "outputs": []
    },
    {
      "cell_type": "markdown",
      "source": [
        "## 1. API KEY\n"
      ],
      "metadata": {
        "id": "67LhSq941YBG"
      }
    },
    {
      "cell_type": "code",
      "source": [
        "# Getting API Key\n",
        "API_KEY = userdata.get('GOOGLE_API_KEY')\n"
      ],
      "metadata": {
        "id": "8A0jNPuxtHkk"
      },
      "execution_count": null,
      "outputs": []
    },
    {
      "cell_type": "markdown",
      "source": [
        "## 2. LLM"
      ],
      "metadata": {
        "id": "QIGFPoTG1crj"
      }
    },
    {
      "cell_type": "code",
      "source": [
        "# Making LLM\n",
        "llm = ChatOpenAI(\n",
        "    model = \"gemini-2.0-flash\",\n",
        "    google_api_key = API_KEY,\n",
        "    temperature = 0\n",
        ")\n"
      ],
      "metadata": {
        "id": "nnuStJIWtZ4o"
      },
      "execution_count": null,
      "outputs": []
    },
    {
      "cell_type": "markdown",
      "source": [
        "## 3. Multiple Agents"
      ],
      "metadata": {
        "id": "I0pUb4_p1mvf"
      }
    },
    {
      "cell_type": "code",
      "source": [
        "# Making 4 Agents for different Tasks.\n",
        "# Career Coach\n",
        "career_coach = Agent(\n",
        "    role = \"Career Coach\",\n",
        "    goal = \"Suggest a modern and exciting career based on the user's interest\",\n",
        "    backstory = \"You're an expert in modern careers and love helping adults discover their future.\",\n",
        "    llm = llm\n",
        ")\n",
        "\n",
        "#  Motivation Coach\n",
        "motivation_coach = Agent(\n",
        "    role = \"Motivation Coach\",\n",
        "    goal = \"Inspire the student with encouragement and a first action step\",\n",
        "    backstory = \"You're a high-energy motivator who pushes students to chase their dreams.\",\n",
        "    llm = llm\n",
        ")\n",
        "\n",
        "# Resource Finder\n",
        "resource_finder = Agent(\n",
        "    role = \"Learning Resource Expert\",\n",
        "    goal = \"Suggest 1-2 beginner-friendly resources to start learning about the career\",\n",
        "    backstory = \"You're a research genius who finds the best YouTube videos, blog posts, or courses.\",\n",
        "    llm = llm\n",
        ")\n",
        "\n",
        "#  Supervisor Agent\n",
        "supervisor = Agent(\n",
        "    role = \"Career Planning Supervisor\",\n",
        "    goal = \"Review the work of all agents and compile it into a complete final message for the student\",\n",
        "    backstory = \"You're the wise team leader who combines advice into a single, clear, helpful report.\",\n",
        "    llm = llm\n",
        ")\n"
      ],
      "metadata": {
        "id": "ifZJD5K5tbyW"
      },
      "execution_count": null,
      "outputs": []
    },
    {
      "cell_type": "markdown",
      "source": [
        "## 4. Agents Tasks"
      ],
      "metadata": {
        "id": "qyN0KwyK2H6C"
      }
    },
    {
      "cell_type": "code",
      "source": [
        "# Assigning Tasks to all agents\n",
        "# Asking input from user\n",
        "interest = input(\" What are you interested in ?\")\n",
        "\n",
        "# Task 1 - Career suggestion\n",
        "task1 = Task(\n",
        "    description = f\"Suggest a modern, exciting career for a teenager interested in '{interest}'. Give one reason why it fits.\",\n",
        "    expected_output = \"Career name and 1–2 lines of explaination.\",\n",
        "    agent = career_coach\n",
        ")\n",
        "\n",
        "# Task 2 - Motivation message\n",
        "task2 = Task(\n",
        "    description = \"Give a motivational quote or message and suggest a first small action step.\",\n",
        "    expected_output = \"1 quote/message + 1 action step.\",\n",
        "    agent = motivation_coach,\n",
        "    depends_on = [task1]\n",
        ")\n",
        "\n",
        "# Task 3 - Learning resources\n",
        "task3 = Task(\n",
        "    description = \"Find 1–2 beginner-friendly resources (YouTube, blogs, courses) for the career suggested.\",\n",
        "    expected_output = \"List of 1–2 links or descriptions.\",\n",
        "    agent = resource_finder,\n",
        "    depends_on = [task1]\n",
        ")\n",
        "\n",
        "# Task 4 - Supervisor final summary\n",
        "task4 = Task(\n",
        "    description = \"Take the output from all tasks and write a final message for the student with: career name, motivation, and resources.\",\n",
        "    expected_output = \"Final 5–6 line message with all outputs combined.\",\n",
        "    agent = supervisor,\n",
        "    depends_on = [task1, task2, task3]\n",
        ")\n"
      ],
      "metadata": {
        "colab": {
          "base_uri": "https://localhost:8080/"
        },
        "id": "k4_svRb4uIrF",
        "outputId": "331f327b-2bb4-47fe-e7d3-b18cdf7246ee"
      },
      "execution_count": null,
      "outputs": [
        {
          "name": "stdout",
          "output_type": "stream",
          "text": [
            " What are you interested in? gaming\n"
          ]
        }
      ]
    },
    {
      "cell_type": "markdown",
      "source": [
        "## 5. Crew"
      ],
      "metadata": {
        "id": "xZRHZ2JL2yfo"
      }
    },
    {
      "cell_type": "code",
      "source": [
        "# Making a crew\n",
        "crew = Crew(\n",
        "    agents = [career_coach, motivation_coach, resource_finder, supervisor],\n",
        "    tasks = [task1, task2, task3, task4],\n",
        "    manager_llm = llm\n",
        ")\n"
      ],
      "metadata": {
        "id": "GoLQ3AKU3CAp"
      },
      "execution_count": null,
      "outputs": []
    },
    {
      "cell_type": "markdown",
      "source": [
        "## 6. Agents Response"
      ],
      "metadata": {
        "id": "fLNjn6E-3DO4"
      }
    },
    {
      "cell_type": "code",
      "source": [
        "# Geerating Response\n",
        "response = crew.kickoff()\n",
        "\n",
        "# Prnting\n",
        "print(\" Final AI Career Plan:\\n\")\n",
        "print(response)\n"
      ],
      "metadata": {
        "colab": {
          "base_uri": "https://localhost:8080/"
        },
        "id": "Ie_88P_duPEl",
        "outputId": "8c6ce3b6-7f1d-48b2-fad3-91b5971637ee"
      },
      "execution_count": null,
      "outputs": [
        {
          "output_type": "stream",
          "name": "stdout",
          "text": [
            " Final AI Career Plan:\n",
            "\n",
            "As you embark on your journey to becoming a **Game Designer**, remember that your creativity can shape the future of gaming! \"Believe you can and you're halfway there.\" —Theodore Roosevelt. Start by sketching a character or level design for a game you’ve imagined; this will kickstart your creative process. To aid your learning, check out the YouTube video on **Game Design Basics** and enroll in the **Introduction to Game Design** course on Coursera. These resources will help you build a solid foundation in game design, paving the way for you to create amazing gaming experiences!\n"
          ]
        }
      ]
    }
  ]
}