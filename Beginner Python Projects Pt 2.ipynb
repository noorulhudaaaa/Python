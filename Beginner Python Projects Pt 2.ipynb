{
  "cells": [
    {
      "cell_type": "markdown",
      "metadata": {
        "id": "view-in-github",
        "colab_type": "text"
      },
      "source": [
        "<a href=\"https://colab.research.google.com/github/noorulhudaaaa/Python/blob/main/Beginner%20Python%20Projects%20Pt%202.ipynb\" target=\"_parent\"><img src=\"https://colab.research.google.com/assets/colab-badge.svg\" alt=\"Open In Colab\"/></a>"
      ]
    },
    {
      "cell_type": "markdown",
      "source": [
        "# Beginner Python Project Pt.2"
      ],
      "metadata": {
        "id": "TyPxbuCne0Ph"
      }
    },
    {
      "cell_type": "code",
      "source": [
        "# Simple Login System\n",
        "\n",
        "username = \"NoorulHuda\"\n",
        "password = \"noor\"\n",
        "\n",
        "name = input(\"Enter your username: \")\n",
        "passworddd = input(\"Enter your password: \")\n",
        "\n",
        "if username == name and password == passworddd:\n",
        "  print(\"The credentials match. Access Granted!\")\n",
        "\n",
        "else:\n",
        "  print(\"The credential donnot match. Access Denied!\")"
      ],
      "metadata": {
        "colab": {
          "base_uri": "https://localhost:8080/"
        },
        "id": "094RFzrue7LE",
        "outputId": "4384305f-9541-4438-9dff-5c179e2706f3"
      },
      "execution_count": 3,
      "outputs": [
        {
          "output_type": "stream",
          "name": "stdout",
          "text": [
            "Enter your username: NoorulHuda\n",
            "Enter your password: noor\n",
            "The credentials match. Access Granted!\n"
          ]
        }
      ]
    },
    {
      "cell_type": "code",
      "source": [
        "# Traffic Light Simulator\n",
        "\n",
        "for i in range(3):\n",
        "\n",
        " colour = input(\"Please Enter a colour: \")\n",
        "\n",
        " if colour == 'red':\n",
        "  print(\"Stop!\")\n",
        "  break\n",
        "\n",
        " elif colour == 'yellow':\n",
        "  print (\"Get Ready!\")\n",
        "  break\n",
        "\n",
        " elif colour == 'green':\n",
        "  print(\"Go!\")\n",
        "  break\n",
        "\n",
        " elif i < 2:  # For the first two incorrect attempts\n",
        "  print(\"You entered the wrong colour. Enter again!\")\n",
        "\n",
        "else:\n",
        "  print(\"You entered many wrong enteries. System turned off!\")"
      ],
      "metadata": {
        "colab": {
          "base_uri": "https://localhost:8080/"
        },
        "id": "sX7sOOE8hCxU",
        "outputId": "853371fc-4c34-4c92-b8ec-3b9eaa20ed1b"
      },
      "execution_count": 21,
      "outputs": [
        {
          "output_type": "stream",
          "name": "stdout",
          "text": [
            "Please Enter a colour: blue\n",
            "You entered the wrong colour. Enter again!\n",
            "Please Enter a colour: black\n",
            "You entered the wrong colour. Enter again!\n",
            "Please Enter a colour: yellow\n",
            "Get Ready!\n"
          ]
        }
      ]
    },
    {
      "cell_type": "code",
      "source": [
        "# BMI Calculator\n",
        "\n",
        "height = float(input(\"Please enter your height in meters: \"))\n",
        "weight = float(input(\"Please enter your weight in kgs: \"))\n",
        "\n",
        "# Calculate BMI\n",
        "BMI = weight / (height ** 2)\n",
        "\n",
        "if BMI < 18.5:\n",
        "  print (\"You are underwight. Please follow a healthier diet!\")\n",
        "\n",
        "elif BMI >= 18.5 and BMI <= 24.9:\n",
        "  print (\"Your health is just fine, keep it up!\")\n",
        "\n",
        "elif BMI >= 25 and BMI <= 29.9:\n",
        "  print(\"You are overweight. Eat a balanced diet!\")\n",
        "\n",
        "else:\n",
        "  print(\"You are obese! Please start working out along a healthy and balanced diet\")\n",
        "\n"
      ],
      "metadata": {
        "colab": {
          "base_uri": "https://localhost:8080/"
        },
        "id": "810HuWfjiWz7",
        "outputId": "9d14cf3d-e042-41ad-cd9d-6811d49abf6a"
      },
      "execution_count": 30,
      "outputs": [
        {
          "output_type": "stream",
          "name": "stdout",
          "text": [
            "Please enter your height in meters: 1.6891\n",
            "Please enter your weight in kgs: 60\n",
            "Your health is just fine, keep it up!\n"
          ]
        }
      ]
    },
    {
      "cell_type": "code",
      "source": [
        "# Simple Alarm Message\n",
        "\n",
        "import time\n",
        "\n",
        "alarm_time= int(input(\"Please enter a time you would like to set Alarm on : \"))\n",
        "print(\"Alarm Set for \", alarm_time)\n",
        "\n",
        "#getting the current hour\n",
        "current_hour = time.localtime().tm_hour\n",
        "\n",
        "if current_hour == alarm_time:\n",
        "  print(f\"Wake up. It's {current_hour} o'clock.\")\n",
        "\n",
        "else:\n",
        "  print(f\"Not yet! It's {current_hour} o'clock.\" )"
      ],
      "metadata": {
        "colab": {
          "base_uri": "https://localhost:8080/"
        },
        "id": "Ks3xj0N2omF4",
        "outputId": "d97a8218-5daf-4ebc-b7ec-6d485a44b6d0"
      },
      "execution_count": 48,
      "outputs": [
        {
          "output_type": "stream",
          "name": "stdout",
          "text": [
            "Please enter a time you would like to set Alarm on : 12\n",
            "Alarm Set for  12\n",
            "Wake up. It's 12 o'clock.\n"
          ]
        }
      ]
    },
    {
      "cell_type": "code",
      "source": [
        "# Age Checker for Voting\n",
        "\n",
        "age = int(input(\"Please Enter your age: \"))\n",
        "\n",
        "if age >= 18:\n",
        " print(\"You are eligible for voting!\")\n",
        "\n",
        "else:\n",
        "  print(\"You are not eligible for voting!\")"
      ],
      "metadata": {
        "colab": {
          "base_uri": "https://localhost:8080/"
        },
        "id": "ZlX-BeF-vEIG",
        "outputId": "bf619bf3-8f0c-4720-8d5f-60c669f2e577"
      },
      "execution_count": 51,
      "outputs": [
        {
          "output_type": "stream",
          "name": "stdout",
          "text": [
            "Please Enter your age: 17\n",
            "You are not eligible for voting!\n"
          ]
        }
      ]
    }
  ],
  "metadata": {
    "colab": {
      "toc_visible": true,
      "provenance": [],
      "include_colab_link": true
    },
    "kernelspec": {
      "display_name": "Python 3",
      "name": "python3"
    }
  },
  "nbformat": 4,
  "nbformat_minor": 0
}