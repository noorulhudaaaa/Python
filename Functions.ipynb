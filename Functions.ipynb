{
  "nbformat": 4,
  "nbformat_minor": 0,
  "metadata": {
    "colab": {
      "provenance": [],
      "toc_visible": true,
      "authorship_tag": "ABX9TyP0pJTvGh2oVc4Zc1aqYsnO",
      "include_colab_link": true
    },
    "kernelspec": {
      "name": "python3",
      "display_name": "Python 3"
    },
    "language_info": {
      "name": "python"
    }
  },
  "cells": [
    {
      "cell_type": "markdown",
      "metadata": {
        "id": "view-in-github",
        "colab_type": "text"
      },
      "source": [
        "<a href=\"https://colab.research.google.com/github/noorulhudaaaa/Python/blob/main/Functions.ipynb\" target=\"_parent\"><img src=\"https://colab.research.google.com/assets/colab-badge.svg\" alt=\"Open In Colab\"/></a>"
      ]
    },
    {
      "cell_type": "markdown",
      "source": [
        "# Functions"
      ],
      "metadata": {
        "id": "a66l_xkE-chp"
      }
    },
    {
      "cell_type": "code",
      "source": [
        "# blocks of code that can be called multiple times\n",
        "# def keyword and then the name of the function\n",
        "\n",
        "def greet():\n",
        "  print(\"Hello, Wellcome!\")\n",
        "\n",
        "greet()"
      ],
      "metadata": {
        "colab": {
          "base_uri": "https://localhost:8080/"
        },
        "id": "Lrcb6z0Y-hWp",
        "outputId": "0f2b77a8-afe7-4d97-f62f-3d57f977d09f"
      },
      "execution_count": null,
      "outputs": [
        {
          "output_type": "stream",
          "name": "stdout",
          "text": [
            "Hello, Wellcome!\n"
          ]
        }
      ]
    },
    {
      "cell_type": "code",
      "source": [
        "def fullName(fname, lname):\n",
        "  print(fname + \" \" + lname)\n",
        "\n",
        "fullName(\"Noor\", \"ul Huda\")"
      ],
      "metadata": {
        "colab": {
          "base_uri": "https://localhost:8080/"
        },
        "id": "7K3W73vJGg0k",
        "outputId": "ce31b806-8e6d-4153-d873-eceea562c37f"
      },
      "execution_count": 29,
      "outputs": [
        {
          "output_type": "stream",
          "name": "stdout",
          "text": [
            "Noor ul Huda\n"
          ]
        }
      ]
    },
    {
      "cell_type": "code",
      "source": [
        "# Function Syntax\n",
        "\n",
        "def subtract(x,y):\n",
        "    return x - y\n",
        "\n",
        "subtract(7,4)"
      ],
      "metadata": {
        "colab": {
          "base_uri": "https://localhost:8080/"
        },
        "id": "HTqbMQcfBog_",
        "outputId": "4fd35012-fb76-4d74-d022-64ebea1520de"
      },
      "execution_count": null,
      "outputs": [
        {
          "output_type": "execute_result",
          "data": {
            "text/plain": [
              "3"
            ]
          },
          "metadata": {},
          "execution_count": 18
        }
      ]
    },
    {
      "cell_type": "code",
      "source": [
        "# can either print or let the system compile and execute it\n",
        "\n",
        "def Multiply(x,y):\n",
        "    return x * y\n",
        "\n",
        "def divide(x,y):\n",
        "    return x / y\n",
        "\n",
        "print( Multiply(3,4) )\n",
        "divide(10,3)"
      ],
      "metadata": {
        "colab": {
          "base_uri": "https://localhost:8080/"
        },
        "id": "EnA7zk8IDO2G",
        "outputId": "b854f5ab-8328-4d42-8e99-9e910caa681c"
      },
      "execution_count": null,
      "outputs": [
        {
          "output_type": "stream",
          "name": "stdout",
          "text": [
            "12\n"
          ]
        },
        {
          "output_type": "execute_result",
          "data": {
            "text/plain": [
              "3.3333333333333335"
            ]
          },
          "metadata": {},
          "execution_count": 23
        }
      ]
    },
    {
      "cell_type": "code",
      "source": [
        "def power(x,y):\n",
        "    return x ** y\n",
        "\n",
        "def modulus(x,y):\n",
        "    return x // y\n",
        "\n",
        "print( power(3,4) )\n",
        "modulus(19,3)"
      ],
      "metadata": {
        "colab": {
          "base_uri": "https://localhost:8080/"
        },
        "id": "jyYROZ5AGYnN",
        "outputId": "d173d256-4509-460a-a750-a1d7297a0914"
      },
      "execution_count": null,
      "outputs": [
        {
          "output_type": "stream",
          "name": "stdout",
          "text": [
            "81\n"
          ]
        },
        {
          "output_type": "execute_result",
          "data": {
            "text/plain": [
              "6"
            ]
          },
          "metadata": {},
          "execution_count": 26
        }
      ]
    },
    {
      "cell_type": "code",
      "source": [
        "# Return Statement\n",
        "\n",
        "def square(x):\n",
        "   return x*x\n",
        "\n",
        "print(square(7))\n",
        "#   or\n",
        "square(7)"
      ],
      "metadata": {
        "colab": {
          "base_uri": "https://localhost:8080/"
        },
        "id": "xxYotQCTNqCf",
        "outputId": "93568ee4-8597-48c3-9310-4773fc13b75d"
      },
      "execution_count": null,
      "outputs": [
        {
          "output_type": "stream",
          "name": "stdout",
          "text": [
            "49\n"
          ]
        },
        {
          "output_type": "execute_result",
          "data": {
            "text/plain": [
              "49"
            ]
          },
          "metadata": {},
          "execution_count": 52
        }
      ]
    },
    {
      "cell_type": "code",
      "source": [
        "# Calling a function\n",
        "\n",
        "greet()\n",
        "result = power(2,5)\n",
        "\n",
        "print(result)\n"
      ],
      "metadata": {
        "colab": {
          "base_uri": "https://localhost:8080/"
        },
        "id": "vOUcg7pGG6T8",
        "outputId": "55ae95d9-6fc3-45fc-ad4d-7558d33b8064"
      },
      "execution_count": null,
      "outputs": [
        {
          "output_type": "stream",
          "name": "stdout",
          "text": [
            "Hello, Wellcome!\n",
            "32\n"
          ]
        }
      ]
    },
    {
      "cell_type": "code",
      "source": [
        "# Function Arguments/ Parameters\n",
        "\n",
        "def intro(name, age, gender):\n",
        "    print(f\"My name is {name}. I'm {age} years old and I'm a {gender}\")\n",
        "\n",
        "intro(\"Noor\", 24, \"Female\")"
      ],
      "metadata": {
        "colab": {
          "base_uri": "https://localhost:8080/"
        },
        "id": "B1c0GrOHKFhJ",
        "outputId": "c719702a-4cb1-4ee8-fbaf-d9dffc60ba6e"
      },
      "execution_count": null,
      "outputs": [
        {
          "output_type": "stream",
          "name": "stdout",
          "text": [
            "My name is Noor. I'm 24 years old and I'm a Female\n"
          ]
        }
      ]
    },
    {
      "cell_type": "code",
      "source": [
        "# Taking input fromn user using function\n",
        "\n",
        "def intro(name, age, gender):\n",
        "    print(f\"My name is {name}. I'm {age} years old and I'm a {gender}\")\n",
        "\n",
        "name = input(\"Enter your name: \")\n",
        "age = int(input(\"Enter your age: \"))\n",
        "gender = input(\"Enter your gender: \")\n",
        "\n",
        "intro(name, age, gender)"
      ],
      "metadata": {
        "colab": {
          "base_uri": "https://localhost:8080/"
        },
        "id": "jjDxArB5LGmT",
        "outputId": "5929cbe6-c2b0-4555-ef83-c84a2e195f66"
      },
      "execution_count": null,
      "outputs": [
        {
          "output_type": "stream",
          "name": "stdout",
          "text": [
            "Enter your name: Noor\n",
            "Enter your age: 24\n",
            "Enter your gender: Female\n",
            "My name is Noor. I'm 24 years old and I'm a Female\n"
          ]
        }
      ]
    },
    {
      "cell_type": "code",
      "source": [
        "def scope():\n",
        "\n",
        "  x =10\n",
        "  print(\"Scope of Variable: \", x)\n",
        "\n",
        "scope()"
      ],
      "metadata": {
        "colab": {
          "base_uri": "https://localhost:8080/"
        },
        "id": "VV_I3ck0LMtv",
        "outputId": "670a4312-cfc6-4483-a7c4-2a56505e6cb4"
      },
      "execution_count": null,
      "outputs": [
        {
          "output_type": "stream",
          "name": "stdout",
          "text": [
            "Scope of Variable:  10\n"
          ]
        }
      ]
    },
    {
      "cell_type": "code",
      "source": [
        "# Global and Local Variables\n",
        "# Local: only declared and accessible inside a function\n",
        "# Global: Declared Outside and accessible everywhere\n",
        "\n",
        "\n",
        "x= 10   # Global, outside function\n",
        "print(\"Global Variable: \", x)  # accessing outside function\n",
        "\n",
        "def local():\n",
        " x = 50       # local, inside function\n",
        " return x\n",
        "\n",
        "print(\"Global Variable: \", x)\n",
        "print(\"Local Variable: \", local())"
      ],
      "metadata": {
        "colab": {
          "base_uri": "https://localhost:8080/"
        },
        "id": "zk-reB8sPF8n",
        "outputId": "501be9bb-1f02-401c-f328-7bcf967b6183"
      },
      "execution_count": null,
      "outputs": [
        {
          "output_type": "stream",
          "name": "stdout",
          "text": [
            "Global Variable:  10\n",
            "Global Variable:  10\n",
            "Local Variable:  50\n"
          ]
        }
      ]
    },
    {
      "cell_type": "code",
      "source": [
        "x= \"Noor ul Huda\"   # Global, outside function\n",
        "print(\"Global Variable: \", x)  # accessing outside function\n",
        "\n",
        "def local():\n",
        " x = \"Aroosa Nasir\"       # local, inside function\n",
        " return x\n",
        "\n",
        "print(\"My Name is: \", x)\n",
        "print(\"Updated name is: \", local())"
      ],
      "metadata": {
        "colab": {
          "base_uri": "https://localhost:8080/"
        },
        "id": "NnxqL8oAUaYL",
        "outputId": "3a72dd75-a182-4da8-c165-04ebfc1813d5"
      },
      "execution_count": null,
      "outputs": [
        {
          "output_type": "stream",
          "name": "stdout",
          "text": [
            "Global Variable:  Noor ul Huda\n",
            "My Name is:  Noor ul Huda\n",
            "Updated name is:  Aroosa Nasir\n"
          ]
        }
      ]
    },
    {
      "cell_type": "code",
      "source": [
        "def local():\n",
        " x = \"Aroosa Nasir\"       # local, inside function\n",
        " return x\n",
        " x = \"Noor ul Huda\"\n",
        "\n",
        "print(\"My Name is: \", x)\n",
        "print(\"Updated name is: \", local())"
      ],
      "metadata": {
        "colab": {
          "base_uri": "https://localhost:8080/"
        },
        "id": "AyYeW3zyaJjE",
        "outputId": "b9d49758-a2ff-4e3d-e6a7-573d52e98bc5"
      },
      "execution_count": null,
      "outputs": [
        {
          "output_type": "stream",
          "name": "stdout",
          "text": [
            "My Name is:  Noor ul Huda\n",
            "Updated name is:  Aroosa Nasir\n"
          ]
        }
      ]
    },
    {
      "cell_type": "code",
      "source": [
        "# Returning the reverse of input string\n",
        "\n",
        "a = \"Noor ul Huda\"\n",
        "\n",
        "def reverse(s):\n",
        "   return s[::-1]\n",
        "\n",
        "reversed = reverse(a)\n",
        "print(\"Reversed String: \", reversed)\n",
        "\n",
        "#  Or can use same variable aswell becuase the one inside function would be local variable\n",
        "\n",
        "def reverse(a):\n",
        "   return a[::-1]\n",
        "\n",
        "reversed = reverse(a)\n",
        "print(\"Reversed String: \", reversed)"
      ],
      "metadata": {
        "colab": {
          "base_uri": "https://localhost:8080/"
        },
        "id": "DjTW5-9YbST9",
        "outputId": "2be11c2a-8ccf-401f-f64c-990f7c319393"
      },
      "execution_count": null,
      "outputs": [
        {
          "output_type": "stream",
          "name": "stdout",
          "text": [
            "Reversed String:  aduH lu rooN\n",
            "Reversed String:  aduH lu rooN\n"
          ]
        }
      ]
    },
    {
      "cell_type": "code",
      "source": [
        "# Default Arguments  -  allows to set default value for parameters if no value is set\n",
        "\n",
        "def user(namee = \"Guest\"):\n",
        " print (f\"Hello {namee}.\")\n",
        "\n",
        "user(\"Noor ul Huda\")\n",
        "user()"
      ],
      "metadata": {
        "colab": {
          "base_uri": "https://localhost:8080/"
        },
        "id": "4J0v68nvfAHp",
        "outputId": "b18c726f-fbca-4d44-981d-8526a1e16d95"
      },
      "execution_count": null,
      "outputs": [
        {
          "output_type": "stream",
          "name": "stdout",
          "text": [
            "Hello Noor ul Huda.\n",
            "Hello Guest.\n"
          ]
        }
      ]
    },
    {
      "cell_type": "code",
      "source": [
        "def user(namee = \"Guest\"):\n",
        " print (f\"Hello {namee}.\")\n",
        "\n",
        "username= input(\"Enter your name: \")\n",
        "user()"
      ],
      "metadata": {
        "id": "ISdeuolfqAo-",
        "colab": {
          "base_uri": "https://localhost:8080/"
        },
        "outputId": "adba82ee-00f7-470a-892e-2411f3ee2a74"
      },
      "execution_count": 5,
      "outputs": [
        {
          "output_type": "stream",
          "name": "stdout",
          "text": [
            "Enter your name: Noor\n",
            "Hello Guest.\n"
          ]
        }
      ]
    },
    {
      "cell_type": "code",
      "source": [
        "# Keyword Arguments  -  calls a function with named parameters. regardless of orders\n",
        "\n",
        "def student(name, age, marks, course):\n",
        "   print(f\"Name: {name}, Age: {age}, Marks: {marks}, Course: {course}\")\n",
        "\n",
        "student(age=24, name=\"Noor\", course=\"AI\", marks=89)"
      ],
      "metadata": {
        "colab": {
          "base_uri": "https://localhost:8080/"
        },
        "id": "HbAARccJ7fK7",
        "outputId": "8b08f327-885c-4177-87b3-17df72573e75"
      },
      "execution_count": 14,
      "outputs": [
        {
          "output_type": "stream",
          "name": "stdout",
          "text": [
            "Name: Noor, Age: 24, Marks: 89, Course: AI\n"
          ]
        }
      ]
    },
    {
      "cell_type": "code",
      "source": [
        "# taking input\n",
        "\n",
        "def student(name, age, marks, course):\n",
        "   print(f\"Name: {name}, Age: {age}, Marks: {marks}, Course: {course}\")\n",
        "\n",
        "name= input(\"Enter your name: \")\n",
        "age= input(\"Enter your age: \")\n",
        "marks= input(\"Enter your marks: \")\n",
        "course= input(\"Enter your course: \")\n",
        "\n",
        "student(name, age, marks, course)"
      ],
      "metadata": {
        "colab": {
          "base_uri": "https://localhost:8080/"
        },
        "id": "6ZS2ZCxt8twz",
        "outputId": "dd59b928-a541-4d50-b309-af3578ee41b1"
      },
      "execution_count": 10,
      "outputs": [
        {
          "output_type": "stream",
          "name": "stdout",
          "text": [
            "Enter your name: Aroosa Nasir\n",
            "Enter your age: 23\n",
            "Enter your marks: 90\n",
            "Enter your course: DLD\n",
            "Name: Aroosa Nasir, Age: 23, Marks: 90, Course: DLD\n"
          ]
        }
      ]
    },
    {
      "cell_type": "code",
      "source": [
        "# Variable length Arguments\n",
        "# using *args  -  accepts arbitrary number of positional arguments\n",
        "\n",
        "def total(*marks):\n",
        "   print(f\"Marks recieved: {marks}\")\n",
        "   print(f\"Total Marks: {sum(marks)}\")\n",
        "\n",
        "# passing arguments\n",
        "total(59, 88, 64)"
      ],
      "metadata": {
        "colab": {
          "base_uri": "https://localhost:8080/"
        },
        "id": "PytGOcPa9tcN",
        "outputId": "16ada267-bca3-4325-97cf-a1c3eddd0810"
      },
      "execution_count": 17,
      "outputs": [
        {
          "output_type": "stream",
          "name": "stdout",
          "text": [
            "Marks recieved: (59, 88, 64)\n",
            "Total Marks: 211\n"
          ]
        }
      ]
    },
    {
      "cell_type": "code",
      "source": [
        "def add_nums(*nums):\n",
        "    return sum(nums)\n",
        "\n",
        "print(\"Sum of numbers:\", add_nums(3, 5, 7, 8, 9))\n",
        "\n",
        "#   or\n",
        "\n",
        "add_nums(3, 5, 7, 8, 9)"
      ],
      "metadata": {
        "colab": {
          "base_uri": "https://localhost:8080/"
        },
        "id": "cnaNm_6NEqSf",
        "outputId": "a2315ace-956f-4492-f982-fe017bc9d949"
      },
      "execution_count": 28,
      "outputs": [
        {
          "output_type": "stream",
          "name": "stdout",
          "text": [
            "Sum of numbers: 32\n"
          ]
        },
        {
          "output_type": "execute_result",
          "data": {
            "text/plain": [
              "32"
            ]
          },
          "metadata": {},
          "execution_count": 28
        }
      ]
    },
    {
      "cell_type": "code",
      "source": [
        "def child(*kids):\n",
        "  print(\"The youngest child is\", kids[2])\n",
        "\n",
        "child(\"Noor\", \"Aroosa\", \"Amna\")"
      ],
      "metadata": {
        "colab": {
          "base_uri": "https://localhost:8080/"
        },
        "id": "1GhCAfLiG5TZ",
        "outputId": "0c015a24-fc8a-4d86-d8da-ebb774c440e3"
      },
      "execution_count": 34,
      "outputs": [
        {
          "output_type": "stream",
          "name": "stdout",
          "text": [
            "The youngest child is Amna\n"
          ]
        }
      ]
    },
    {
      "cell_type": "code",
      "source": [
        "# Variable length Keyword Arguments\n",
        "# using *kwargs  -  accepts an arbitrary number of keyword arguments\n",
        "\n",
        "def profile(**info):\n",
        "  for key, value in info.items():\n",
        "     print(f\"{key}: {value}\")\n",
        "\n",
        "profile(Name= \"Noor\", Age= 24, Course= \"AI\")"
      ],
      "metadata": {
        "colab": {
          "base_uri": "https://localhost:8080/"
        },
        "id": "Gmy4jFxHBkE_",
        "outputId": "985f1c8c-9f89-4740-cb56-3b77460684f4"
      },
      "execution_count": 25,
      "outputs": [
        {
          "output_type": "stream",
          "name": "stdout",
          "text": [
            "Name: Noor\n",
            "Age: 24\n",
            "Course: AI\n"
          ]
        }
      ]
    },
    {
      "cell_type": "code",
      "source": [
        "def child(**kid):\n",
        "  print(\"His last name is\",  kid[\"lname\"])\n",
        "\n",
        "child(fname = \"Sohail\", lname = \"Ali\")"
      ],
      "metadata": {
        "colab": {
          "base_uri": "https://localhost:8080/"
        },
        "id": "o87iaQyoHfcb",
        "outputId": "a6432671-2be5-4e07-bf76-bc7b15150a02"
      },
      "execution_count": 38,
      "outputs": [
        {
          "output_type": "stream",
          "name": "stdout",
          "text": [
            "His last name is Ali\n"
          ]
        }
      ]
    }
  ]
}