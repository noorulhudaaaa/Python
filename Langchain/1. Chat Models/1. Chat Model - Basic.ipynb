{
  "nbformat": 4,
  "nbformat_minor": 0,
  "metadata": {
    "colab": {
      "provenance": []
    },
    "kernelspec": {
      "name": "python3",
      "display_name": "Python 3"
    },
    "language_info": {
      "name": "python"
    }
  },
  "cells": [
    {
      "cell_type": "code",
      "execution_count": 14,
      "metadata": {
        "id": "gLq-BWC6XE4S"
      },
      "outputs": [],
      "source": [
        "! pip install langchain-google-genai python-dotenv"
      ]
    },
    {
      "cell_type": "code",
      "source": [
        "# Importing Libraries\n",
        "from langchain_google_genai import ChatGoogleGenerativeAI\n",
        "from google.colab import userdata\n"
      ],
      "metadata": {
        "id": "5d9BusGaXO53"
      },
      "execution_count": 19,
      "outputs": []
    },
    {
      "cell_type": "code",
      "source": [
        "# Getting the API KEY\n",
        "API_KEY = userdata.get('GOOGLE_API_KEY')\n",
        "\n",
        "# Selecting the model of gemini.\n",
        "llm = ChatGoogleGenerativeAI(\n",
        "    model=\"gemini-2.0-flash\",\n",
        "    google_api_key= API_KEY  # explicitly passing the key\n",
        ")\n"
      ],
      "metadata": {
        "id": "NzxoOu7lXweC"
      },
      "execution_count": 20,
      "outputs": []
    },
    {
      "cell_type": "code",
      "source": [
        "# Getting the response for our question\n",
        "question = input('Please Enter Your Question: ')\n",
        "response = llm.invoke(question)\n",
        "\n",
        "# Content removes all unnecessary things from response.\n",
        "print(response.content)"
      ],
      "metadata": {
        "colab": {
          "base_uri": "https://localhost:8080/"
        },
        "id": "hW5-HR7QYP2v",
        "outputId": "64dbaae3-2c57-44b5-f59e-494d1eb2de64"
      },
      "execution_count": 22,
      "outputs": [
        {
          "output_type": "stream",
          "name": "stdout",
          "text": [
            "Please Enter Your Question: What is the square root of 5?\n",
            "The square root of 5 is an irrational number, which means it cannot be expressed as a simple fraction. Its decimal representation goes on forever without repeating.\n",
            "\n",
            "The approximate value of the square root of 5 is:\n",
            "\n",
            "**√5 ≈ 2.236067977...**\n",
            "\n",
            "For most practical purposes, you can round it to 2.24 or 2.236.\n"
          ]
        }
      ]
    }
  ]
}