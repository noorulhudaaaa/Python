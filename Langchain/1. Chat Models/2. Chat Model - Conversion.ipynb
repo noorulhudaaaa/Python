{
  "nbformat": 4,
  "nbformat_minor": 0,
  "metadata": {
    "colab": {
      "provenance": [],
      "toc_visible": true
    },
    "kernelspec": {
      "name": "python3",
      "display_name": "Python 3"
    },
    "language_info": {
      "name": "python"
    }
  },
  "cells": [
    {
      "cell_type": "markdown",
      "source": [
        "# Chat Model Conversion\n",
        "## Types of Messages in LangChain\n",
        "\n",
        "| Message Type     | Purpose                                                                 | Example                                                                                                         |\n",
        "| ---------------- | ----------------------------------------------------------------------- | --------------------------------------------------------------------------------------------------------------- |\n",
        "| **SystemMessage** | Sets the AI’s role and defines the overall context of the conversation. | *“You are a marketing strategist with expertise in digital campaigns.”*                                         |\n",
        "| **UserMessage**   | Captures the user’s input, query, or request.                          | *“How can AI improve customer engagement in marketing?”*                                                        |\n",
        "| **AIMessage**     | The AI’s response, generated based on the system role and user’s query.| *“AI can enhance engagement through personalization, predictive analytics, and automated customer interactions.”* |\n",
        "|    \n",
        "\n"
      ],
      "metadata": {
        "id": "GNqjdmnJllKT"
      }
    },
    {
      "cell_type": "code",
      "source": [
        "! pip install langchain-google-genai"
      ],
      "metadata": {
        "id": "pCAQbOXRnItn"
      },
      "execution_count": 4,
      "outputs": []
    },
    {
      "cell_type": "code",
      "source": [
        "# Importing Necessary Libraries\n",
        "from langchain_google_genai import ChatGoogleGenerativeAI\n",
        "from langchain_core.messages import SystemMessage, AIMessage, HumanMessage\n",
        "from google.colab import userdata\n"
      ],
      "metadata": {
        "id": "h-q-QUZKmQ0u"
      },
      "execution_count": 5,
      "outputs": []
    },
    {
      "cell_type": "code",
      "source": [
        "# Getting the API KEY\n",
        "API_KEY = userdata.get('GOOGLE_API_KEY')\n"
      ],
      "metadata": {
        "id": "3kbe6feFnPjP"
      },
      "execution_count": 6,
      "outputs": []
    },
    {
      "cell_type": "code",
      "source": [
        "# Choosing the model\n",
        "llm = ChatGoogleGenerativeAI(\n",
        "    model = \"gemini-2.0-flash\",\n",
        "    google_api_key = API_KEY\n",
        ")\n"
      ],
      "metadata": {
        "id": "nCk_q1XWne4h"
      },
      "execution_count": 7,
      "outputs": []
    },
    {
      "cell_type": "code",
      "source": [
        "# Creating the Message and getting Response\n",
        "message = [\n",
        "    SystemMessage(\"You are a professional career coach specializing in interview preparation\"),\n",
        "    HumanMessage(\"Share one quick tip to handle tough interview questions with confidence!\")\n",
        "]\n",
        "response = llm.invoke(message)\n",
        "print(response.content)\n"
      ],
      "metadata": {
        "colab": {
          "base_uri": "https://localhost:8080/"
        },
        "id": "4w0e-iJ3nxyy",
        "outputId": "f38ff693-93cd-4aac-bcdf-f11509a6e978"
      },
      "execution_count": 8,
      "outputs": [
        {
          "output_type": "stream",
          "name": "stdout",
          "text": [
            "Okay, here's one quick, powerful tip to handle tough interview questions with confidence:\n",
            "\n",
            "**Use the \"Pause, Rephrase, Answer\" Technique.**\n",
            "\n",
            "*   **Pause:** When you get a tough question, don't rush to answer. Take a deliberate breath and pause for 2-3 seconds. This gives you time to collect your thoughts and avoid rambling.\n",
            "*   **Rephrase:** Rephrase the question in your own words. This confirms you understand the question and buys you even more time to formulate your response. For example, \"So, what you're asking is about a time I faced a significant challenge and how I overcame it?\"\n",
            "*   **Answer:** Now, deliver your thoughtful and well-structured answer.\n",
            "\n",
            "**Why this works:**\n",
            "\n",
            "*   **Reduces Panic:** The pause prevents you from blurting out the first thing that comes to mind.\n",
            "*   **Clarifies Understanding:** Rephrasing ensures you're answering the right question.\n",
            "*   **Builds Confidence:** It shows you're thoughtful and in control, even when faced with a difficult question.\n",
            "\n",
            "Good luck with your interview! Let me know if you'd like another tip!\n"
          ]
        }
      ]
    }
  ]
}