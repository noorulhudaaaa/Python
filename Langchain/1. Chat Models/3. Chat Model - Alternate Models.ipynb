{
  "nbformat": 4,
  "nbformat_minor": 0,
  "metadata": {
    "colab": {
      "provenance": [],
      "toc_visible": true
    },
    "kernelspec": {
      "name": "python3",
      "display_name": "Python 3"
    },
    "language_info": {
      "name": "python"
    }
  },
  "cells": [
    {
      "cell_type": "markdown",
      "source": [
        "# Chat Model - Alternate Models\n",
        "Any Model can be used."
      ],
      "metadata": {
        "id": "GNqjdmnJllKT"
      }
    },
    {
      "cell_type": "code",
      "source": [
        "! pip install langchain-google-genai"
      ],
      "metadata": {
        "id": "pCAQbOXRnItn"
      },
      "execution_count": 4,
      "outputs": []
    },
    {
      "cell_type": "code",
      "source": [
        "# Importing Necessary Libraries\n",
        "from langchain_google_genai import ChatGoogleGenerativeAI\n",
        "from langchain_core.messages import SystemMessage, AIMessage, HumanMessage\n",
        "from google.colab import userdata\n"
      ],
      "metadata": {
        "id": "h-q-QUZKmQ0u"
      },
      "execution_count": 5,
      "outputs": []
    },
    {
      "cell_type": "code",
      "source": [
        "# Getting the API KEY\n",
        "API_KEY = userdata.get('GOOGLE_API_KEY')\n"
      ],
      "metadata": {
        "id": "3kbe6feFnPjP"
      },
      "execution_count": 6,
      "outputs": []
    },
    {
      "cell_type": "markdown",
      "source": [
        "## 1. Model (Using Gemini 2.0 Flash)"
      ],
      "metadata": {
        "id": "AJdeUVzuqpKT"
      }
    },
    {
      "cell_type": "code",
      "source": [
        "# Choosing the model\n",
        "llm = ChatGoogleGenerativeAI(\n",
        "    model = \"gemini-2.0-flash\",\n",
        "    google_api_key = API_KEY\n",
        ")\n"
      ],
      "metadata": {
        "id": "nCk_q1XWne4h"
      },
      "execution_count": 7,
      "outputs": []
    },
    {
      "cell_type": "code",
      "source": [
        "# Creating the Message and getting Response\n",
        "messages = [\n",
        "    SystemMessage(\"You are a travel planning assistant who gives short and clear suggestions.\"),\n",
        "    HumanMessage(\"What are three must-visit places in Paris?\")\n",
        "]\n",
        "response = llm.invoke(messages)\n",
        "print(response.content)\n"
      ],
      "metadata": {
        "colab": {
          "base_uri": "https://localhost:8080/"
        },
        "id": "4w0e-iJ3nxyy",
        "outputId": "ece74562-697d-46e9-f7be-68770244cc2c"
      },
      "execution_count": 23,
      "outputs": [
        {
          "output_type": "stream",
          "name": "stdout",
          "text": [
            "1.  **Eiffel Tower:** Iconic landmark with stunning city views.\n",
            "2.  **Louvre Museum:** Home to masterpieces like the Mona Lisa.\n",
            "3.  **Notre-Dame Cathedral:** Beautiful Gothic architecture (currently under restoration, but still impressive).\n"
          ]
        }
      ]
    },
    {
      "cell_type": "markdown",
      "source": [
        "## 2. Model (Using Gemini 1.5 Flash)"
      ],
      "metadata": {
        "id": "tIz1V7f1q6jo"
      }
    },
    {
      "cell_type": "code",
      "source": [
        "# Choosing the Model\n",
        "llm1 = ChatGoogleGenerativeAI(\n",
        "    model = \"gemini-1.5-flash\",\n",
        "    google_api_key = API_KEY\n",
        ")\n"
      ],
      "metadata": {
        "id": "D_p0wpTzrB5D"
      },
      "execution_count": 20,
      "outputs": []
    },
    {
      "cell_type": "code",
      "source": [
        "# Givig Messages and Getting Re4sponse from Model\n",
        "messages = [\n",
        "    SystemMessage(\"You are a travel planning assistant who gives short and clear suggestions.\"),\n",
        "    HumanMessage(\"What are three must-visit places in Paris?\")\n",
        "]\n",
        "\n",
        "response = llm1.invoke(messages)\n",
        "print(response.content)\n"
      ],
      "metadata": {
        "colab": {
          "base_uri": "https://localhost:8080/"
        },
        "id": "kXNXNTU1rTyD",
        "outputId": "5d53002e-16f4-416e-ecb2-b9979c26887e"
      },
      "execution_count": 19,
      "outputs": [
        {
          "output_type": "stream",
          "name": "stdout",
          "text": [
            "1. Eiffel Tower\n",
            "2. Louvre Museum\n",
            "3. Notre Dame Cathedral\n"
          ]
        }
      ]
    }
  ]
}