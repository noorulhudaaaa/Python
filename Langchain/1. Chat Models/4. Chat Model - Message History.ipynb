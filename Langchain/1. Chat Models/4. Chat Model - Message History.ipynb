{
  "nbformat": 4,
  "nbformat_minor": 0,
  "metadata": {
    "colab": {
      "provenance": [],
      "toc_visible": true
    },
    "kernelspec": {
      "name": "python3",
      "display_name": "Python 3"
    },
    "language_info": {
      "name": "python"
    }
  },
  "cells": [
    {
      "cell_type": "markdown",
      "source": [
        "# Chat Model - History of Messages\n"
      ],
      "metadata": {
        "id": "GNqjdmnJllKT"
      }
    },
    {
      "cell_type": "code",
      "source": [
        "! pip install langchain-google-genai"
      ],
      "metadata": {
        "id": "pCAQbOXRnItn"
      },
      "execution_count": 4,
      "outputs": []
    },
    {
      "cell_type": "code",
      "source": [
        "# Importing Necessary Libraries\n",
        "from langchain_google_genai import ChatGoogleGenerativeAI\n",
        "from langchain_core.messages import SystemMessage, AIMessage, HumanMessage\n",
        "from google.colab import userdata\n"
      ],
      "metadata": {
        "id": "h-q-QUZKmQ0u"
      },
      "execution_count": 5,
      "outputs": []
    },
    {
      "cell_type": "code",
      "source": [
        "# Getting the API KEY\n",
        "API_KEY = userdata.get('GOOGLE_API_KEY')\n"
      ],
      "metadata": {
        "id": "3kbe6feFnPjP"
      },
      "execution_count": 24,
      "outputs": []
    },
    {
      "cell_type": "code",
      "source": [
        "# Choosing the model\n",
        "llm = ChatGoogleGenerativeAI(\n",
        "    model = \"gemini-2.0-flash\",\n",
        "    google_api_key = API_KEY\n",
        ")\n"
      ],
      "metadata": {
        "id": "nCk_q1XWne4h"
      },
      "execution_count": 25,
      "outputs": []
    },
    {
      "cell_type": "code",
      "source": [
        "# Storing Messages\n",
        "# Taking an empty array for message storation\n",
        "chat_history = []\n",
        "sysMessage = SystemMessage(\"You are a helpful AI Assistant.\")\n",
        "\n",
        "# Storing system message in chat history\n",
        "chat_history.append(sysMessage)\n",
        "print(\"How can I help you?\")\n",
        "\n",
        "# Condition for quit or exit\n",
        "while True:\n",
        "  user_input = input(\"Q: \")\n",
        "  if user_input == \"quit\" or user_input == \"exit\":\n",
        "    break\n",
        "  chat_history.append(HumanMessage(content = user_input))\n",
        "  print(f\"You: {user_input}\")\n",
        "\n",
        "  # Getting response for the message\n",
        "  response = llm.invoke(chat_history)\n",
        "  result=response.content\n",
        "  chat_history.append(AIMessage(content = result))\n",
        "  print(f\"AI: {result}\")\n",
        "\n",
        "# Printing the whole message history\n",
        "print(\"--Message History--\")\n",
        "print(chat_history)\n"
      ],
      "metadata": {
        "colab": {
          "base_uri": "https://localhost:8080/"
        },
        "id": "4w0e-iJ3nxyy",
        "outputId": "853dd2cb-f6cf-4d8e-ad29-7994e367b2bd"
      },
      "execution_count": 35,
      "outputs": [
        {
          "output_type": "stream",
          "name": "stdout",
          "text": [
            "How can I help you?\n",
            "Q: Q: What is the capital of Japan?\n",
            "You: Q: What is the capital of Japan?\n",
            "AI: A: The capital of Japan is Tokyo.\n",
            "Q: Q: Who wrote 'Romeo and Juliet'?\n",
            "You: Q: Who wrote 'Romeo and Juliet'?\n",
            "AI: A: William Shakespeare wrote 'Romeo and Juliet'.\n",
            "Q: Q: Name one planet in our solar system.\n",
            "You: Q: Name one planet in our solar system.\n",
            "AI: A: Earth\n",
            "Q: Q: What is 5 + 7?\n",
            "You: Q: What is 5 + 7?\n",
            "AI: A: 5 + 7 = 12\n",
            "Q: quit\n",
            "--Message History--\n",
            "[SystemMessage(content='You are a helpful AI Assistant.', additional_kwargs={}, response_metadata={}), HumanMessage(content='Q: What is the capital of Japan?', additional_kwargs={}, response_metadata={}), AIMessage(content='A: The capital of Japan is Tokyo.', additional_kwargs={}, response_metadata={}), HumanMessage(content=\"Q: Who wrote 'Romeo and Juliet'?\", additional_kwargs={}, response_metadata={}), AIMessage(content=\"A: William Shakespeare wrote 'Romeo and Juliet'.\", additional_kwargs={}, response_metadata={}), HumanMessage(content='Q: Name one planet in our solar system.', additional_kwargs={}, response_metadata={}), AIMessage(content='A: Earth', additional_kwargs={}, response_metadata={}), HumanMessage(content='Q: What is 5 + 7?', additional_kwargs={}, response_metadata={}), AIMessage(content='A: 5 + 7 = 12', additional_kwargs={}, response_metadata={})]\n"
          ]
        }
      ]
    }
  ]
}