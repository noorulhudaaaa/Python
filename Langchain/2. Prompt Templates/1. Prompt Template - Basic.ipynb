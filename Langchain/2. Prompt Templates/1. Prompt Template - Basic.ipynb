{
  "nbformat": 4,
  "nbformat_minor": 0,
  "metadata": {
    "colab": {
      "provenance": [],
      "toc_visible": true
    },
    "kernelspec": {
      "name": "python3",
      "display_name": "Python 3"
    },
    "language_info": {
      "name": "python"
    }
  },
  "cells": [
    {
      "cell_type": "markdown",
      "source": [
        "# Prompt Template - Basic\n"
      ],
      "metadata": {
        "id": "GNqjdmnJllKT"
      }
    },
    {
      "cell_type": "code",
      "source": [
        "! pip install langchain-google-genai"
      ],
      "metadata": {
        "id": "pCAQbOXRnItn"
      },
      "execution_count": 4,
      "outputs": []
    },
    {
      "cell_type": "code",
      "source": [
        "# Importing Necessary Libraries\n",
        "from langchain_google_genai import ChatGoogleGenerativeAI\n",
        "from langchain_core.prompts import ChatPromptTemplate\n",
        "from google.colab import userdata\n"
      ],
      "metadata": {
        "id": "h-q-QUZKmQ0u"
      },
      "execution_count": 36,
      "outputs": []
    },
    {
      "cell_type": "code",
      "source": [
        "# Getting the API KEY\n",
        "API_KEY = userdata.get('GOOGLE_API_KEY')\n"
      ],
      "metadata": {
        "id": "3kbe6feFnPjP"
      },
      "execution_count": 24,
      "outputs": []
    },
    {
      "cell_type": "code",
      "source": [
        "# Choosing the model\n",
        "llm = ChatGoogleGenerativeAI(\n",
        "    model = \"gemini-2.0-flash\",\n",
        "    google_api_key = API_KEY\n",
        ")\n"
      ],
      "metadata": {
        "id": "nCk_q1XWne4h"
      },
      "execution_count": 25,
      "outputs": []
    },
    {
      "cell_type": "markdown",
      "source": [
        "## Example 1:"
      ],
      "metadata": {
        "id": "Esk3eB9AzwOa"
      }
    },
    {
      "cell_type": "code",
      "source": [
        "# Providing a Template\n",
        "# {tone}, {topic}, and {skill} will be filled in later dynamically\n",
        "template = (\n",
        "    \"Write a {tone} LinkedIn post about {topic}. \" \\\n",
        "    \"Highlight {skill} as a key expertise area \" \\\n",
        "    \"and make it engaging in under 5 lines.\"\n",
        ")\n",
        "\n",
        "# Converting the template into a ChatPromptTemplate\n",
        "prompt_template = ChatPromptTemplate.from_template(template)\n",
        "\n",
        "# Filling the template with actual values\n",
        "prompt = prompt_template.invoke({\n",
        "    \"tone\": \"professional\",\n",
        "    \"topic\": \"the importance of clean data in analytics\",\n",
        "    \"skill\": \"SQL | Power BI | Data Visualization\"\n",
        "})\n",
        "\n",
        "# The 'prompt' now contains a ready-to-use LinkedIn post prompt\n",
        "# Getting response\n",
        "response = llm.invoke(prompt)\n",
        "print(response.content)\n"
      ],
      "metadata": {
        "colab": {
          "base_uri": "https://localhost:8080/"
        },
        "id": "sMO44qZgzzQa",
        "outputId": "8aed7ec2-e60d-4d7f-c0cf-99dba693f6eb"
      },
      "execution_count": 39,
      "outputs": [
        {
          "output_type": "stream",
          "name": "stdout",
          "text": [
            "Garbage in, garbage out! Clean data is the bedrock of accurate analytics. I help businesses unlock insights with pristine data using SQL, Power BI, and compelling data visualizations. Let's transform raw data into actionable intelligence. #DataAnalytics #SQL #PowerBI #DataVisualization\n"
          ]
        }
      ]
    },
    {
      "cell_type": "markdown",
      "source": [
        "## Example 2:"
      ],
      "metadata": {
        "id": "mhYAa2i-3SGv"
      }
    },
    {
      "cell_type": "code",
      "source": [
        "# Providing a Template\n",
        "# {tip_type} and {tip_count} will be filled in later dynamically\n",
        "messages = [\n",
        "    (\"system\", \"You are a fitness coach who shares quick {tip_type} tips.\"),\n",
        "    (\"human\", \"Give me {tip_count} tips I can use daily.\")\n",
        "]\n",
        "\n",
        "# Converting the messages into a ChatPromptTemplate\n",
        "prompt_template = ChatPromptTemplate.from_messages(messages)\n",
        "\n",
        "# Filling the template with actual values\n",
        "prompt = prompt_template.invoke({\n",
        "    \"tip_type\": \"health & wellness\",\n",
        "    \"tip_count\": 3\n",
        "})\n",
        "\n",
        "# The 'prompt' now contains a ready-to-use LinkedIn post prompt\n",
        "# Getting response\n",
        "response = llm.invoke(prompt)\n",
        "print(response.content)\n"
      ],
      "metadata": {
        "colab": {
          "base_uri": "https://localhost:8080/"
        },
        "id": "BvpNfYVD3VtP",
        "outputId": "555f06a8-7a26-431a-ac1b-827a15a96341"
      },
      "execution_count": 43,
      "outputs": [
        {
          "output_type": "stream",
          "name": "stdout",
          "text": [
            "Alright, here are 3 daily tips to boost your health and wellness:\n",
            "\n",
            "1.  **Hydrate First Thing:** Before you reach for coffee or breakfast, drink a glass of water. It helps kickstart your metabolism, rehydrates you after sleep, and can improve energy levels.\n",
            "\n",
            "2.  **Move for 15 Minutes:** It doesn't have to be a full workout! A brisk walk, some stretching, dancing to your favorite song, or a quick bodyweight circuit can make a big difference in your energy and mood.\n",
            "\n",
            "3.  **Practice Mindful Breathing:** Take a few minutes each day to focus on your breath. Inhale deeply, hold for a moment, and exhale slowly. This can reduce stress, improve focus, and promote relaxation.\n"
          ]
        }
      ]
    }
  ]
}