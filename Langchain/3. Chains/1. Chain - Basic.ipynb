{
  "nbformat": 4,
  "nbformat_minor": 0,
  "metadata": {
    "colab": {
      "provenance": [],
      "toc_visible": true
    },
    "kernelspec": {
      "name": "python3",
      "display_name": "Python 3"
    },
    "language_info": {
      "name": "python"
    }
  },
  "cells": [
    {
      "cell_type": "markdown",
      "source": [
        "# 🔗 Chain in LangChain\n",
        "\n",
        "In LangChain, a chain refers to a sequence of steps or operations that are linked together to complete a task.\n",
        "Think of it as running Step1 → Step2 → Step3 in a connected workflow, instead of just calling the LLM directly.\n",
        "Chains help in building more structured, complex, and scalable applications.\n",
        "\n",
        "## 🛠️ Types of Chains\n",
        "### 1. Sequential (or Linear) Chaining\n",
        "\n",
        "Each step is executed one after the other in a straight line.\n",
        "\n",
        "Example: Writing an outline → Expanding it into paragraphs → Summarizing the content.\n",
        "\n",
        "### 2. Parallel Chaining\n",
        "\n",
        "Multiple tasks are executed at the same time to save time.\n",
        "\n",
        "Example: Preparing lunch → Cutting vegetables, boiling pasta, and making sauce all at once.\n",
        "\n",
        "### 3. Conditional Chaining\n",
        "\n",
        "The next task depends on a condition or decision.\n",
        "\n",
        "Example: If a user’s feedback is positive → Generate a thank-you note.\n",
        "Otherwise → Create an apology with an improvement plan.\n",
        "\n",
        "This way, chains provide flexibility and efficiency in building real-world AI workflows.\n"
      ],
      "metadata": {
        "id": "GNqjdmnJllKT"
      }
    },
    {
      "cell_type": "code",
      "source": [
        "! pip install langchain-google-genai"
      ],
      "metadata": {
        "id": "pCAQbOXRnItn"
      },
      "execution_count": 4,
      "outputs": []
    },
    {
      "cell_type": "code",
      "source": [
        "# Importing Necessary Libraries\n",
        "from langchain_google_genai import ChatGoogleGenerativeAI\n",
        "from langchain_core.prompts import ChatPromptTemplate\n",
        "from langchain.schema.output_parser import StrOutputParser\n",
        "from google.colab import userdata\n"
      ],
      "metadata": {
        "id": "h-q-QUZKmQ0u"
      },
      "execution_count": 44,
      "outputs": []
    },
    {
      "cell_type": "code",
      "source": [
        "# Getting the API KEY\n",
        "API_KEY = userdata.get('GOOGLE_API_KEY')\n"
      ],
      "metadata": {
        "id": "3kbe6feFnPjP"
      },
      "execution_count": 24,
      "outputs": []
    },
    {
      "cell_type": "code",
      "source": [
        "# Choosing the model\n",
        "llm = ChatGoogleGenerativeAI(\n",
        "    model = \"gemini-2.0-flash\",\n",
        "    google_api_key = API_KEY\n",
        ")\n"
      ],
      "metadata": {
        "id": "nCk_q1XWne4h"
      },
      "execution_count": 25,
      "outputs": []
    },
    {
      "cell_type": "code",
      "source": [
        "# Providing a Template\n",
        "messages = [\n",
        "    (\"system\", \"You are a facts expert who knows facts about {animal}.\"),\n",
        "    (\"human\", \"Tell me {facts_count} facts.\")\n",
        "]\n",
        "\n",
        "# Converting the messages into a ChatPromptTemplate\n",
        "prompt_template = ChatPromptTemplate.from_messages(messages)\n",
        "\n",
        "# Making a chain\n",
        "chain = prompt_template | llm | StrOutputParser()\n",
        "\n",
        "# Filling the chain with actual values\n",
        "response = chain.invoke({\n",
        "    \"animal\":\"cat\" , \"facts_count\":5\n",
        "})\n",
        "\n",
        "# Getting response\n",
        "print(response)\n"
      ],
      "metadata": {
        "colab": {
          "base_uri": "https://localhost:8080/"
        },
        "id": "sMO44qZgzzQa",
        "outputId": "c1e83914-6077-4aa9-c70d-b50687364071"
      },
      "execution_count": 47,
      "outputs": [
        {
          "output_type": "stream",
          "name": "stdout",
          "text": [
            "Okay, here are 5 facts about cats:\n",
            "\n",
            "1.  **Cats have a third eyelid:** Known as a nictitating membrane, this eyelid provides extra protection and helps keep the eye lubricated. You usually only see it if a cat is sick or very relaxed.\n",
            "\n",
            "2.  **A cat's nose print is unique, just like a human's fingerprint:** The pattern of ridges and bumps on a cat's nose is distinct to each individual cat.\n",
            "\n",
            "3.  **Cats can make over 100 different vocalizations:** In contrast, dogs can only make about 10!\n",
            "\n",
            "4.  **Cats sleep an average of 12-16 hours a day:** This helps them conserve energy for hunting.\n",
            "\n",
            "5.  **Cats can't taste sweetness:** This is due to a genetic defect in their taste receptors.\n"
          ]
        }
      ]
    }
  ]
}