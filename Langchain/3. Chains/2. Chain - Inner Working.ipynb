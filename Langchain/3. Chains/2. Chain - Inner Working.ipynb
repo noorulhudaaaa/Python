{
  "nbformat": 4,
  "nbformat_minor": 0,
  "metadata": {
    "colab": {
      "provenance": [],
      "toc_visible": true
    },
    "kernelspec": {
      "name": "python3",
      "display_name": "Python 3"
    },
    "language_info": {
      "name": "python"
    }
  },
  "cells": [
    {
      "cell_type": "markdown",
      "source": [
        "# Chain - Inner Working\n",
        "\n"
      ],
      "metadata": {
        "id": "GNqjdmnJllKT"
      }
    },
    {
      "cell_type": "code",
      "source": [
        "! pip install langchain-google-genai"
      ],
      "metadata": {
        "id": "pCAQbOXRnItn"
      },
      "execution_count": 2,
      "outputs": []
    },
    {
      "cell_type": "code",
      "source": [
        "# Importing Necessary Libraries\n",
        "from langchain_google_genai import ChatGoogleGenerativeAI\n",
        "from langchain_core.prompts import ChatPromptTemplate\n",
        "from langchain.schema.output_parser import StrOutputParser\n",
        "from langchain_core.runnables import RunnableLambda, RunnableSequence\n",
        "from google.colab import userdata\n"
      ],
      "metadata": {
        "id": "h-q-QUZKmQ0u"
      },
      "execution_count": 3,
      "outputs": []
    },
    {
      "cell_type": "code",
      "source": [
        "# Getting the API KEY\n",
        "API_KEY = userdata.get('GOOGLE_API_KEY')\n"
      ],
      "metadata": {
        "id": "3kbe6feFnPjP"
      },
      "execution_count": 4,
      "outputs": []
    },
    {
      "cell_type": "code",
      "source": [
        "# Choosing the model\n",
        "llm = ChatGoogleGenerativeAI(\n",
        "    model = \"gemini-2.0-flash\",\n",
        "    google_api_key = API_KEY\n",
        ")\n"
      ],
      "metadata": {
        "id": "nCk_q1XWne4h"
      },
      "execution_count": 5,
      "outputs": []
    },
    {
      "cell_type": "code",
      "source": [
        "# Providing messages\n",
        "messages = [\n",
        "    (\"system\", \"You are a facts expert who knows facts about {animal}.\"),\n",
        "    (\"human\", \"Tell me {count} facts.\"),\n",
        "]\n",
        "\n",
        "# Converting the messages into a ChatPromptTemplate\n",
        "prompt_template = ChatPromptTemplate.from_messages(messages)\n"
      ],
      "metadata": {
        "id": "sMO44qZgzzQa"
      },
      "execution_count": 6,
      "outputs": []
    },
    {
      "cell_type": "code",
      "source": [
        "# This takes your input (x) and uses the prompt_template to fill in the blanks (like animal, count)\n",
        "# So that it creates a properly formatted prompt.\n",
        "format_prompt = RunnableLambda(lambda x: prompt_template.format_prompt(**x))\n",
        "\n",
        "# This takes the formatted prompt and sends it to the AI model (llm) to get a response.\n",
        "invoke_prompt = RunnableLambda(lambda x: llm.invoke(x.to_messages()))\n",
        "\n",
        "# This takes the AI’s response and extracts only the text (content) from it.\n",
        "parse_output = RunnableLambda(lambda x: x.content)\n"
      ],
      "metadata": {
        "id": "QaMHIK3Xg4VN"
      },
      "execution_count": 9,
      "outputs": []
    },
    {
      "cell_type": "code",
      "source": [
        "# Making a chain\n",
        "chain = RunnableSequence(format_prompt | invoke_prompt | parse_output)\n",
        "\n",
        "# Filling the chain with actual values\n",
        "response = chain.invoke({\n",
        "    \"animal\":\"cat\" , \"count\":3\n",
        "})\n",
        "\n",
        "# Getting response\n",
        "print(response)"
      ],
      "metadata": {
        "colab": {
          "base_uri": "https://localhost:8080/"
        },
        "id": "1xTRmcevg6RY",
        "outputId": "f9ff5476-5145-47d9-89f8-f6fb0f5ac839"
      },
      "execution_count": 11,
      "outputs": [
        {
          "output_type": "stream",
          "name": "stdout",
          "text": [
            "Okay, here are 3 facts about cats:\n",
            "\n",
            "1.  **Cats have a third eyelid:** Called a nictitating membrane, this translucent eyelid provides extra protection and moisture for the eye. You might see it flick across their eye if they are sleepy or unwell.\n",
            "2.  **Cats can make over 100 different sounds:** In contrast, dogs can only make about 10!\n",
            "3.  **A cat's nose print is unique, just like a human fingerprint:** No two cats have the same nose pattern.\n"
          ]
        }
      ]
    }
  ]
}