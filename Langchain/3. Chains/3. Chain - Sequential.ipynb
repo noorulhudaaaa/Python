{
  "nbformat": 4,
  "nbformat_minor": 0,
  "metadata": {
    "colab": {
      "provenance": [],
      "toc_visible": true
    },
    "kernelspec": {
      "name": "python3",
      "display_name": "Python 3"
    },
    "language_info": {
      "name": "python"
    }
  },
  "cells": [
    {
      "cell_type": "markdown",
      "source": [
        "# Sequential Chains\n",
        "- A sequential chain is like a to-do list for AI.\n",
        "- You give it a series of tasks, and it does them one after another in order.\n",
        "- Each step can use the result of the previous step.\n",
        "\n",
        "## Example in real life:\n",
        "\n",
        "Imagine making tea ☕:\n",
        "\n",
        "- Boil water\n",
        "- Add tea leaves\n",
        "- Add sugar and milk\n",
        "- Pour into a cup\n",
        "\n",
        "➡️ You must do step 1 before step 2, step 2 before step 3, and so on.\n",
        "That’s a sequential chain.\n",
        "\n"
      ],
      "metadata": {
        "id": "GNqjdmnJllKT"
      }
    },
    {
      "cell_type": "code",
      "source": [
        "! pip install langchain-google-genai"
      ],
      "metadata": {
        "id": "pCAQbOXRnItn"
      },
      "execution_count": 2,
      "outputs": []
    },
    {
      "cell_type": "code",
      "source": [
        "# Importing Necessary Libraries\n",
        "from langchain_google_genai import ChatGoogleGenerativeAI\n",
        "from langchain_core.prompts import ChatPromptTemplate\n",
        "from langchain.schema.output_parser import StrOutputParser\n",
        "from langchain_core.runnables import RunnableLambda, RunnableSequence\n",
        "from google.colab import userdata\n"
      ],
      "metadata": {
        "id": "h-q-QUZKmQ0u"
      },
      "execution_count": 3,
      "outputs": []
    },
    {
      "cell_type": "code",
      "source": [
        "# Getting the API KEY\n",
        "API_KEY = userdata.get('GOOGLE_API_KEY')\n"
      ],
      "metadata": {
        "id": "3kbe6feFnPjP"
      },
      "execution_count": 4,
      "outputs": []
    },
    {
      "cell_type": "code",
      "source": [
        "# Choosing the model\n",
        "llm = ChatGoogleGenerativeAI(\n",
        "    model = \"gemini-2.0-flash\",\n",
        "    google_api_key = API_KEY\n",
        ")\n"
      ],
      "metadata": {
        "id": "nCk_q1XWne4h"
      },
      "execution_count": 5,
      "outputs": []
    },
    {
      "cell_type": "code",
      "source": [
        "# Providing 2 templates\n",
        "template1 = [\n",
        "    (\"system\", \"You are a facts expert who knows facts about {animal}.\"),\n",
        "    (\"human\", \"Tell me {count} facts.\"),\n",
        "]\n",
        "\n",
        "template2 = [\n",
        "        (\"system\", \"You are a translator and convert the provided text into {language}.\"),\n",
        "        (\"human\", \"Translate the following text to {language}: {text}\"),\n",
        "]\n",
        "\n",
        "# Converting the template1 into a ChatPromptTemplate\n",
        "animal_template = ChatPromptTemplate.from_messages(template1)\n",
        "\n",
        "# Converting the template2 into a ChatPromptTemplate\n",
        "translation_template = ChatPromptTemplate.from_messages(template2)\n"
      ],
      "metadata": {
        "id": "sMO44qZgzzQa"
      },
      "execution_count": 13,
      "outputs": []
    },
    {
      "cell_type": "code",
      "source": [
        "# This takes the text (called output) and wraps it inside a dictionary with two parts:\n",
        "# \"text\" → the actual text you want to translate\n",
        "# \"language\" → the target language (here \"Urdu\")\n",
        "translation = RunnableLambda(lambda output: {\"text\": output, \"language\": \"Urdu\"})\n"
      ],
      "metadata": {
        "id": "QaMHIK3Xg4VN"
      },
      "execution_count": 24,
      "outputs": []
    },
    {
      "cell_type": "code",
      "source": [
        "# Making a chain\n",
        "chain = animal_template | llm | StrOutputParser() | translation | translation_template | llm | StrOutputParser()\n",
        "\n",
        "# Filling the chain with actual values\n",
        "response = chain.invoke({\n",
        "    \"animal\":\"cat\" , \"count\":3\n",
        "})\n",
        "\n",
        "# Getting response\n",
        "print(response)"
      ],
      "metadata": {
        "colab": {
          "base_uri": "https://localhost:8080/"
        },
        "id": "1xTRmcevg6RY",
        "outputId": "f87b3232-ce58-4893-a0a7-6b281b76d54d"
      },
      "execution_count": 25,
      "outputs": [
        {
          "output_type": "stream",
          "name": "stdout",
          "text": [
            "ٹھیک ہے، یہاں بلیوں کے بارے میں 3 حقائق ہیں:\n",
            "\n",
            "1.  **بلیوں کی ہنسلی کی ہڈی خاص ہوتی ہے:** انسانوں کے برعکس، بلی کی ہنسلی کی ہڈی اس کی دوسری ہڈیوں سے جڑی نہیں ہوتی۔ یہ ان کے کندھے کے پٹھوں میں پیوست ہوتی ہے، جو انہیں حرکت اور لچک کی زیادہ رینج فراہم کرتی ہے، جس سے وہ تنگ جگہوں میں سے بھی گزرنے کے قابل ہو جاتی ہیں۔\n",
            "\n",
            "2.  **بلیاں 100 سے زیادہ مختلف آوازیں نکال سکتی ہیں:** کتوں کے مقابلے میں، جو تقریباً 10 آوازیں نکال سکتے ہیں، بلیوں کے پاس زبانی رابطے کی ایک وسیع رینج ہوتی ہے، بشمول میاؤں، غرغراہٹ، پھنکارنا، غرانا، اور بہت کچھ، جن میں سے ہر ایک مختلف معنی پہنچانے کے لیے باریک تغیرات کے ساتھ ہوتی ہے۔\n",
            "\n",
            "3.  **بلیوں کی ایک تیسری پلک ہوتی ہے:** جسے نکٹیٹیٹنگ جھلی (nictitating membrane) کہا جاتا ہے، یہ پلک آنکھ کے اندرونی کونے میں واقع ہوتی ہے۔ یہ آنکھ کو صاف اور نم رکھنے میں مدد کرتی ہے اور لڑائی کے دوران آنکھ کی حفاظت بھی کر سکتی ہے۔ یہ عام طور پر صرف اس وقت نظر آتی ہے جب بلی سو رہی ہو یا بیمار ہو۔\n"
          ]
        }
      ]
    }
  ]
}