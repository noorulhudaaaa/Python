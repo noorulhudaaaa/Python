{
  "nbformat": 4,
  "nbformat_minor": 0,
  "metadata": {
    "colab": {
      "provenance": [],
      "toc_visible": true
    },
    "kernelspec": {
      "name": "python3",
      "display_name": "Python 3"
    },
    "language_info": {
      "name": "python"
    }
  },
  "cells": [
    {
      "cell_type": "markdown",
      "source": [
        "# Parallel Chains\n",
        "- A parallel chain means doing many tasks at the same time instead of one after another.\n",
        "\n",
        "Think of it like this:\n",
        "\n",
        "- Sequential chain = You make coffee ☕, then toast bread 🍞, then fry an egg 🍳 (one by one).\n",
        "\n",
        "- Parallel chain = You make coffee, toast bread, and fry an egg all at once ⏱️ → breakfast is ready faster!\n",
        "\n",
        "### In LangChain:\n",
        "\n",
        "- You send the same input (like text) to multiple models/tasks at once.\n",
        "- Each task works independently and gives its own result.\n",
        "- Finally, you can combine all those results into one output.\n",
        "\n"
      ],
      "metadata": {
        "id": "GNqjdmnJllKT"
      }
    },
    {
      "cell_type": "code",
      "source": [
        "! pip install langchain-google-genai"
      ],
      "metadata": {
        "id": "pCAQbOXRnItn"
      },
      "execution_count": 2,
      "outputs": []
    },
    {
      "cell_type": "code",
      "source": [
        "# Importing Necessary Libraries\n",
        "from langchain_google_genai import ChatGoogleGenerativeAI\n",
        "from langchain_core.prompts import ChatPromptTemplate\n",
        "from langchain.schema.output_parser import StrOutputParser\n",
        "from langchain_core.runnables import RunnableLambda, RunnableParallel\n",
        "from google.colab import userdata\n"
      ],
      "metadata": {
        "id": "h-q-QUZKmQ0u"
      },
      "execution_count": 26,
      "outputs": []
    },
    {
      "cell_type": "code",
      "source": [
        "# Getting the API KEY\n",
        "API_KEY = userdata.get('GOOGLE_API_KEY')\n"
      ],
      "metadata": {
        "id": "3kbe6feFnPjP"
      },
      "execution_count": 4,
      "outputs": []
    },
    {
      "cell_type": "code",
      "source": [
        "# Choosing the model\n",
        "llm = ChatGoogleGenerativeAI(\n",
        "    model = \"gemini-2.0-flash\",\n",
        "    google_api_key = API_KEY\n",
        ")\n"
      ],
      "metadata": {
        "id": "nCk_q1XWne4h"
      },
      "execution_count": 5,
      "outputs": []
    },
    {
      "cell_type": "code",
      "source": [
        "# Providing 2 templates\n",
        "template1 = [\n",
        "    (\"system\", \"You are a movie critic.\"),\n",
        "    (\"human\", \"Provide a brief summary of the movie {movie_name}.\"),\n",
        "]\n",
        "\n",
        "# Converting the template1 into a ChatPromptTemplate\n",
        "summary_template = ChatPromptTemplate.from_messages(template1)\n"
      ],
      "metadata": {
        "id": "sMO44qZgzzQa"
      },
      "execution_count": 27,
      "outputs": []
    },
    {
      "cell_type": "code",
      "source": [
        "# Function to analyze plot in a movie\n",
        "def analyze_plot(plot):\n",
        "  plot_template = ChatPromptTemplate.from_messages(\n",
        "      [\n",
        "          (\"system\", \"You are a movie critic.\"),\n",
        "          (\"human\", \"Analyze the plot: {plot}. What are its strengths and weaknesses?\"),\n",
        "      ]\n",
        "  )\n",
        "  # Fill the template with actual plot details\n",
        "  return plot_template.format_prompt(plot =  plot)\n",
        "\n",
        "# Function to analyze characters in a movie\n",
        "def analyze_characters(characters):\n",
        "  character_template = ChatPromptTemplate.from_messages(\n",
        "      [\n",
        "           (\"system\", \"You are a movie critic.\"),\n",
        "           (\"human\", \"Analyze the characters: {characters}. What are their strengths and weaknesses?\"),\n",
        "      ]\n",
        "  )\n",
        "  # Fill the template with actual character names/details\n",
        "  return character_template.format_prompt(characters = characters)\n",
        ""
      ],
      "metadata": {
        "id": "M1nD_u3Vve2i"
      },
      "execution_count": 44,
      "outputs": []
    },
    {
      "cell_type": "code",
      "source": [
        "# Function to combine both plot and character analysis into one final verdict\n",
        "def combine(analyze_plot, analyze_characters):\n",
        "  return f\"Plot Analysis: \\n{analyze_plot}\\n\\n Character Analysis: \\n{analyze_characters}\"\n"
      ],
      "metadata": {
        "id": "KDNShUEMxdDJ"
      },
      "execution_count": 45,
      "outputs": []
    },
    {
      "cell_type": "code",
      "source": [
        "# Branch 1: Analyze the plot\n",
        "plot_branch = (RunnableLambda(lambda x: analyze_plot(x)) | llm | StrOutputParser())\n",
        "\n",
        "# Branch 2: Analyze the characters\n",
        "characters_branch = (RunnableLambda(lambda x: analyze_characters(x)) | llm | StrOutputParser())\n"
      ],
      "metadata": {
        "id": "VbSSUsnYyVWu"
      },
      "execution_count": 46,
      "outputs": []
    },
    {
      "cell_type": "code",
      "source": [
        "# Making a chain\n",
        "chain = (summary_template | llm | StrOutputParser() |\n",
        "# Running tasks in parallel (faster)\n",
        "RunnableParallel(branches = {\"plot\": plot_branch, \"characters\": characters_branch}) |\n",
        "# Finally → Combine both results\n",
        "RunnableLambda(lambda x: combine(x[\"branches\"][\"plot\"], x[\"branches\"][\"characters\"]))\n",
        ")\n",
        "\n",
        "# Filling the chain with actual values\n",
        "response = chain.invoke({\n",
        "    \"movie_name\": \"Inception\"\n",
        "})\n",
        "\n",
        "# Getting response\n",
        "print(response)"
      ],
      "metadata": {
        "colab": {
          "base_uri": "https://localhost:8080/"
        },
        "id": "1xTRmcevg6RY",
        "outputId": "82142c2c-664d-4c53-8d10-3cef36da4385"
      },
      "execution_count": 47,
      "outputs": [
        {
          "output_type": "stream",
          "name": "stdout",
          "text": [
            "Plot Analysis: \n",
            "Okay, let's delve into the strengths and weaknesses of the plot of *Inception*.\n",
            "\n",
            "**Strengths:**\n",
            "\n",
            "*   **High Concept and Originality:** The core concept of stealing or planting ideas through dreams is incredibly compelling and original. It immediately grabs the audience's attention and sets the stage for a unique cinematic experience. It's a fresh take on the heist genre.\n",
            "\n",
            "*   **Intricate World-Building:** Nolan meticulously crafts the rules and mechanics of the dream world, including dream levels, shared dreaming, projections, and the concept of \"limbo.\" This detailed world-building creates a believable (within the context of the film) and immersive experience. The rules are generally consistent, which is crucial for maintaining the audience's engagement.\n",
            "\n",
            "*   **Multi-Layered Narrative:** The plot operates on multiple levels, both within the dream layers and on a thematic level. We have the heist itself, Cobb's personal struggle with his deceased wife Mal, and the exploration of the power and dangers of the human mind. This complexity adds depth and rewatchability to the film.\n",
            "\n",
            "*   **Suspense and Action:** The film is packed with thrilling action sequences, often defying the laws of physics within the dream world. The stakes are constantly raised as the team delves deeper into the dream layers, facing increasingly dangerous obstacles and projections.\n",
            "\n",
            "*   **Psychological Depth:** The plot explores themes of guilt, regret, memory, and the blurred lines between reality and illusion. Cobb's internal struggles and the presence of Mal's projections add emotional weight to the narrative, making it more than just a simple action movie.\n",
            "\n",
            "*   **Ambiguous Ending:** The ending, with the spinning top, is a masterstroke of ambiguity. It forces the audience to question what they've seen and to consider the film's themes on a deeper level. It sparks debate and discussion, keeping the film alive in the audience's minds long after the credits roll.\n",
            "\n",
            "**Weaknesses:**\n",
            "\n",
            "*   **Complexity and Exposition:** The intricate plot and world-building can be overwhelming for some viewers. The film relies heavily on exposition to explain the rules and mechanics of the dream world, which can sometimes feel clunky or slow down the pacing.\n",
            "\n",
            "*   **Emotional Connection:** While the film explores Cobb's personal struggles, some critics argue that the emotional connection to the characters is not as strong as the intellectual engagement with the plot. The sheer complexity can sometimes overshadow the emotional core.\n",
            "\n",
            "*   **Pacing Issues:** While the film is generally well-paced, some sections, particularly those involving exposition or setting up the dream layers, can feel slower than others.\n",
            "\n",
            "*   **Reliance on Tropes:** Despite its originality, *Inception* still relies on some familiar heist movie tropes, such as the assembling of a team of specialists, the elaborate planning, and the unexpected complications. While these tropes are executed well, they can feel somewhat predictable at times.\n",
            "\n",
            "*   **Potential for Plot Holes:** Given the complexity of the dream world and the multiple layers of reality, there is potential for plot holes or inconsistencies to emerge upon closer examination. Some viewers have pointed out perceived logical flaws in the dream mechanics.\n",
            "\n",
            "**Overall:**\n",
            "\n",
            "The plot of *Inception* is a remarkable achievement in filmmaking. Its strengths lie in its originality, complexity, and ambition. While it has some weaknesses, such as its potential for confusion and reliance on tropes, the film's overall impact and lasting legacy are undeniable. It's a thought-provoking and visually stunning experience that continues to captivate audiences. It prioritizes intellectual engagement over pure emotional resonance, which may not appeal to all viewers, but it's undeniably a bold and ambitious work.\n",
            "\n",
            " Character Analysis: \n",
            "Alright, let's delve into the character dynamics of *Inception*. You've laid out the basic premise well, so let's break down the strengths and weaknesses of our protagonist and, by extension, his team:\n",
            "\n",
            "**Dom Cobb (Leonardo DiCaprio): The Extractor/Protagonist**\n",
            "\n",
            "*   **Strengths:**\n",
            "    *   **Master Dream Architect:** Cobb is clearly a brilliant architect and extractor, possessing an unparalleled understanding of dream mechanics and subconscious manipulation. He can navigate, exploit, and even create these realities.\n",
            "    *   **Charismatic Leader:** He's able to assemble and inspire a team of highly skilled individuals, suggesting strong leadership qualities, even if tinged with a certain desperation.\n",
            "    *   **Resilient:** Despite his deep-seated emotional baggage, Cobb is incredibly resilient. He pushes through intense psychological torment and physical danger to achieve his goals.\n",
            "    *   **Strategic:** He's able to formulate complex plans and adapt to changing circumstances within the dream worlds.\n",
            "\n",
            "*   **Weaknesses:**\n",
            "    *   **Haunted by Mal (Marion Cotillard):** This is his defining flaw. The projection of his deceased wife, Mal, sabotages his missions and represents his unresolved guilt and trauma. She's a constant, unpredictable threat within the dream, reflecting his inability to let go.\n",
            "    *   **Emotionally Distant:** His obsession with his work and his grief isolates him from others, particularly his children. He struggles to connect with people on a personal level.\n",
            "    *   **Reckless:** His determination to return to his children sometimes leads him to make risky decisions that endanger himself and his team.\n",
            "    *   **Addicted to the Dream:** There's an implication that Cobb might be addicted to the dream world, blurring the lines between reality and illusion for himself, and potentially for others.\n",
            "\n",
            "**The Team (General Strengths and Weaknesses):**\n",
            "\n",
            "While you didn't ask for an analysis of each individual team member, it's important to consider their collective strengths and weaknesses in relation to Cobb:\n",
            "\n",
            "*   **Strengths (as a unit):**\n",
            "    *   **Specialized Skills:** Each member brings a unique and crucial skill set to the table (architect, forger, chemist, point man, etc.). They're a well-rounded team capable of handling a variety of challenges.\n",
            "    *   **Loyalty (mostly):** They trust Cobb (to a certain extent) and are willing to risk their lives for the mission.\n",
            "    *   **Adaptability:** They can adapt to the unpredictable nature of the dream world.\n",
            "\n",
            "*   **Weaknesses (as a unit):**\n",
            "    *   **Dependence on Cobb:** The team's success is heavily reliant on Cobb's leadership and knowledge. His flaws directly impact their ability to succeed.\n",
            "    *   **Individual Vulnerabilities:** Each member has their own personal demons and anxieties that can be exploited within the dream.\n",
            "    *   **Moral Ambiguity:** The team is composed of individuals who operate outside the law. This raises questions about their motivations and the ethics of their actions.\n",
            "    *   **Lack of Complete Trust:** There's an underlying sense of unease and suspicion among the team members, fueled by the inherent deception involved in their work.\n",
            "\n",
            "**In Conclusion:**\n",
            "\n",
            "The characters in *Inception* are complex and flawed, driven by a mixture of ambition, guilt, and the desire for redemption. Cobb's internal struggles are central to the film's themes, and his weaknesses ultimately drive the narrative tension and the ambiguous ending. The strength of the team lies in their specialized skills, but their dependence on Cobb and their individual vulnerabilities make them susceptible to the dangers of the dream world. It's this intricate interplay of strengths and weaknesses that makes *Inception* such a compelling and thought-provoking film.\n"
          ]
        }
      ]
    }
  ]
}