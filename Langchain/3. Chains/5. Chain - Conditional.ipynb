{
  "nbformat": 4,
  "nbformat_minor": 0,
  "metadata": {
    "colab": {
      "provenance": [],
      "toc_visible": true
    },
    "kernelspec": {
      "name": "python3",
      "display_name": "Python 3"
    },
    "language_info": {
      "name": "python"
    }
  },
  "cells": [
    {
      "cell_type": "markdown",
      "source": [
        "# Conditional Chains\n",
        "- A Conditional Chain is like an \"if-else\" decision maker for AI workflows.\n",
        "Instead of always running the same steps, the chain chooses the next step based on conditions.\n",
        "\n",
        "Example in real life:\n",
        "Imagine you are handling customer feedback:\n",
        "\n",
        "- If the feedback is positive, send a thank-you reply.\n",
        "- If the feedback is negative, send an apology and escalate to support.\n",
        "- If the feedback is neutral, just acknowledge politely.\n",
        "\n",
        "Here, the AI first classifies the sentiment, and then the chain decides which path to follow.\n",
        "\n",
        "### In LangChain:\n",
        "\n",
        "- Input comes in (e.g., customer review).\n",
        "- The chain checks a condition (positive? negative? neutral?).\n",
        "- Based on the result, it runs a specific chain of actions.\n",
        "- If no condition matches, a default chain is used.\n",
        "\n"
      ],
      "metadata": {
        "id": "GNqjdmnJllKT"
      }
    },
    {
      "cell_type": "code",
      "source": [
        "! pip install langchain-google-genai"
      ],
      "metadata": {
        "id": "pCAQbOXRnItn"
      },
      "execution_count": 2,
      "outputs": []
    },
    {
      "cell_type": "code",
      "source": [
        "# Importing Necessary Libraries\n",
        "from langchain_google_genai import ChatGoogleGenerativeAI\n",
        "from langchain_core.prompts import ChatPromptTemplate\n",
        "from langchain.schema.output_parser import StrOutputParser\n",
        "from langchain_core.runnables import RunnableLambda, RunnableBranch\n",
        "from google.colab import userdata\n"
      ],
      "metadata": {
        "id": "h-q-QUZKmQ0u"
      },
      "execution_count": 48,
      "outputs": []
    },
    {
      "cell_type": "code",
      "source": [
        "# Getting the API KEY\n",
        "API_KEY = userdata.get('GOOGLE_API_KEY')\n"
      ],
      "metadata": {
        "id": "3kbe6feFnPjP"
      },
      "execution_count": 4,
      "outputs": []
    },
    {
      "cell_type": "code",
      "source": [
        "# Choosing the model\n",
        "llm = ChatGoogleGenerativeAI(\n",
        "    model = \"gemini-2.0-flash\",\n",
        "    google_api_key = API_KEY\n",
        ")\n"
      ],
      "metadata": {
        "id": "nCk_q1XWne4h"
      },
      "execution_count": 5,
      "outputs": []
    },
    {
      "cell_type": "code",
      "source": [
        "# Providing 4 prompt Templates\n",
        "positive_feedback_template = ChatPromptTemplate.from_messages(\n",
        "    [\n",
        "        (\"system\", \"You are a helpful assistant.\"),\n",
        "        (\"human\",\"Generate a thank you note for this positive feedback: {feedback}.\"),\n",
        "    ]\n",
        ")\n",
        "\n",
        "negative_feedback_template = ChatPromptTemplate.from_messages(\n",
        "    [\n",
        "        (\"system\", \"You are a helpful assistant.\"),\n",
        "        (\"human\",\"Generate a response addressing this negative feedback: {feedback}.\"),\n",
        "    ]\n",
        ")\n",
        "\n",
        "neutral_feedback_template = ChatPromptTemplate.from_messages(\n",
        "    [\n",
        "        (\"system\", \"You are a helpful assistant.\"),\n",
        "        (\"human\",\"Generate a request for more details for this neutral feedback: {feedback}.\"),\n",
        "    ]\n",
        ")\n",
        "\n",
        "escalate_feedback_template = ChatPromptTemplate.from_messages(\n",
        "    [\n",
        "        (\"system\", \"You are a helpful assistant.\"),\n",
        "        (\"human\", \"Generate a message to escalate this feedback to a human agent: {feedback}.\"),\n",
        "    ]\n",
        ")\n"
      ],
      "metadata": {
        "id": "sMO44qZgzzQa"
      },
      "execution_count": 54,
      "outputs": []
    },
    {
      "cell_type": "code",
      "source": [
        "# # Creating a prompt template for classification\n",
        "classification_template = ChatPromptTemplate.from_messages(\n",
        "    [\n",
        "        (\"system\", \"You are a helpful assistant.\"),\n",
        "        (\"human\",\n",
        "         \"Classify the sentiment of this feedback as positive, negative, neutral, or escalate: {feedback}.\"),\n",
        "    ]\n",
        ")\n"
      ],
      "metadata": {
        "id": "RRgJlUaMCz5B"
      },
      "execution_count": 53,
      "outputs": []
    },
    {
      "cell_type": "code",
      "source": [
        "# Defining branches (different paths depending on sentiment)\n",
        "# If output contains \"positive\", run the positive feedback chain, same for negative & neutral.\n",
        "branches = RunnableBranch(\n",
        "    (lambda x: \"positive\" in x, positive_feedback_template | llm | StrOutputParser()),\n",
        "    (lambda x: \"negative\" in x, negative_feedback_template | llm | StrOutputParser()),\n",
        "    (lambda x: \"neutral\" in x, neutral_feedback_template | llm | StrOutputParser()),\n",
        "    escalate_feedback_template | llm | StrOutputParser()\n",
        ")\n",
        "\n",
        "# Default branch: if nothing matches, escalate the feedback\n",
        "classification_chain = classification_template | llm | StrOutputParser()"
      ],
      "metadata": {
        "id": "VbSSUsnYyVWu"
      },
      "execution_count": 55,
      "outputs": []
    },
    {
      "cell_type": "code",
      "source": [
        "# Main chain: takes input → classifies sentiment → returns result\n",
        "chain = classification_chain | branches\n"
      ],
      "metadata": {
        "id": "1xTRmcevg6RY"
      },
      "execution_count": 56,
      "outputs": []
    },
    {
      "cell_type": "code",
      "source": [
        "# Providing review\n",
        "review = \"The product is terrible. It broke after just one use and the quality is very poor.\"\n",
        "\n",
        "# Filling the chain with actual values\n",
        "response = chain.invoke({\n",
        "    \"feedback\": review\n",
        "})\n",
        "\n",
        "# Getting response\n",
        "print(response)\n"
      ],
      "metadata": {
        "colab": {
          "base_uri": "https://localhost:8080/"
        },
        "id": "289SpuDFFCX4",
        "outputId": "5a2ab065-3919-40ef-fd3c-580620273d2c"
      },
      "execution_count": 58,
      "outputs": [
        {
          "output_type": "stream",
          "name": "stdout",
          "text": [
            "Okay, here are a few options for escalating the feedback \"Negative\" to a human agent, depending on the context and your desired level of urgency:\n",
            "\n",
            "**Option 1 (Simple and Direct):**\n",
            "\n",
            "> Escalating due to negative feedback. Requires human review.\n",
            "\n",
            "**Option 2 (Slightly More Specific):**\n",
            "\n",
            "> Received negative feedback (\"Negative\"). Escalating for further investigation and potential action.\n",
            "\n",
            "**Option 3 (If you have a specific escalation protocol):**\n",
            "\n",
            "> Negative feedback received. Following protocol [Protocol Number/Name] for escalation.\n",
            "\n",
            "**Option 4 (If you suspect a serious issue):**\n",
            "\n",
            "> Urgent escalation. Received negative feedback (\"Negative\") which may indicate a significant problem. Requires immediate human attention.\n",
            "\n",
            "**Option 5 (If you can provide a little more context):**\n",
            "\n",
            "> Received negative feedback (\"Negative\") related to [briefly mention the topic, e.g., order fulfillment, product quality, customer service]. Escalating to a human agent for review.\n",
            "\n",
            "**Key Considerations:**\n",
            "\n",
            "*   **Your System's Capabilities:** Use a message that your system can easily process and route correctly.\n",
            "*   **Context:** The more context you can provide (even if it's just a general topic), the better the human agent can understand the issue.\n",
            "*   **Urgency:**  Only use \"urgent\" if it truly warrants immediate attention. Overusing it will desensitize the agents.\n",
            "\n",
            "Choose the option that best fits your needs and system.  Good luck!\n"
          ]
        }
      ]
    }
  ]
}