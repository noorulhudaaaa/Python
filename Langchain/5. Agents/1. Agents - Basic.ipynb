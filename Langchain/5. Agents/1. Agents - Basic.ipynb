{
  "nbformat": 4,
  "nbformat_minor": 0,
  "metadata": {
    "colab": {
      "provenance": [],
      "toc_visible": true
    },
    "kernelspec": {
      "name": "python3",
      "display_name": "Python 3"
    },
    "language_info": {
      "name": "python"
    }
  },
  "cells": [
    {
      "cell_type": "markdown",
      "source": [
        "# Agents - Basic\n",
        "An Agent is like a smart decision-maker.\n",
        "Instead of just following a fixed script (step 1 → step 2 → step 3), an agent can decide what to do next based on the situation.\n",
        "\n",
        "It works like this:\n",
        "\n",
        "- You give the agent a goal (e.g., \"Find me the weather in New York\").\n",
        "- The agent thinks: \"Do I already know this? Or should I call a tool?\"\n",
        "- It can use tools (like a calculator, database, or API) to get the answer.\n",
        "- It then returns the final result to you."
      ],
      "metadata": {
        "id": "GNqjdmnJllKT"
      }
    },
    {
      "cell_type": "code",
      "source": [
        "! pip install langchain-google-genai"
      ],
      "metadata": {
        "id": "pCAQbOXRnItn"
      },
      "execution_count": 3,
      "outputs": []
    },
    {
      "cell_type": "code",
      "source": [
        "# Importing Necessary Libraries\n",
        "from langchain_google_genai import ChatGoogleGenerativeAI\n",
        "from langchain_core.prompts import PromptTemplate\n",
        "from langchain.schema.output_parser import StrOutputParser\n",
        "from langchain.agents import create_react_agent, AgentExecutor, tool\n",
        "from langchain import hub\n",
        "import datetime\n",
        "from google.colab import userdata\n"
      ],
      "metadata": {
        "id": "h-q-QUZKmQ0u"
      },
      "execution_count": 4,
      "outputs": []
    },
    {
      "cell_type": "code",
      "source": [
        "# Getting the API KEY\n",
        "API_KEY = userdata.get('GOOGLE_API_KEY')\n"
      ],
      "metadata": {
        "id": "3kbe6feFnPjP"
      },
      "execution_count": 5,
      "outputs": []
    },
    {
      "cell_type": "code",
      "source": [
        "# Choosing the model\n",
        "llm = ChatGoogleGenerativeAI(\n",
        "    model = \"gemini-2.0-flash\",\n",
        "    google_api_key = API_KEY\n",
        ")\n"
      ],
      "metadata": {
        "id": "nCk_q1XWne4h"
      },
      "execution_count": 6,
      "outputs": []
    },
    {
      "cell_type": "code",
      "source": [
        "# Providing a query\n",
        "query = \"What is the current time?\"\n",
        "\n",
        "# Converting template to prompt template\n",
        "prompt_template = PromptTemplate.from_template(\"{input}\")\n",
        "\n",
        "# Making Chain\n",
        "chain = prompt_template | llm | StrOutputParser()\n",
        "\n",
        "# Generating Response\n",
        "response = chain.invoke({\n",
        "    \"input\": query\n",
        "})\n",
        "\n",
        "# Printing\n",
        "print(response)"
      ],
      "metadata": {
        "id": "sMO44qZgzzQa",
        "colab": {
          "base_uri": "https://localhost:8080/"
        },
        "outputId": "ac0edc7c-4e1d-4555-aeea-aefe216454ec"
      },
      "execution_count": 9,
      "outputs": [
        {
          "output_type": "stream",
          "name": "stdout",
          "text": [
            "I do not have access to the current time. To find out the current time, please check your phone, computer, or another time-telling device.\n"
          ]
        }
      ]
    },
    {
      "cell_type": "code",
      "source": [
        "# Providing a query\n",
        "query = \"What is the current time?\"\n",
        "\n",
        "# hub.pull(\"hwchase17/react\") - This loads a special prompt style called ReAct.\n",
        "prompt_template = hub.pull(\"hwchase17/react\")\n",
        "\n",
        "# The agent has no extra tools to use (like calculator, search, etc.)\n",
        "tools = []\n",
        "\n",
        "# Creating the agent\n",
        "agent = create_react_agent(llm, tools, prompt_template)\n",
        "\n",
        "# Setting up an executor to run the agent\n",
        "agent_executor = AgentExecutor(agent = agent, tools = tools, verbose = True)\n",
        "\n",
        "# Generating response\n",
        "response = agent_executor.invoke({\n",
        "    \"input\": query\n",
        "})\n",
        "\n",
        "# Printing\n",
        "print(response)"
      ],
      "metadata": {
        "id": "RRgJlUaMCz5B",
        "colab": {
          "base_uri": "https://localhost:8080/"
        },
        "outputId": "9c8576de-5928-44d3-e30d-e56a7fe5ba4e"
      },
      "execution_count": 10,
      "outputs": [
        {
          "output_type": "stream",
          "name": "stdout",
          "text": [
            "\n",
            "\n",
            "\u001b[1m> Entering new AgentExecutor chain...\u001b[0m\n",
            "\u001b[32;1m\u001b[1;3mI need to find the current time. I don't have a specific tool for that, so I'll use the browser tool to search for it.\n",
            "Action: browser\n",
            "Action Input: current time\u001b[0mbrowser is not a valid tool, try one of [].\u001b[32;1m\u001b[1;3mI need to find the current time. I don't have a specific tool for that, so I'll try searching the web.\n",
            "Action: search\n",
            "Action Input: current time\u001b[0msearch is not a valid tool, try one of [].\u001b[32;1m\u001b[1;3mI apologize, I do not have the capability to access the current time. I am unable to use external tools or access the internet.\n",
            "Final Answer: I am sorry, I cannot provide the current time.\n",
            "\u001b[0m\n",
            "\n",
            "\u001b[1m> Finished chain.\u001b[0m\n",
            "{'input': 'What is the current time?', 'output': 'I am sorry, I cannot provide the current time.'}\n"
          ]
        }
      ]
    },
    {
      "cell_type": "code",
      "source": [
        "# Providing tools to get proper response\n",
        "@tool\n",
        "\n",
        "# Defining a function for tools\n",
        "def system_time(format: str =  \"%Y-%m-%d %H:%M:%S\" ):\n",
        "   \"\"\" Returns the current date and time in the specified format \"\"\"\n",
        "\n",
        "   # Getting current time\n",
        "   current_time = datetime.datetime.now()\n",
        "\n",
        "   # Converting to desired format\n",
        "   formatted_time = current_time.strftime(format)\n",
        "   return formatted_time\n",
        "\n",
        "# Providing a query\n",
        "query = \"What is the current time?\"\n",
        "\n",
        "# hub.pull(\"hwchase17/react\") - This loads a special prompt style called ReAct.\n",
        "prompt_template = hub.pull(\"hwchase17/react\")\n",
        "\n",
        "# The agent has no extra tools to use (like calculator, search, etc.)\n",
        "tools = [system_time]\n",
        "\n",
        "# Creating the agent\n",
        "agent = create_react_agent(llm, tools, prompt_template)\n",
        "\n",
        "# Setting up an executor to run the agent\n",
        "agent_executor = AgentExecutor(agent = agent, tools = tools, verbose = True)\n",
        "\n",
        "# Generating response\n",
        "response = agent_executor.invoke({\n",
        "    \"input\": query\n",
        "})\n",
        "\n",
        "# Printing\n",
        "print(response)"
      ],
      "metadata": {
        "id": "VbSSUsnYyVWu",
        "colab": {
          "base_uri": "https://localhost:8080/"
        },
        "outputId": "814d19ff-4b29-4e67-9c17-240b74fa2508"
      },
      "execution_count": 17,
      "outputs": [
        {
          "output_type": "stream",
          "name": "stdout",
          "text": [
            "\n",
            "\n",
            "\u001b[1m> Entering new AgentExecutor chain...\u001b[0m\n",
            "\u001b[32;1m\u001b[1;3mI need to get the current time to answer the question.\n",
            "Action: system_time\n",
            "Action Input: %Y-%m-%d %H:%M:%S\u001b[0m\u001b[36;1m\u001b[1;3m2025-09-22 15:54:08\u001b[0m\u001b[32;1m\u001b[1;3mI now know the current time.\n",
            "Final Answer: The current time is 2025-09-22 15:54:08.\u001b[0m\n",
            "\n",
            "\u001b[1m> Finished chain.\u001b[0m\n",
            "{'input': 'What is the current time?', 'output': 'The current time is 2025-09-22 15:54:08.'}\n"
          ]
        }
      ]
    },
    {
      "cell_type": "code",
      "source": [
        "# Doing the same with a different query\n",
        "# Providing tools to get proper response\n",
        "@tool\n",
        "\n",
        "# Defining a function for tools\n",
        "def system_time(format: str =  \"%Y-%m-%d %H:%M:%S\" ):\n",
        "   \"\"\" Returns the current date and time in the specified format \"\"\"\n",
        "\n",
        "   # Getting current time\n",
        "   current_time = datetime.datetime.now()\n",
        "\n",
        "   # Converting to desired format\n",
        "   formatted_time = current_time.strftime(format)\n",
        "   return formatted_time\n",
        "\n",
        "# Providing a query\n",
        "query = \"What is the current time in New-York? (You are in pakistan). Just show the current time and not the date.\"\n",
        "\n",
        "# hub.pull(\"hwchase17/react\") - This loads a special prompt style called ReAct.\n",
        "prompt_template = hub.pull(\"hwchase17/react\")\n",
        "\n",
        "# The agent has no extra tools to use (like calculator, search, etc.)\n",
        "tools = [system_time]\n",
        "\n",
        "# Creating the agent\n",
        "agent = create_react_agent(llm, tools, prompt_template)\n",
        "\n",
        "# Setting up an executor to run the agent\n",
        "agent_executor = AgentExecutor(agent = agent, tools = tools, verbose = True)\n",
        "\n",
        "# Generating response\n",
        "response = agent_executor.invoke({\n",
        "    \"input\": query\n",
        "})\n",
        "\n",
        "# Printing\n",
        "print(response)"
      ],
      "metadata": {
        "colab": {
          "base_uri": "https://localhost:8080/"
        },
        "id": "3xE1LrMOHykQ",
        "outputId": "0d7ab361-9533-4ea8-dc5e-733a6cc2a5a5"
      },
      "execution_count": 18,
      "outputs": [
        {
          "output_type": "stream",
          "name": "stdout",
          "text": [
            "\n",
            "\n",
            "\u001b[1m> Entering new AgentExecutor chain...\u001b[0m\n",
            "\u001b[32;1m\u001b[1;3mI need to find the current time, but I only have access to a tool that provides the current time in my location (Pakistan). Since I need the time in New York, I need to adjust for the time difference. I'll first get the current time in Pakistan, then calculate the time difference between Pakistan and New York, and finally subtract that difference from the Pakistan time to get the New York time.\n",
            "\n",
            "Action: system_time\n",
            "Action Input: %H:%M:%S\u001b[0m\u001b[36;1m\u001b[1;3m15:54:20\u001b[0m\u001b[32;1m\u001b[1;3mOkay, the current time in Pakistan is 15:54:20. New York is 9 hours behind Pakistan. So, I need to subtract 9 hours from the current time in Pakistan. 15 - 9 = 6. Therefore, the current time in New York is 06:54:20.\n",
            "Final Answer: 06:54:20\n",
            "\u001b[0m\n",
            "\n",
            "\u001b[1m> Finished chain.\u001b[0m\n",
            "{'input': 'What is the current time in New-York? (You are in pakistan). Just show the current time and not the date.', 'output': '06:54:20'}\n"
          ]
        }
      ]
    }
  ]
}