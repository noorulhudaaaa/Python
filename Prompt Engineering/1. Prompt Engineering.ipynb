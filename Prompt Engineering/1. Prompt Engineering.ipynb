{
  "nbformat": 4,
  "nbformat_minor": 0,
  "metadata": {
    "colab": {
      "provenance": []
    },
    "kernelspec": {
      "name": "python3",
      "display_name": "Python 3"
    },
    "language_info": {
      "name": "python"
    }
  },
  "cells": [
    {
      "cell_type": "markdown",
      "source": [
        "# Prompt Engineering Types And Examples\n",
        "Prompt engineering means writing instructions (called prompts) in a way that makes an AI give you the best and most accurate answer."
      ],
      "metadata": {
        "id": "jZtqX_O0v-yn"
      }
    },
    {
      "cell_type": "code",
      "source": [
        "# Importing library\n",
        "from google.colab import userdata\n",
        "import google.generativeai as genai\n"
      ],
      "metadata": {
        "id": "qaZBAkWAwAGh"
      },
      "execution_count": 12,
      "outputs": []
    },
    {
      "cell_type": "code",
      "source": [
        "# Getting our key. (secret, so hidden)\n",
        "api_key = userdata.get('GOOGLE_API_KEY')\n"
      ],
      "metadata": {
        "id": "NsWftUcHzKU9"
      },
      "execution_count": 16,
      "outputs": []
    },
    {
      "cell_type": "code",
      "source": [
        "# Configuring our key.\n",
        "genai.configure(api_key = api_key)\n"
      ],
      "metadata": {
        "id": "M6xCBZLZ0MWr"
      },
      "execution_count": 17,
      "outputs": []
    },
    {
      "cell_type": "code",
      "source": [
        "# Creating Model Instance\n",
        "model = genai.GenerativeModel('gemini-2.0-flash')\n"
      ],
      "metadata": {
        "id": "Syhjl6qP2kIR"
      },
      "execution_count": 18,
      "outputs": []
    },
    {
      "cell_type": "markdown",
      "source": [
        "## Types And Examples"
      ],
      "metadata": {
        "id": "BwIMumlF2yNP"
      }
    },
    {
      "cell_type": "markdown",
      "source": [
        "### 1. Zero Shot Prompting\n",
        "- Zero-shot prompting means asking AI to do a task without giving it any examples.\n",
        "- You just tell it what you want, and the AI figures it out by itself."
      ],
      "metadata": {
        "id": "NQix2iFm25j6"
      }
    },
    {
      "cell_type": "code",
      "source": [
        "# Giving the prompt\n",
        "prompt = \"Translate the following sentence to Urdu: Good morning!\"\n",
        "\n",
        "# Getting the response\n",
        "response = model.generate_content(prompt)\n",
        "print(response.text)"
      ],
      "metadata": {
        "colab": {
          "base_uri": "https://localhost:8080/",
          "height": 121
        },
        "id": "3TqmpQdI3JMw",
        "outputId": "0d097d3f-ad1a-4dc5-9e27-465fef48c742"
      },
      "execution_count": 19,
      "outputs": [
        {
          "output_type": "stream",
          "name": "stdout",
          "text": [
            "The most common and appropriate translation of \"Good morning!\" to Urdu is:\n",
            "\n",
            "**صبح بخیر!** (Subah Bakhair!)\n",
            "\n",
            "This literally translates to \"A good morning!\" or \"May your morning be good!\".\n",
            "\n"
          ]
        }
      ]
    },
    {
      "cell_type": "markdown",
      "source": [
        "### 2. One Shot Prompting\n",
        "- One-shot prompting means you give the AI one example of how you want the task done, and then you ask it to do the same for new input.\n",
        "- It’s like teaching the AI with a single demo before asking your question."
      ],
      "metadata": {
        "id": "MptorIeJ6RLs"
      }
    },
    {
      "cell_type": "code",
      "source": [
        "# Providing the prompt and example\n",
        "prompt = \"\"\"\n",
        "Translate from English to urdu:\n",
        "English: Hello → Urdu: ہیلو\n",
        "English: Good night →\n",
        "\"\"\"\n",
        "\n",
        "# Getting the response for prompt\n",
        "response = model.generate_content(prompt)\n",
        "print(response.text)\n"
      ],
      "metadata": {
        "colab": {
          "base_uri": "https://localhost:8080/",
          "height": 52
        },
        "id": "FZlgiJwn6uit",
        "outputId": "69306204-ab79-405a-bb84-46fc18ff3102"
      },
      "execution_count": 21,
      "outputs": [
        {
          "output_type": "stream",
          "name": "stdout",
          "text": [
            "Urdu: شب بخیر (Shab Bakhair)\n",
            "\n"
          ]
        }
      ]
    },
    {
      "cell_type": "markdown",
      "source": [
        "### 3. Few Shot Prompting\n",
        "- Few-shot prompting means giving the AI a few examples (2, 3, or more) before asking it to do the task on new input.\n",
        "- This helps the AI clearly learn the pattern, style, or format you want."
      ],
      "metadata": {
        "id": "immYnYSg-Wpf"
      }
    },
    {
      "cell_type": "code",
      "source": [
        "# Deciding the prompt\n",
        "prompt = \"\"\"\n",
        "Translate from English to Urdu:\n",
        "English: Hello → ہیلو\n",
        "English: Good night → شب بخیر\n",
        "English: Thank you →\n",
        "\"\"\"\n",
        "# Getting response\n",
        "response = model.generate_content(prompt)\n",
        "print(response.text)\n"
      ],
      "metadata": {
        "colab": {
          "base_uri": "https://localhost:8080/",
          "height": 52
        },
        "id": "E2J8w6nT-me5",
        "outputId": "514f47b9-edba-4df7-9523-ff047d1e838b"
      },
      "execution_count": 24,
      "outputs": [
        {
          "output_type": "stream",
          "name": "stdout",
          "text": [
            "شکریہ\n",
            "\n"
          ]
        }
      ]
    },
    {
      "cell_type": "markdown",
      "source": [
        "### 4. Chain Of Thought Prompting\n",
        "- Chain-of-thought prompting means telling the AI to show its step-by-step thinking before giving the final answer.\n",
        "- This helps the AI solve reasoning or calculation problems more accurately."
      ],
      "metadata": {
        "id": "CTcnPEOj--Kp"
      }
    },
    {
      "cell_type": "code",
      "source": [
        "# Giving a prompt\n",
        "prompt = \"If a pen costs $3 and I buy 4 pens, how much do I spend?\"\n",
        "\n",
        "# Getting a response\n",
        "response = model.generate_content(prompt)\n",
        "print(response.text)\n"
      ],
      "metadata": {
        "colab": {
          "base_uri": "https://localhost:8080/",
          "height": 52
        },
        "id": "lVtvr06y_58U",
        "outputId": "930457f0-3806-4b87-a29c-eb8921760f1b"
      },
      "execution_count": 25,
      "outputs": [
        {
          "output_type": "stream",
          "name": "stdout",
          "text": [
            "You spend $3 * 4 = $12.\n",
            "\n"
          ]
        }
      ]
    },
    {
      "cell_type": "markdown",
      "source": [
        "### 5. Role Based Prompting\n",
        "- In role-based prompting, you tell the AI to act like a specific role (teacher, doctor, analyst, friend, etc.).\n",
        "- This helps AI answer in the style, tone, or knowledge of that role.\n"
      ],
      "metadata": {
        "id": "RusJwZk3AnQs"
      }
    },
    {
      "cell_type": "code",
      "source": [
        "# Making a prompt\n",
        "prompt = \"You are an English teacher. Explain the meaning of the word 'Innovation' in simple words.\"\n",
        "\n",
        "# Getting the response\n",
        "response = model.generate_content(prompt)\n",
        "print(response.text)\n"
      ],
      "metadata": {
        "colab": {
          "base_uri": "https://localhost:8080/",
          "height": 277
        },
        "id": "UeTq7NzwB3JS",
        "outputId": "a33a21bd-36d7-4eb4-9064-87ec17980f03"
      },
      "execution_count": 29,
      "outputs": [
        {
          "output_type": "stream",
          "name": "stdout",
          "text": [
            "Alright class, let's talk about a word you'll hear a lot: **innovation**.\n",
            "\n",
            "Think of it like this:\n",
            "\n",
            "**Innovation basically means a new idea, method, or product that is better or more effective than what we had before.**\n",
            "\n",
            "It's not just *any* new thing. It has to be an **improvement**.  It has to make something easier, faster, cheaper, or just plain better.\n",
            "\n",
            "Think about it like this:\n",
            "\n",
            "*   **The wheel** was an innovation! Before the wheel, moving heavy things was really hard. The wheel made it much easier.\n",
            "*   **The internet** is a huge innovation! It lets us share information and connect with people all over the world.\n",
            "\n",
            "So, **innovation** is all about bringing new and improved things into the world!  Any questions?\n",
            "\n"
          ]
        }
      ]
    },
    {
      "cell_type": "markdown",
      "source": [
        "### 6. Instruction Based Prompting\n",
        "- Instruction-based prompting means you give the AI direct, clear instructions about what to do.\n",
        "- You don’t need to set a role or give examples — just tell it step by step what output you want.\n",
        "- The clearer the instructions, the better the result."
      ],
      "metadata": {
        "id": "SYWKC9VfC_rD"
      }
    },
    {
      "cell_type": "code",
      "source": [
        "# Giving a prompt\n",
        "prompt = \"\"\"Summarize this paragraph in 2 really short bullet points:\n",
        "Artificial Intelligence is changing industries by automating tasks,\n",
        "improving decision-making, and creating new opportunities for innovation.\"\"\"\n",
        "\n",
        "# Giving Response\n",
        "response = model.generate_content(prompt)\n",
        "print(response.text)\n"
      ],
      "metadata": {
        "colab": {
          "base_uri": "https://localhost:8080/",
          "height": 104
        },
        "id": "iNSXIzJKEPI2",
        "outputId": "02d2f8e1-e0cf-40ef-a0b3-ea3116b35f8d"
      },
      "execution_count": 32,
      "outputs": [
        {
          "output_type": "stream",
          "name": "stdout",
          "text": [
            "Here's a summary in two short bullet points:\n",
            "\n",
            "*   AI automates tasks & improves decisions.\n",
            "*   AI fosters new opportunities & innovation.\n",
            "\n"
          ]
        }
      ]
    },
    {
      "cell_type": "markdown",
      "source": [
        "### 7. ReACT Prompting:\n",
        "- ReAct = Reason + Act.\n",
        "- It means the AI thinks step by step (reasoning) and then takes an action (like answering, searching, or solving).\n",
        "- This is helpful when solving complex problems where the AI must explain its thought process and give the result."
      ],
      "metadata": {
        "id": "Kugwx3G9Eyys"
      }
    },
    {
      "cell_type": "code",
      "source": [
        "# Giving a prompt\n",
        "prompt = \"\"\"Think step by step about the benefits of learning Python.\n",
        "Then, give me 3 real-life projects name and explaination a beginner can build.\n",
        "\"\"\"\n",
        "\n",
        "# Giving response\n",
        "response = model.generate_content(prompt)\n",
        "print(response.text)\n",
        "\n"
      ],
      "metadata": {
        "colab": {
          "base_uri": "https://localhost:8080/",
          "height": 1000
        },
        "id": "TtxQEUlXF-Px",
        "outputId": "95718aa3-8090-460b-f561-9da877309236"
      },
      "execution_count": 35,
      "outputs": [
        {
          "output_type": "stream",
          "name": "stdout",
          "text": [
            "Okay, let's break down the benefits of learning Python, followed by some beginner-friendly project ideas.\n",
            "\n",
            "**Benefits of Learning Python: Step-by-Step**\n",
            "\n",
            "1.  **Ease of Learning (Beginner-Friendly):**\n",
            "    *   *Step 1: Simple Syntax:* Python uses a clear, readable syntax that resembles plain English.  Less punctuation and special characters compared to languages like C++ or Java make it easier to grasp the fundamentals.\n",
            "    *   *Step 2: Gentle Learning Curve:* You can start writing simple programs very quickly, gaining confidence and motivation early on.\n",
            "    *   *Step 3: Abundant Learning Resources:* Huge community support, tons of online tutorials, documentation, and courses (free and paid) make it easy to find help when you get stuck.\n",
            "\n",
            "2.  **Versatility and Wide Applicability:**\n",
            "    *   *Step 1: Web Development:* Python frameworks like Django and Flask simplify building web applications (from simple blogs to complex e-commerce platforms).\n",
            "    *   *Step 2: Data Science and Machine Learning:* Python is the dominant language in these fields due to powerful libraries like NumPy, Pandas, Scikit-learn, TensorFlow, and PyTorch.\n",
            "    *   *Step 3: Scripting and Automation:* Automate repetitive tasks like file management, system administration, or web scraping.\n",
            "    *   *Step 4: Scientific Computing:* Used extensively in simulations, data analysis, and research across various scientific disciplines.\n",
            "    *   *Step 5: Game Development:*  Libraries like Pygame allow you to create 2D games.\n",
            "    *   *Step 6: Desktop Applications:* Build GUI applications using libraries like Tkinter or PyQt.\n",
            "\n",
            "3.  **Large and Active Community:**\n",
            "    *   *Step 1: Extensive Libraries and Frameworks:* Python has a vast collection of pre-built modules (libraries) that provide functionality for almost any task, saving you time and effort.\n",
            "    *   *Step 2: Active Online Forums and Communities:*  Places like Stack Overflow, Reddit (r/learnpython), and dedicated Python forums offer a wealth of knowledge and support.\n",
            "    *   *Step 3: Open Source and Collaborative:**  Python is open-source, meaning it's free to use and distribute, and the community actively contributes to its development.\n",
            "\n",
            "4.  **High Demand and Career Opportunities:**\n",
            "    *   *Step 1: Growing Job Market:* Python developers are in high demand across various industries, from tech companies to finance and healthcare.\n",
            "    *   *Step 2: Diverse Roles:* Python skills can lead to roles like Web Developer, Data Scientist, Machine Learning Engineer, Software Engineer, DevOps Engineer, and more.\n",
            "    *   *Step 3: Competitive Salaries:*  Python-related jobs often come with attractive salaries.\n",
            "\n",
            "5.  **Scalability and Integration:**\n",
            "    *   *Step 1: Scalable Solutions:* Python can handle large datasets and complex tasks, making it suitable for building scalable applications.\n",
            "    *   *Step 2: Integration with Other Technologies:* Python can easily integrate with other languages and technologies, such as Java, C++, and databases like MySQL and PostgreSQL.\n",
            "\n",
            "**3 Beginner-Friendly Python Projects**\n",
            "\n",
            "1.  **Number Guessing Game:**\n",
            "\n",
            "    *   *Explanation:* This classic project involves generating a random number within a specified range and allowing the user to guess it. The program provides feedback (\"Too high,\" \"Too low\") until the user guesses correctly. It's a great way to learn about:\n",
            "        *   Random number generation (`random` module)\n",
            "        *   Input/output (`input()` and `print()`)\n",
            "        *   Conditional statements (`if`, `elif`, `else`)\n",
            "        *   Loops (`while`)\n",
            "    *   *Project Steps:*\n",
            "        1.  Import the `random` module.\n",
            "        2.  Generate a random number between 1 and 100 (or a range of your choosing).\n",
            "        3.  Get the user's guess using `input()`.\n",
            "        4.  Use `if/elif/else` statements to compare the guess to the random number and provide feedback.\n",
            "        5.  Use a `while` loop to allow the user to keep guessing until they get it right.\n",
            "        6.  Add a counter to track the number of guesses.\n",
            "        7. Congratulate the user when they win\n",
            "\n",
            "2.  **Simple To-Do List Application:**\n",
            "\n",
            "    *   *Explanation:* A program that allows the user to add, view, and remove tasks from a to-do list.  This introduces basic data structures and user interaction.  It's a good way to learn about:\n",
            "        *   Lists (to store the to-do items)\n",
            "        *   User input and output\n",
            "        *   Loops (to display the list)\n",
            "        *   Conditional statements (to handle different commands)\n",
            "    *   *Project Steps:*\n",
            "        1.  Initialize an empty list to store to-do items.\n",
            "        2.  Present a menu to the user with options like \"Add Task\", \"View Tasks\", \"Remove Task\", and \"Exit\".\n",
            "        3.  Use a `while` loop to keep the program running until the user chooses \"Exit\".\n",
            "        4.  Based on the user's choice, perform the corresponding action:\n",
            "            *   **Add Task:**  Prompt the user for the task description and append it to the list.\n",
            "            *   **View Tasks:**  Iterate through the list and display each task with its index.\n",
            "            *   **Remove Task:**  Prompt the user for the index of the task to remove and use `list.pop()` to remove it. Handle potential errors (e.g., invalid index).\n",
            "\n",
            "3.  **Basic Calculator:**\n",
            "\n",
            "    *   *Explanation:* This project allows the user to perform simple arithmetic operations (addition, subtraction, multiplication, division). It's a great way to learn about:\n",
            "        *   User input and output\n",
            "        *   Data type conversion (`float()` or `int()`)\n",
            "        *   Conditional statements (to choose the operation)\n",
            "        *   Error handling (`try...except` to handle division by zero, etc.)\n",
            "    *   *Project Steps:*\n",
            "        1.  Present a menu of operations to the user (e.g., 1. Add, 2. Subtract, 3. Multiply, 4. Divide).\n",
            "        2.  Get the user's choice.\n",
            "        3.  Prompt the user to enter two numbers.\n",
            "        4.  Convert the input to `float` (to handle decimal numbers).\n",
            "        5.  Use `if/elif/else` statements to perform the chosen operation and display the result.\n",
            "        6.  Use a `try...except` block to handle potential errors like `ZeroDivisionError`.\n",
            "        7. Add loop in the future if you want to perform multiple operations.\n",
            "\n",
            "These projects are designed to be achievable for beginners and provide a solid foundation for further Python learning. Remember to break down each project into smaller steps and focus on understanding the core concepts involved. Good luck!\n",
            "\n"
          ]
        }
      ]
    }
  ]
}