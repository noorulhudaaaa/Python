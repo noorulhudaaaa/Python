{
  "cells": [
    {
      "cell_type": "markdown",
      "source": [
        "# Lists\n",
        "\n",
        "A list is a collection of items stored in a single variable. You can store numbers, words, or a mix of both.\n",
        "\n",
        "---\n",
        "\n",
        "## 🔹 Key Points about Lists\n",
        "\n",
        "- Lists are ordered (they keep the order you add items in)\n",
        "- Lists are changeable (you can update, add, or remove items)\n",
        "- Lists can store multiple data types (e.g., numbers and strings)\n",
        "- You can have duplicate values in a list\n",
        "- Lists are dynamic — they grow or shrink as you add/remove items\n",
        "\n",
        "---\n",
        "\n",
        "```python\n",
        "myList = [\"item1\", \"item2\", \"item3\", \"item4\"]\n",
        "```"
      ],
      "metadata": {
        "id": "9b5gEH6R0SQS"
      }
    },
    {
      "cell_type": "code",
      "source": [
        "# Syntax\n",
        "\n",
        "emptyList = []\n",
        "list1 = [\"apple\", \"banana\", \"cherry\"]     # string list\n",
        "list2 = [1, 5, 7, 9, 3]                   # Int list\n",
        "list3 = [True, False, False]              # Boolen list\n",
        "mixed = [\"noor\", 24, True]\n",
        "nested = [[1,2], [6,7]]\n"
      ],
      "metadata": {
        "id": "iH4Typ2o0TW-"
      },
      "execution_count": 103,
      "outputs": []
    },
    {
      "cell_type": "code",
      "source": [
        "# Access elements in list\n",
        "\n",
        "myList = [1,2,3,4,5]\n",
        "print(myList[0])\n",
        "print(myList[::-1])\n",
        "print(myList[-1])\n"
      ],
      "metadata": {
        "colab": {
          "base_uri": "https://localhost:8080/"
        },
        "id": "aEwtRDGr2Q8B",
        "outputId": "65f62598-f3b6-4ea1-ccc9-34ed57ae2717"
      },
      "execution_count": 26,
      "outputs": [
        {
          "output_type": "stream",
          "name": "stdout",
          "text": [
            "1\n",
            "[5, 4, 3, 2, 1]\n",
            "5\n"
          ]
        }
      ]
    },
    {
      "cell_type": "code",
      "source": [
        "# Accessing Nested List\n",
        "\n",
        "nested = [[1,2], [6,7]]\n",
        "print(nested[0][1])\n",
        "print(nested[1][1])\n",
        "print(nested[1][0])\n"
      ],
      "metadata": {
        "colab": {
          "base_uri": "https://localhost:8080/"
        },
        "id": "2fqPFzhfy_HB",
        "outputId": "9bba2399-edb6-4c98-a1c5-88cd43e29855"
      },
      "execution_count": 5,
      "outputs": [
        {
          "output_type": "stream",
          "name": "stdout",
          "text": [
            "2\n",
            "7\n",
            "6\n"
          ]
        }
      ]
    },
    {
      "cell_type": "code",
      "source": [
        "# Modify Lists\n",
        "\n",
        "print(\"Original List: \", myList)\n",
        "\n",
        "myList[3]= 9\n",
        "print(\"Modified List: \", myList)\n"
      ],
      "metadata": {
        "colab": {
          "base_uri": "https://localhost:8080/"
        },
        "id": "fvKJ4I583LlP",
        "outputId": "65fde57c-96f1-421f-dfe5-d4358e83651f"
      },
      "execution_count": 27,
      "outputs": [
        {
          "output_type": "stream",
          "name": "stdout",
          "text": [
            "Original List:  [1, 2, 3, 4, 5]\n",
            "Modified List:  [1, 2, 3, 9, 5]\n"
          ]
        }
      ]
    },
    {
      "cell_type": "code",
      "source": [
        "# Unpacking Lists\n",
        "\n",
        "m, n, o, p, q = [2,4,6,8,10]\n",
        "print(m)\n",
        "print(n)\n",
        "print(o)\n",
        "print(p)\n",
        "print(q)"
      ],
      "metadata": {
        "colab": {
          "base_uri": "https://localhost:8080/"
        },
        "id": "BUu0JDPoz9mw",
        "outputId": "c9bdc525-bea4-4389-f5cb-44b120e613d9"
      },
      "execution_count": 6,
      "outputs": [
        {
          "output_type": "stream",
          "name": "stdout",
          "text": [
            "2\n",
            "4\n",
            "6\n",
            "8\n",
            "10\n"
          ]
        }
      ]
    },
    {
      "cell_type": "markdown",
      "source": [
        "# List Methods"
      ],
      "metadata": {
        "id": "1aodKnRPdTam"
      }
    },
    {
      "cell_type": "code",
      "source": [
        "# Append - add an element to the end of list\n",
        "\n",
        "print(\"Original List: \", myList)\n",
        "\n",
        "myList.append(8)\n",
        "print(\"List after adding one element: \", myList)\n"
      ],
      "metadata": {
        "colab": {
          "base_uri": "https://localhost:8080/"
        },
        "id": "HigG9wQX30o7",
        "outputId": "9c7da17c-fbc9-4d8f-f67e-81f4bf897755"
      },
      "execution_count": 28,
      "outputs": [
        {
          "output_type": "stream",
          "name": "stdout",
          "text": [
            "Original List:  [1, 2, 3, 9, 5]\n",
            "List after adding one element:  [1, 2, 3, 9, 5, 8]\n"
          ]
        }
      ]
    },
    {
      "cell_type": "code",
      "source": [
        "#insert - add an element at a specified position in list  - (index, value)\n",
        "\n",
        "print(\"Original List: \", myList)\n",
        "\n",
        "myList.insert(1, 6)\n",
        "print(\"List after adding one element at index 1: \", myList)\n"
      ],
      "metadata": {
        "colab": {
          "base_uri": "https://localhost:8080/"
        },
        "id": "tRMdJj9kc4pC",
        "outputId": "e93905a3-c3f0-40ed-e95c-8a4f1fec1bba"
      },
      "execution_count": 29,
      "outputs": [
        {
          "output_type": "stream",
          "name": "stdout",
          "text": [
            "Original List:  [1, 2, 3, 9, 5, 8]\n",
            "List after adding one element at index 1:  [1, 6, 2, 3, 9, 5, 8]\n"
          ]
        }
      ]
    },
    {
      "cell_type": "code",
      "source": [
        "# Extend  -  Adding multiple elements at the end of the list\n",
        "\n",
        "print(\"Original List: \", myList)\n",
        "\n",
        "myList.extend([0, 3, 4])\n",
        "print(\"List after adding multiple elements at the end: \", myList)\n",
        "\n"
      ],
      "metadata": {
        "colab": {
          "base_uri": "https://localhost:8080/"
        },
        "id": "czzETvoCdwo4",
        "outputId": "d9a4f0f0-f368-468d-f52b-778e88602939"
      },
      "execution_count": 30,
      "outputs": [
        {
          "output_type": "stream",
          "name": "stdout",
          "text": [
            "Original List:  [1, 6, 2, 3, 9, 5, 8]\n",
            "List after adding multiple elements at the end:  [1, 6, 2, 3, 9, 5, 8, 0, 3, 4]\n"
          ]
        }
      ]
    },
    {
      "cell_type": "code",
      "source": [
        "# Remove - Removes the first occurence of tha value that you ask to remove\n",
        "\n",
        "print(\"Original List: \", myList)\n",
        "\n",
        "myList.remove(8)\n",
        "print(\"List after removing the given element from it: \", myList)\n"
      ],
      "metadata": {
        "colab": {
          "base_uri": "https://localhost:8080/"
        },
        "id": "gaS4zRc8e_vd",
        "outputId": "f2b77b14-cae3-4521-8f4a-9454b2e0bd97"
      },
      "execution_count": 33,
      "outputs": [
        {
          "output_type": "stream",
          "name": "stdout",
          "text": [
            "Original List:  [1, 6, 2, 3, 9, 5, 8, 0, 3, 4]\n",
            "List after removing the given element from it:  [1, 6, 2, 3, 9, 5, 0, 3, 4]\n"
          ]
        }
      ]
    },
    {
      "cell_type": "code",
      "source": [
        "# Pop - Removes the last element by default\n",
        "\n",
        "print(\"Original List: \", myList)\n",
        "\n",
        "myList.pop()\n",
        "print(\"List after poping an element from it: \", myList)\n"
      ],
      "metadata": {
        "colab": {
          "base_uri": "https://localhost:8080/"
        },
        "id": "h1Q77H72gAsA",
        "outputId": "7c30e5a6-35e8-42a5-e037-3b5e840f0c0e"
      },
      "execution_count": 34,
      "outputs": [
        {
          "output_type": "stream",
          "name": "stdout",
          "text": [
            "Original List:  [1, 6, 2, 3, 9, 5, 0, 3, 4]\n",
            "List after poping an element from it:  [1, 6, 2, 3, 9, 5, 0, 3]\n"
          ]
        }
      ]
    },
    {
      "cell_type": "code",
      "source": [
        "# Index - get index of the first match\n",
        "\n",
        "print(\"List: \", myList)\n",
        "\n",
        "print(\"Index of provided element is: \", myList.index(0))\n"
      ],
      "metadata": {
        "colab": {
          "base_uri": "https://localhost:8080/"
        },
        "id": "vQfG9-sdghEe",
        "outputId": "fbb832ec-5ed0-4082-fc1b-dd71ab8fbcfa"
      },
      "execution_count": 39,
      "outputs": [
        {
          "output_type": "stream",
          "name": "stdout",
          "text": [
            "List:  [1, 6, 2, 3, 9, 5, 0, 3]\n",
            "Index of provided element is:  6\n"
          ]
        }
      ]
    },
    {
      "cell_type": "code",
      "source": [
        "# Count - Gets the number of occurences of an element\n",
        "\n",
        "print(\"List: \", myList)\n",
        "\n",
        "print(\"Count of provided element in list is: \", myList.count(3))\n"
      ],
      "metadata": {
        "colab": {
          "base_uri": "https://localhost:8080/"
        },
        "id": "unHwNi5uhdRW",
        "outputId": "a99067bf-89be-43bd-bea0-729327be2a7f"
      },
      "execution_count": 43,
      "outputs": [
        {
          "output_type": "stream",
          "name": "stdout",
          "text": [
            "List:  [0, 1, 2, 3, 3, 5, 6, 9]\n",
            "Count of provided element in list is:  2\n"
          ]
        }
      ]
    },
    {
      "cell_type": "code",
      "source": [
        "# Sort - Sorts list in ascending order\n",
        "\n",
        "print(\"Original List: \", myList)\n",
        "\n",
        "myList.sort()\n",
        "print(\"Sorted list: \", myList)\n"
      ],
      "metadata": {
        "colab": {
          "base_uri": "https://localhost:8080/"
        },
        "id": "fIr5oD834nrt",
        "outputId": "f5de3aec-5650-45d7-ea54-ed78b36d1422"
      },
      "execution_count": 42,
      "outputs": [
        {
          "output_type": "stream",
          "name": "stdout",
          "text": [
            "Original List:  [0, 1, 2, 3, 3, 5, 6, 9]\n",
            "Sorted list:  [0, 1, 2, 3, 3, 5, 6, 9]\n"
          ]
        }
      ]
    },
    {
      "cell_type": "code",
      "source": [
        "# Case Sensitive Sorting\n",
        "\n",
        "fruitList = [\"banana\", \"Orange\", \"Kiwi\", \"cherry\"]\n",
        "fruitList.sort()\n",
        "print(\"Sorted List: \", fruitList)\n"
      ],
      "metadata": {
        "colab": {
          "base_uri": "https://localhost:8080/"
        },
        "id": "O1mYmc1cD40S",
        "outputId": "1cd8cd50-a0ee-4a73-ab37-660f164ab813"
      },
      "execution_count": 109,
      "outputs": [
        {
          "output_type": "stream",
          "name": "stdout",
          "text": [
            "Sorted List:  ['Kiwi', 'Orange', 'banana', 'cherry']\n"
          ]
        }
      ]
    },
    {
      "cell_type": "code",
      "source": [
        "# Reverse - Reverses the list order\n",
        "\n",
        "print(\"Original List: \", myList)\n",
        "\n",
        "myList.reverse()\n",
        "print(\"Reversed list: \", myList)"
      ],
      "metadata": {
        "colab": {
          "base_uri": "https://localhost:8080/"
        },
        "id": "kvYRdEs34pUF",
        "outputId": "635ba541-e8de-47c9-f7d1-04dc8821a952"
      },
      "execution_count": 60,
      "outputs": [
        {
          "output_type": "stream",
          "name": "stdout",
          "text": [
            "Original List:  [9, 6, 5, 3, 3, 2, 1, 0]\n",
            "Reversed list:  [0, 1, 2, 3, 3, 5, 6, 9]\n"
          ]
        }
      ]
    },
    {
      "cell_type": "code",
      "source": [
        "# Copy - Creates a copy of the list\n",
        "\n",
        "new_list = myList.copy()\n",
        "\n",
        "print(\"Original List: \", myList)\n",
        "print(\"New list: \", new_list)\n"
      ],
      "metadata": {
        "id": "iptfKAQ15noN",
        "colab": {
          "base_uri": "https://localhost:8080/"
        },
        "outputId": "dbd417af-2fc5-4722-a549-0d19190bc39d"
      },
      "execution_count": 61,
      "outputs": [
        {
          "output_type": "stream",
          "name": "stdout",
          "text": [
            "Original List:  [0, 1, 2, 3, 3, 5, 6, 9]\n",
            "New list:  [0, 1, 2, 3, 3, 5, 6, 9]\n"
          ]
        }
      ]
    },
    {
      "cell_type": "code",
      "source": [
        "# Clear - Removes all the element from the list\n",
        "\n",
        "print(\"New list: \", new_list)\n",
        "\n",
        "new_list.clear()\n",
        "print(\"Cleared list: \", new_list)\n"
      ],
      "metadata": {
        "id": "qkLEYZVH6dGV",
        "colab": {
          "base_uri": "https://localhost:8080/"
        },
        "outputId": "c2d38a5e-ed53-4287-d989-0e96e2b3b89c"
      },
      "execution_count": 62,
      "outputs": [
        {
          "output_type": "stream",
          "name": "stdout",
          "text": [
            "New list:  [0, 1, 2, 3, 3, 5, 6, 9]\n",
            "Cleared list:  []\n"
          ]
        }
      ]
    },
    {
      "cell_type": "code",
      "source": [
        "# Looping through list\n",
        "\n",
        "new_list=['a','b','c','z']\n",
        "\n",
        "for item in (new_list):\n",
        "  print(item)"
      ],
      "metadata": {
        "colab": {
          "base_uri": "https://localhost:8080/"
        },
        "id": "-pvhuLyTjh85",
        "outputId": "91de790c-8445-4e37-a39c-97e0fcf06576"
      },
      "execution_count": 58,
      "outputs": [
        {
          "output_type": "stream",
          "name": "stdout",
          "text": [
            "a\n",
            "b\n",
            "c\n",
            "z\n"
          ]
        }
      ]
    },
    {
      "cell_type": "code",
      "source": [
        "# Enumerate - Adds index\n",
        "\n",
        "for i, item in enumerate(new_list):\n",
        "  print(i, item)"
      ],
      "metadata": {
        "colab": {
          "base_uri": "https://localhost:8080/"
        },
        "id": "Lv2Fpao7lWv-",
        "outputId": "4c6767db-f837-463c-f383-8b809b0bfb77"
      },
      "execution_count": 59,
      "outputs": [
        {
          "output_type": "stream",
          "name": "stdout",
          "text": [
            "0 a\n",
            "1 b\n",
            "2 c\n",
            "3 z\n"
          ]
        }
      ]
    },
    {
      "cell_type": "markdown",
      "source": [
        "# List Comprehensions"
      ],
      "metadata": {
        "id": "9U5L_pVuCl_s"
      }
    },
    {
      "cell_type": "code",
      "source": [
        "# List Comprehensions\n",
        "\n",
        "squares = [x**2 for x in range(15)]\n",
        "print(\"Sqaure values from 1-15: \", squares)\n"
      ],
      "metadata": {
        "colab": {
          "base_uri": "https://localhost:8080/"
        },
        "id": "iogWM0VhmHjw",
        "outputId": "708abdbe-f91b-480b-cc9a-7adc075e2173"
      },
      "execution_count": 64,
      "outputs": [
        {
          "output_type": "stream",
          "name": "stdout",
          "text": [
            "Sqaure values from 1-15:  [0, 1, 4, 9, 16, 25, 36, 49, 64, 81, 100, 121, 144, 169, 196]\n"
          ]
        }
      ]
    },
    {
      "cell_type": "code",
      "source": [
        "# Square of only even numbers - Applying condition\n",
        "\n",
        "even_squares = [x**2 for x in range(15) if x % 2 == 0]\n",
        "print(\"Square of even numbers from 1-15: \", even_squares)\n"
      ],
      "metadata": {
        "colab": {
          "base_uri": "https://localhost:8080/"
        },
        "id": "IjAaeeiIm24M",
        "outputId": "c4531ec3-b5af-46c2-c418-077f02bb92f1"
      },
      "execution_count": 65,
      "outputs": [
        {
          "output_type": "stream",
          "name": "stdout",
          "text": [
            "Square of even numbers from 1-15:  [0, 4, 16, 36, 64, 100, 144, 196]\n"
          ]
        }
      ]
    },
    {
      "cell_type": "code",
      "source": [
        "# Square of only odd numbers - Applying condition\n",
        "\n",
        "odd_squares = [x**2 for x in range(15) if x % 2 != 0]\n",
        "print(\"Square of odd numbers from 1-15: \", odd_squares)\n"
      ],
      "metadata": {
        "colab": {
          "base_uri": "https://localhost:8080/"
        },
        "id": "nbRmlQGmnJ5D",
        "outputId": "db16e784-00a8-411f-a897-47dd6c44e12d"
      },
      "execution_count": 68,
      "outputs": [
        {
          "output_type": "stream",
          "name": "stdout",
          "text": [
            "Square of odd numbers from 1-15:  [1, 9, 25, 49, 81, 121, 169]\n"
          ]
        }
      ]
    },
    {
      "cell_type": "code",
      "source": [
        "# if elements have \"a\" , put them in newlist\n",
        "\n",
        "fruits = [\"apple\", \"banana\", \"cherry\", \"kiwi\", \"mango\"]\n",
        "\n",
        "newlist = [x for x in fruits if \"a\" in x]     # check each fruit and put in new list\n",
        "\n",
        "print(\"Fruits that have an 'a' in them: \", newlist)"
      ],
      "metadata": {
        "colab": {
          "base_uri": "https://localhost:8080/"
        },
        "id": "VSBijHt1BlYz",
        "outputId": "5a62b736-4200-4508-a45f-b155113b6e67"
      },
      "execution_count": 106,
      "outputs": [
        {
          "output_type": "stream",
          "name": "stdout",
          "text": [
            "Fruits that have an 'a' in them:  ['apple', 'banana', 'mango']\n"
          ]
        }
      ]
    },
    {
      "cell_type": "code",
      "source": [
        "fruits = [\"apple\", \"banana\", \"cherry\", \"kiwi\", \"mango\"]\n",
        "\n",
        "newlist = [x for x in fruits if x != \"apple\"]     # check each fruit\n",
        "\n",
        "print(\"Fruits other than apple: \", newlist)"
      ],
      "metadata": {
        "colab": {
          "base_uri": "https://localhost:8080/"
        },
        "id": "1_VHy6RoCB_z",
        "outputId": "1de77b21-e0d2-4969-8557-d27c866b48c2"
      },
      "execution_count": 107,
      "outputs": [
        {
          "output_type": "stream",
          "name": "stdout",
          "text": [
            "Fruits other than apple:  ['banana', 'cherry', 'kiwi', 'mango']\n"
          ]
        }
      ]
    },
    {
      "cell_type": "markdown",
      "source": [
        "# Membership"
      ],
      "metadata": {
        "id": "eeVheJpn5W1e"
      }
    },
    {
      "cell_type": "code",
      "source": [
        "# Using if-else, elif to check if an element is present in the list - Membership\n",
        "\n",
        "my_list= [3,4,5,7,8,9,11,14,15,18]\n",
        "\n",
        "\n",
        "# 1st Condition\n",
        "if 13 in my_list:\n",
        "  print(\"13 is present in the list!\")\n",
        "else:\n",
        "  print(\"13 is not present in the list!\")\n",
        "\n",
        "\n",
        "# 2nd Condition\n",
        "if 6 not in my_list:\n",
        "  print(\"6 is not present in the list!\")\n",
        "else:\n",
        "  print(\"6 is present in the list!\")\n",
        "\n",
        "\n",
        "# 3rd Condition\n",
        "if 15 in my_list:\n",
        "  print(\"15 is present in the list!\")\n",
        "else:\n",
        "  print(\"15 is not in the list!\")\n",
        "\n",
        "\n",
        "# 4th Condition\n",
        "if 1 in my_list:\n",
        "  print(\"1 is present in the list!\")\n",
        "elif 2 in my_list:\n",
        "  print(\"2 is present in the list!\")\n",
        "else:\n",
        "  print(\"Both 1 and 2 are not present in the list\")\n"
      ],
      "metadata": {
        "colab": {
          "base_uri": "https://localhost:8080/"
        },
        "id": "LvijHqWq5Zbt",
        "outputId": "0d89a155-1f2f-4608-9f0e-bb72586837a8"
      },
      "execution_count": 7,
      "outputs": [
        {
          "output_type": "stream",
          "name": "stdout",
          "text": [
            "13 is not present in the list!\n",
            "6 is not present in the list!\n",
            "15 is present in the list!\n",
            "Both 1 and 2 are not present in the list\n"
          ]
        }
      ]
    },
    {
      "cell_type": "markdown",
      "source": [
        "# Practice"
      ],
      "metadata": {
        "id": "Y5zZiQkX9Lcv"
      }
    },
    {
      "cell_type": "code",
      "source": [
        "# Showing even and odd for elements in list\n",
        "\n",
        "userList = [1, 2, 3, 4, 6, 8, 9, 0]\n",
        "for item in userList:\n",
        "  if item % 2 == 0:\n",
        "    print(item, \"is even!\")\n",
        "\n",
        "  else:\n",
        "    print(item, \"is odd!\")\n",
        ""
      ],
      "metadata": {
        "colab": {
          "base_uri": "https://localhost:8080/"
        },
        "id": "pUmexr2CymlY",
        "outputId": "d2c0d6e3-9518-4879-8a5f-9ff45215b08a"
      },
      "execution_count": 70,
      "outputs": [
        {
          "output_type": "stream",
          "name": "stdout",
          "text": [
            "1 is odd!\n",
            "2 is even!\n",
            "3 is odd!\n",
            "4 is even!\n",
            "6 is even!\n",
            "8 is even!\n",
            "9 is odd!\n",
            "0 is even!\n"
          ]
        }
      ]
    },
    {
      "cell_type": "code",
      "source": [
        "# using while loop to print all values in the list\n",
        "\n",
        "print(\"Length of list: \", len(userList))\n",
        "# index at 0\n",
        "i = 0\n",
        "while i < len(userList):\n",
        "  print(f\"Current Element: {userList[i]}\")\n",
        "\n",
        "  # incrementing by 1\n",
        "  i+=1\n"
      ],
      "metadata": {
        "colab": {
          "base_uri": "https://localhost:8080/"
        },
        "id": "x3Ri-L28zRtQ",
        "outputId": "02a06ae0-1c77-4d53-e1b7-e3fdc1d62a4f"
      },
      "execution_count": 100,
      "outputs": [
        {
          "output_type": "stream",
          "name": "stdout",
          "text": [
            "Length of list:  8\n",
            "Current Element: 1\n",
            "Current Element: 2\n",
            "Current Element: 3\n",
            "Current Element: 4\n",
            "Current Element: 6\n",
            "Current Element: 8\n",
            "Current Element: 9\n",
            "Current Element: 0\n"
          ]
        }
      ]
    },
    {
      "cell_type": "markdown",
      "source": [
        "# List Slicing"
      ],
      "metadata": {
        "id": "xvYZjlEgDKWN"
      }
    },
    {
      "cell_type": "code",
      "source": [
        "# List Slicing\n",
        "\n",
        "a = [2, 4, 5, 6, 7, 8]\n",
        "print(\"Original List: \", a)\n",
        "\n",
        "slicedList = a[1:4]\n",
        "\n",
        "print(\"Sliced list from index 1 to 4: \", slicedList)"
      ],
      "metadata": {
        "colab": {
          "base_uri": "https://localhost:8080/"
        },
        "id": "VK07whrR1aSA",
        "outputId": "24fdd4d4-2e30-4f5a-b34b-849a5de3a388"
      },
      "execution_count": 78,
      "outputs": [
        {
          "output_type": "stream",
          "name": "stdout",
          "text": [
            "Original List:  [2, 4, 5, 6, 7, 8]\n",
            "Sliced list from index 1 to 4:  [4, 5, 6]\n"
          ]
        }
      ]
    },
    {
      "cell_type": "code",
      "source": [
        "print(\"Original List: \", a)\n",
        "\n",
        "slicedList = a[:5]\n",
        "\n",
        "print(\"Sliced list from index starting to 5: \", slicedList)"
      ],
      "metadata": {
        "colab": {
          "base_uri": "https://localhost:8080/"
        },
        "id": "CbwDJsoV4AZp",
        "outputId": "3ae0f372-5f99-41b3-8477-4fbcbc9e6d22"
      },
      "execution_count": 80,
      "outputs": [
        {
          "output_type": "stream",
          "name": "stdout",
          "text": [
            "Original List:  [2, 4, 5, 6, 7, 8]\n",
            "Sliced list from index starting to 5:  [2, 4, 5, 6, 7]\n"
          ]
        }
      ]
    },
    {
      "cell_type": "code",
      "source": [
        "print(\"Original List: \", a)\n",
        "\n",
        "slicedList = a[2:]\n",
        "\n",
        "print(\"Sliced list from index 2 to end: \", slicedList)"
      ],
      "metadata": {
        "colab": {
          "base_uri": "https://localhost:8080/"
        },
        "id": "6lHoejFZ4LuV",
        "outputId": "4e18fe0e-74e7-47cf-c320-6d3fee377271"
      },
      "execution_count": 81,
      "outputs": [
        {
          "output_type": "stream",
          "name": "stdout",
          "text": [
            "Original List:  [2, 4, 5, 6, 7, 8]\n",
            "Sliced list from index 2 to end:  [5, 6, 7, 8]\n"
          ]
        }
      ]
    },
    {
      "cell_type": "code",
      "source": [
        "print(\"Original List: \", a)\n",
        "\n",
        "reversedList = a[::-1]\n",
        "\n",
        "print(\"Reversed List: \", reversedList)"
      ],
      "metadata": {
        "colab": {
          "base_uri": "https://localhost:8080/"
        },
        "id": "KjLZejRx4eX0",
        "outputId": "cdeabb36-f33b-40c6-d772-be8c63b1921b"
      },
      "execution_count": 82,
      "outputs": [
        {
          "output_type": "stream",
          "name": "stdout",
          "text": [
            "Original List:  [2, 4, 5, 6, 7, 8]\n",
            "Reversed List:  [8, 7, 6, 5, 4, 2]\n"
          ]
        }
      ]
    },
    {
      "cell_type": "code",
      "source": [
        "print(\"Original List: \", a)\n",
        "\n",
        "slicedList = a[::2]\n",
        "\n",
        "print(\"Sliced list with 2 steps each: \", slicedList)"
      ],
      "metadata": {
        "colab": {
          "base_uri": "https://localhost:8080/"
        },
        "id": "_fj6Ob8h4qFb",
        "outputId": "671e2ffb-214b-40c2-9ea1-60544be04742"
      },
      "execution_count": 84,
      "outputs": [
        {
          "output_type": "stream",
          "name": "stdout",
          "text": [
            "Original List:  [2, 4, 5, 6, 7, 8]\n",
            "Sliced list with 2 steps each:  [2, 5, 7]\n"
          ]
        }
      ]
    },
    {
      "cell_type": "code",
      "source": [
        "print(\"Original List: \", a)\n",
        "\n",
        "print(\"Last Element: \", a[-1])\n",
        "print(\"Third Last Element: \", a[-3])\n",
        "print(\"Fourth Last Element: \", a[-4])\n",
        "print(\"Sixth Last Element: \", a[-6])"
      ],
      "metadata": {
        "colab": {
          "base_uri": "https://localhost:8080/"
        },
        "id": "NRlMOEOV5E31",
        "outputId": "17183650-7e09-4ec5-9705-5904c7dbf8ab"
      },
      "execution_count": 87,
      "outputs": [
        {
          "output_type": "stream",
          "name": "stdout",
          "text": [
            "Original List:  [2, 4, 5, 6, 7, 8]\n",
            "Last Element:  8\n",
            "Third Last Element:  6\n",
            "Fourth Last Element:  5\n",
            "Sixth Last Element:  2\n"
          ]
        }
      ]
    },
    {
      "cell_type": "code",
      "source": [
        "print(\"Original List: \", a)\n",
        "\n",
        "print(\"From third last index element to the last in list: \" , a[-3:])\n",
        "print(\"From start of the list to the second last index element: \", a[:-2])\n",
        "print(\"From the 4th last index element to the first last index element in list: \", a[-4:-1])"
      ],
      "metadata": {
        "colab": {
          "base_uri": "https://localhost:8080/"
        },
        "id": "Wu_rGLtX5tC0",
        "outputId": "3631f7f5-0e99-409d-9510-d39dcef2bcc7"
      },
      "execution_count": 92,
      "outputs": [
        {
          "output_type": "stream",
          "name": "stdout",
          "text": [
            "Original List:  [2, 4, 5, 6, 7, 8]\n",
            "From third last index element to the last in list:  [6, 7, 8]\n",
            "From start of the list to the second last index element:  [2, 4, 5, 6]\n",
            "From the 4th last index element to the first last index element in list:  [5, 6, 7]\n"
          ]
        }
      ]
    }
  ],
  "metadata": {
    "colab": {
      "toc_visible": true,
      "provenance": []
    },
    "kernelspec": {
      "display_name": "Python 3",
      "name": "python3"
    }
  },
  "nbformat": 4,
  "nbformat_minor": 0
}