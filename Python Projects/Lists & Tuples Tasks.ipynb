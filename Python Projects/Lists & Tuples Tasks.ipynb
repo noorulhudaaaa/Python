{
  "nbformat": 4,
  "nbformat_minor": 0,
  "metadata": {
    "colab": {
      "provenance": [],
      "toc_visible": true
    },
    "kernelspec": {
      "name": "python3",
      "display_name": "Python 3"
    },
    "language_info": {
      "name": "python"
    }
  },
  "cells": [
    {
      "cell_type": "markdown",
      "source": [
        "# Practice Challenges\n"
      ],
      "metadata": {
        "id": "IzevDTOyJWlw"
      }
    },
    {
      "cell_type": "markdown",
      "source": [
        "# TASK 1"
      ],
      "metadata": {
        "id": "-l4_SAqJNmy-"
      }
    },
    {
      "cell_type": "markdown",
      "source": [
        "Create a list with 5 favorite movies. Add one, remove one, and sort the list."
      ],
      "metadata": {
        "id": "DH_ooN-zNZPn"
      }
    },
    {
      "cell_type": "code",
      "source": [
        "# List of 5 fav movies\n",
        "\n",
        "fav_movies = [\"The Exorcist\", \"His House\", \"Smile\", \"Dahmer\", \"Alice in Borderland\"]\n",
        "print(\"\\nMy favorite movies: \", fav_movies)\n",
        "print()\n",
        "\n",
        "# Adding one more\n",
        "fav_movies.append(\"You\")\n",
        "print(\"Favorite movies after adding one: \", fav_movies)\n",
        "print()\n",
        "\n",
        "# Removing one movie\n",
        "fav_movies.remove(\"Alice in Borderland\")\n",
        "print(\"Favorite movies after removing Alice in Borderland: \", fav_movies)\n",
        "print()\n",
        "\n",
        "# Sorting the movies\n",
        "fav_movies.sort()\n",
        "print(\"Sorted movies list: \", fav_movies)\n"
      ],
      "metadata": {
        "colab": {
          "base_uri": "https://localhost:8080/"
        },
        "id": "nANQ8_nQJgrr",
        "outputId": "1af6dcc6-9fd0-45da-c940-c42927306994"
      },
      "execution_count": 40,
      "outputs": [
        {
          "output_type": "stream",
          "name": "stdout",
          "text": [
            "\n",
            "My favorite movies:  ['The Exorcist', 'His House', 'Smile', 'Dahmer', 'Alice in Borderland']\n",
            "\n",
            "Favorite movies after adding one:  ['The Exorcist', 'His House', 'Smile', 'Dahmer', 'Alice in Borderland', 'You']\n",
            "\n",
            "Favorite movies after removing Alice in Borderland:  ['The Exorcist', 'His House', 'Smile', 'Dahmer', 'You']\n",
            "\n",
            "Sorted movies list:  ['Dahmer', 'His House', 'Smile', 'The Exorcist', 'You']\n"
          ]
        }
      ]
    },
    {
      "cell_type": "markdown",
      "source": [
        "# TASK 2"
      ],
      "metadata": {
        "id": "pKyuIirwNuWz"
      }
    },
    {
      "cell_type": "markdown",
      "source": [
        "Create a tuple of student info (name, age, grade). Try modifying it."
      ],
      "metadata": {
        "id": "rGcz6tdcNc-f"
      }
    },
    {
      "cell_type": "code",
      "source": [
        "# Creating a tuple\n",
        "student = (\"Noor\", 24, \"B Grade\")\n",
        "print(\"\\nOriginal Tuple:\", student)\n",
        "\n",
        "# Unpacking the tuple\n",
        "name, age, grade = student\n",
        "print(\"Name:\", name)\n",
        "print(\"Age:\", age)\n",
        "print(\"Grade:\", grade)\n"
      ],
      "metadata": {
        "colab": {
          "base_uri": "https://localhost:8080/"
        },
        "id": "9xTjr1gOXfW2",
        "outputId": "966f7b1b-b6fc-45cc-b198-012820245a9b"
      },
      "execution_count": 39,
      "outputs": [
        {
          "output_type": "stream",
          "name": "stdout",
          "text": [
            "\n",
            "Original Tuple: ('Noor', 24, 'B Grade')\n",
            "Name: Noor\n",
            "Age: 24\n",
            "Grade: B Grade\n"
          ]
        }
      ]
    },
    {
      "cell_type": "code",
      "source": [
        "# It is a tuple so it cannot be directly modified\n",
        "# Convert tuple to list first\n",
        "\n",
        "stu_list = list(student)\n",
        "print(\"\\nConverted to List:\", stu_list)\n"
      ],
      "metadata": {
        "colab": {
          "base_uri": "https://localhost:8080/"
        },
        "id": "FB98RQy8XrSW",
        "outputId": "9a97413d-06b8-4b20-a664-82f81d90d563"
      },
      "execution_count": 27,
      "outputs": [
        {
          "output_type": "stream",
          "name": "stdout",
          "text": [
            "\n",
            "Converted to List: ['Noor', 24, 'B Grade']\n"
          ]
        }
      ]
    },
    {
      "cell_type": "code",
      "source": [
        "# Adding new values\n",
        "stu_list.extend([98, \"Computer Science\"])\n",
        "print(\"\\nAfter Adding Marks and Subject:\", stu_list)\n",
        "\n",
        "# Updating age\n",
        "stu_list[1] = 26\n",
        "print(\"After Changing Age:\", stu_list)\n",
        "\n",
        "# Removing marks\n",
        "stu_list.remove(98)\n",
        "print(\"After Removing Marks:\", stu_list)\n",
        "\n",
        "# Inserting new status\n",
        "stu_list.insert(3, \"Pass\")\n",
        "print(\"After Inserting Status:\", stu_list)\n",
        "\n",
        "# Popping last element\n",
        "stu_list.pop()\n",
        "print(\"After Popping Last Item:\", stu_list)\n"
      ],
      "metadata": {
        "colab": {
          "base_uri": "https://localhost:8080/"
        },
        "id": "W9akVSIbX-wj",
        "outputId": "335b4c4f-8b5e-42ff-fb5e-ccdc2d64636c"
      },
      "execution_count": 38,
      "outputs": [
        {
          "output_type": "stream",
          "name": "stdout",
          "text": [
            "\n",
            "After Adding Marks and Subject: ['Noor', 26, 'B Grade', 'Pass', 98, 'Computer Science']\n",
            "After Changing Age: ['Noor', 26, 'B Grade', 'Pass', 98, 'Computer Science']\n",
            "After Removing Marks: ['Noor', 26, 'B Grade', 'Pass', 'Computer Science']\n",
            "After Inserting Status: ['Noor', 26, 'B Grade', 'Pass', 'Pass', 'Computer Science']\n",
            "After Popping Last Item: ['Noor', 26, 'B Grade', 'Pass', 'Pass']\n"
          ]
        }
      ]
    },
    {
      "cell_type": "code",
      "source": [
        "# Copying the list\n",
        "\n",
        "new_list = stu_list.copy()\n",
        "print(\"\\nNew List:\", new_list)\n",
        "\n",
        "# Clearing the copied list\n",
        "new_list.clear()\n",
        "print(\"Cleared New List:\", new_list)\n"
      ],
      "metadata": {
        "colab": {
          "base_uri": "https://localhost:8080/"
        },
        "id": "xmBIERViYL4_",
        "outputId": "50e6a1e1-3824-4dd3-91fa-4280ac7833f8"
      },
      "execution_count": 37,
      "outputs": [
        {
          "output_type": "stream",
          "name": "stdout",
          "text": [
            "\n",
            "New List: ['Noor', 26, 'B Grade', 'Pass']\n",
            "Cleared New List: []\n"
          ]
        }
      ]
    },
    {
      "cell_type": "code",
      "source": [
        "# Convert list back to tuple\n",
        "\n",
        "student = tuple(stu_list)\n",
        "print(\"\\nFinal Tuple After All Modifications:\", student)\n",
        "print()\n",
        "\n",
        "# Unpacking again\n",
        "name, age, grade, status = student\n",
        "print(\"Name:\", name)\n",
        "print(\"Age:\", age)\n",
        "print(\"Grade:\", grade)\n",
        "print(\"Status:\", status)"
      ],
      "metadata": {
        "colab": {
          "base_uri": "https://localhost:8080/"
        },
        "id": "d_aj8SjHN1XJ",
        "outputId": "21053ea3-4c2c-4b32-e49a-a44bb75efdcc"
      },
      "execution_count": 32,
      "outputs": [
        {
          "output_type": "stream",
          "name": "stdout",
          "text": [
            "\n",
            "Final Tuple After All Modifications: ('Noor', 26, 'B Grade', 'Pass')\n",
            "\n",
            "Name: Noor\n",
            "Age: 26\n",
            "Grade: B Grade\n",
            "Status: Pass\n"
          ]
        }
      ]
    },
    {
      "cell_type": "markdown",
      "source": [
        "# TASK 3"
      ],
      "metadata": {
        "id": "56WeASpQU9WU"
      }
    },
    {
      "cell_type": "markdown",
      "source": [
        "Convert a list of numbers to a tuple and back."
      ],
      "metadata": {
        "id": "pCQzoE0RVBiU"
      }
    },
    {
      "cell_type": "code",
      "source": [
        "# Making a list\n",
        "\n",
        "numbers = [3,4,5,7,8,9,11]\n",
        "print(\"\\nTuple: \", numbers)\n",
        "\n",
        "# Convert list to tuple\n",
        "num_tuple = tuple(numbers)\n",
        "print(\"Converted List: \", num_tuple)\n",
        "\n",
        "# Convert tuple back to list\n",
        "num_list = list(num_tuple)\n",
        "print(\"Converted Tuple: \", num_list)\n",
        "print()"
      ],
      "metadata": {
        "colab": {
          "base_uri": "https://localhost:8080/"
        },
        "id": "HFvHU94zVHns",
        "outputId": "64e76752-682d-4ff9-d37e-25ce0faa090f"
      },
      "execution_count": 42,
      "outputs": [
        {
          "output_type": "stream",
          "name": "stdout",
          "text": [
            "\n",
            "Tuple:  [3, 4, 5, 7, 8, 9, 11]\n",
            "Converted List:  (3, 4, 5, 7, 8, 9, 11)\n",
            "Converted Tuple:  [3, 4, 5, 7, 8, 9, 11]\n",
            "\n"
          ]
        }
      ]
    },
    {
      "cell_type": "markdown",
      "source": [
        "# TASK 4"
      ],
      "metadata": {
        "id": "TiSEopyiZs_R"
      }
    },
    {
      "cell_type": "markdown",
      "source": [
        "Create a nested list representing a 3x3 matrix and access center element."
      ],
      "metadata": {
        "id": "AzU3JSPkZv7O"
      }
    },
    {
      "cell_type": "code",
      "source": [
        "# Create a nested list representing 3*3\n",
        "\n",
        "nested_list = [[2,3,4], [6,8,9], [12,13,15]]\n",
        "\n",
        "# accessing the center element\n",
        "\n",
        "print(\"Center Element:\", nested_list[1][1])"
      ],
      "metadata": {
        "colab": {
          "base_uri": "https://localhost:8080/"
        },
        "id": "rjxNkXCtZ00Z",
        "outputId": "08ce9835-a2fc-4780-bbc4-84729131fd8f"
      },
      "execution_count": 61,
      "outputs": [
        {
          "output_type": "stream",
          "name": "stdout",
          "text": [
            "Center Element: 8\n"
          ]
        }
      ]
    },
    {
      "cell_type": "markdown",
      "source": [
        "# TASK 5"
      ],
      "metadata": {
        "id": "0SMyZ6-Za8J3"
      }
    },
    {
      "cell_type": "markdown",
      "source": [
        "Write a list comprehension to create a list of odd numbers from 1 to 21."
      ],
      "metadata": {
        "id": "42wD_Obna-zC"
      }
    },
    {
      "cell_type": "code",
      "source": [
        "# Creating a list of odd numbers from 1 to 22 using list comprehension\n",
        "\n",
        "odd = [x for x in range(22) if x % 2 != 0]\n",
        "print(\"Odd numbers from 1-21: \", odd)\n"
      ],
      "metadata": {
        "colab": {
          "base_uri": "https://localhost:8080/"
        },
        "id": "XFgw963rbCsC",
        "outputId": "bea52ad7-2cfd-4995-81cd-26d2e92f85c2"
      },
      "execution_count": 59,
      "outputs": [
        {
          "output_type": "stream",
          "name": "stdout",
          "text": [
            "Odd numbers from 1-21:  [1, 3, 5, 7, 9, 11, 13, 15, 17, 19, 21]\n"
          ]
        }
      ]
    }
  ]
}