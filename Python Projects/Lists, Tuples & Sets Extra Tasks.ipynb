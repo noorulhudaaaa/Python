{
  "cells": [
    {
      "cell_type": "markdown",
      "source": [
        "# Extra Tasks"
      ],
      "metadata": {
        "id": "G3p1fhCOb6nL"
      }
    },
    {
      "cell_type": "markdown",
      "source": [
        "# Lists"
      ],
      "metadata": {
        "id": "HXUfQhjrcBr-"
      }
    },
    {
      "cell_type": "markdown",
      "source": [
        "1. Create a list of 5 integers and print it."
      ],
      "metadata": {
        "id": "8s0iFXdqcFwV"
      }
    },
    {
      "cell_type": "code",
      "source": [
        "# Taking a list of 5 integers\n",
        "int_list = [3, 5, 7, 9, 11]\n",
        "\n",
        "# Printing the list\n",
        "print(\"List: \", int_list)\n"
      ],
      "metadata": {
        "id": "XQHU-ZS5cJye",
        "outputId": "ea0e0657-cd54-46cd-bd12-2d51435c3d3c",
        "colab": {
          "base_uri": "https://localhost:8080/"
        }
      },
      "execution_count": null,
      "outputs": [
        {
          "output_type": "stream",
          "name": "stdout",
          "text": [
            "List:  [3, 5, 7, 9, 11]\n"
          ]
        }
      ]
    },
    {
      "cell_type": "markdown",
      "source": [
        "2. Access the third element of the list [10, 20, 30, 40, 50]."
      ],
      "metadata": {
        "id": "-WlJbLsIdE9C"
      }
    },
    {
      "cell_type": "code",
      "source": [
        "# Creating a list\n",
        "my_list = [10, 20, 30, 40, 50]\n",
        "\n",
        "# Printing the third element of list\n",
        "print(\"Third Element of the list: \", my_list[2])\n"
      ],
      "metadata": {
        "id": "AaQ6eC4CcgcD",
        "colab": {
          "base_uri": "https://localhost:8080/"
        },
        "outputId": "7966b263-f87b-431c-e8c1-cb6f98aadeb4"
      },
      "execution_count": null,
      "outputs": [
        {
          "output_type": "stream",
          "name": "stdout",
          "text": [
            "Third Element of the list:  30\n"
          ]
        }
      ]
    },
    {
      "cell_type": "markdown",
      "source": [
        "3. Change the second item in a list [1, 2, 3, 4] to 10"
      ],
      "metadata": {
        "id": "gNYFd4v5eYB9"
      }
    },
    {
      "cell_type": "code",
      "source": [
        "# Creating a list\n",
        "my_list = [1, 2, 3, 4]\n",
        "print(\"Original List: \", my_list)\n",
        "\n",
        "# Replacing second item on index 1 with 10\n",
        "my_list[1] = 10\n",
        "print(\"Updated List: \", my_list)\n"
      ],
      "metadata": {
        "id": "C9ZLCos-eaSl",
        "colab": {
          "base_uri": "https://localhost:8080/"
        },
        "outputId": "64525f72-5aef-4964-ba68-59d1f390d2df"
      },
      "execution_count": 1,
      "outputs": [
        {
          "output_type": "stream",
          "name": "stdout",
          "text": [
            "Original List:  [1, 2, 3, 4]\n",
            "Updated List:  [1, 10, 3, 4]\n"
          ]
        }
      ]
    },
    {
      "cell_type": "markdown",
      "source": [
        "4. Append the number 99 to a list [1, 2, 3]"
      ],
      "metadata": {
        "id": "tgY-a1I-dQje"
      }
    },
    {
      "cell_type": "code",
      "source": [
        "# Creating a list\n",
        "my_list = [1, 2, 3]\n",
        "print(\"Original List: \", my_list)\n",
        "\n",
        "# Adding number 99 to end\n",
        "my_list.append(99)\n",
        "print(\"Updated List: \", my_list)\n"
      ],
      "metadata": {
        "colab": {
          "base_uri": "https://localhost:8080/"
        },
        "id": "WlLCVUU_dhl3",
        "outputId": "05b0482e-bc46-4835-e829-10578a321592"
      },
      "execution_count": 3,
      "outputs": [
        {
          "output_type": "stream",
          "name": "stdout",
          "text": [
            "Original List:  [1, 2, 3]\n",
            "Updated List:  [1, 2, 3, 99]\n"
          ]
        }
      ]
    },
    {
      "cell_type": "markdown",
      "source": [
        "5. Insert the number 25 at index 2 in the list [10, 20, 30, 40]"
      ],
      "metadata": {
        "id": "trtUUUa6eIYq"
      }
    },
    {
      "cell_type": "code",
      "source": [
        "# Creating a list\n",
        "my_list = [10, 20, 30, 40]\n",
        "print(\"Original List: \", my_list)\n",
        "\n",
        "# Inserting 25 at index 2\n",
        "my_list.insert(2, 25)\n",
        "print(\"Updated List: \", my_list)\n",
        ""
      ],
      "metadata": {
        "colab": {
          "base_uri": "https://localhost:8080/"
        },
        "id": "fH9pyQKleRFM",
        "outputId": "18df5244-2804-4166-f647-93d0750f5564"
      },
      "execution_count": 6,
      "outputs": [
        {
          "output_type": "stream",
          "name": "stdout",
          "text": [
            "Original List:  [10, 20, 30, 40]\n",
            "Updated List:  [10, 20, 25, 30, 40]\n"
          ]
        }
      ]
    },
    {
      "cell_type": "markdown",
      "source": [
        "6. Remove the value 3 from the list [1, 2, 3, 4, 5]"
      ],
      "metadata": {
        "id": "yx_EyRK_e5GK"
      }
    },
    {
      "cell_type": "code",
      "source": [
        "# Making a list\n",
        "my_list =  [1, 2, 3, 4, 5]\n",
        "print(\"Original List: \", my_list)\n",
        "\n",
        "# Removing 3 from the list\n",
        "my_list.remove(3)\n",
        "print(\"Updated List: \", my_list)\n"
      ],
      "metadata": {
        "colab": {
          "base_uri": "https://localhost:8080/"
        },
        "id": "feTLqZ3ge-if",
        "outputId": "03fb830d-181b-41ee-8a84-bcd380a8012d"
      },
      "execution_count": 7,
      "outputs": [
        {
          "output_type": "stream",
          "name": "stdout",
          "text": [
            "Original List:  [1, 2, 3, 4, 5]\n",
            "Updated List:  [1, 2, 4, 5]\n"
          ]
        }
      ]
    },
    {
      "cell_type": "markdown",
      "source": [
        "7. Print the length of the list [5, 10, 15, 20]"
      ],
      "metadata": {
        "id": "vS7zZcLrfiMf"
      }
    },
    {
      "cell_type": "code",
      "source": [
        "# Creating a list\n",
        "my_list = [5, 10, 15, 20]\n",
        "\n",
        "# Checking length of list\n",
        "print(\"Length of this list: \", len(my_list))\n"
      ],
      "metadata": {
        "colab": {
          "base_uri": "https://localhost:8080/"
        },
        "id": "oLYk2XuAfnt3",
        "outputId": "c0935521-6ad1-4c57-c7ac-7b7be2ae10a9"
      },
      "execution_count": 9,
      "outputs": [
        {
          "output_type": "stream",
          "name": "stdout",
          "text": [
            "Length of this list:  4\n"
          ]
        }
      ]
    },
    {
      "cell_type": "markdown",
      "source": [
        "8. Sort the list [5, 2, 9, 1] in ascending order"
      ],
      "metadata": {
        "id": "38n-9OFZf-j6"
      }
    },
    {
      "cell_type": "code",
      "source": [
        "# Creating a list\n",
        "my_list = [5, 2, 9, 1]\n",
        "print(\"Original List: \", my_list)\n",
        "\n",
        "# Sorting the list\n",
        "my_list.sort()\n",
        "print(\"Sorted List: \", my_list)\n"
      ],
      "metadata": {
        "colab": {
          "base_uri": "https://localhost:8080/"
        },
        "id": "0ItIGBn8gGcJ",
        "outputId": "b9d4574a-97bd-481a-c212-35580df73cae"
      },
      "execution_count": 11,
      "outputs": [
        {
          "output_type": "stream",
          "name": "stdout",
          "text": [
            "Original List:  [5, 2, 9, 1]\n",
            "Sorted List:  [1, 2, 5, 9]\n"
          ]
        }
      ]
    },
    {
      "cell_type": "markdown",
      "source": [
        "9. Reverse the list [1, 2, 3, 4]"
      ],
      "metadata": {
        "id": "CMYVQpjZgkJc"
      }
    },
    {
      "cell_type": "code",
      "source": [
        "# Creatting a list\n",
        "my_list = [1, 2, 3, 4]\n",
        "print(\"Original List: \", my_list)\n",
        "\n",
        "# Reversing the list\n",
        "print(\"Reversed List: \", my_list[::-1])\n"
      ],
      "metadata": {
        "colab": {
          "base_uri": "https://localhost:8080/"
        },
        "id": "i1usfRFogqA3",
        "outputId": "a74b6935-92c7-4ca4-eb51-15d051a11954"
      },
      "execution_count": 13,
      "outputs": [
        {
          "output_type": "stream",
          "name": "stdout",
          "text": [
            "Original List:  [1, 2, 3, 4]\n",
            "Reversed List:  [4, 3, 2, 1]\n"
          ]
        }
      ]
    },
    {
      "cell_type": "markdown",
      "source": [
        "10. Sum all the numbers in a list [10, 20, 30, 40]"
      ],
      "metadata": {
        "id": "E6jMOL6MhCUm"
      }
    },
    {
      "cell_type": "code",
      "source": [
        "# Creating a list\n",
        "my_list = [10, 20, 30, 40]\n",
        "print(\"List: \", my_list)\n",
        "\n",
        "# Adding all numbers in list\n",
        "print(\"Sum of the numbers in list: \", sum(my_list))\n"
      ],
      "metadata": {
        "colab": {
          "base_uri": "https://localhost:8080/"
        },
        "id": "msJ-C7NGhHiZ",
        "outputId": "a834b34e-eb87-47a9-eb46-6f824297d5e8"
      },
      "execution_count": 20,
      "outputs": [
        {
          "output_type": "stream",
          "name": "stdout",
          "text": [
            "List:  [10, 20, 30, 40]\n",
            "Sum of the numbers in list:  100\n"
          ]
        }
      ]
    },
    {
      "cell_type": "markdown",
      "source": [
        "# Tuples"
      ],
      "metadata": {
        "id": "SjlUlWn-hyUH"
      }
    },
    {
      "cell_type": "markdown",
      "source": [
        "1. Create a tuple of 3 colors and print it."
      ],
      "metadata": {
        "id": "lbOJTBWdh2Me"
      }
    },
    {
      "cell_type": "code",
      "source": [
        "# Making tuple of 3 colours\n",
        "colours = (\"Black\", \"Brown\", \"Grey\")\n",
        "\n",
        "# Printing tuple\n",
        "print(\"My favorite colours: \", colours)\n"
      ],
      "metadata": {
        "colab": {
          "base_uri": "https://localhost:8080/"
        },
        "id": "Cb9-mnxdjtFO",
        "outputId": "5c5ca4e3-711b-4b78-91f3-edf34695ee5e"
      },
      "execution_count": 22,
      "outputs": [
        {
          "output_type": "stream",
          "name": "stdout",
          "text": [
            "My favorite colours:  ('Black', 'Brown', 'Grey')\n"
          ]
        }
      ]
    },
    {
      "cell_type": "markdown",
      "source": [
        "2. Access the second item in the tuple ('a', 'b', 'c')"
      ],
      "metadata": {
        "id": "Lyl0xXoskI7f"
      }
    },
    {
      "cell_type": "code",
      "source": [
        "# Creating a tuple\n",
        "my_tuple = ('a', 'b', 'c')\n",
        "print(\"Tuple: \", my_tuple)\n",
        "\n",
        "# Access ing the second element in tuple\n",
        "print(\"Second item in the tuple: \", my_tuple[1])\n"
      ],
      "metadata": {
        "colab": {
          "base_uri": "https://localhost:8080/"
        },
        "id": "h0mdOA-FkOnW",
        "outputId": "6991d8c0-797c-4b74-e0ce-4e7496ae0f2b"
      },
      "execution_count": 27,
      "outputs": [
        {
          "output_type": "stream",
          "name": "stdout",
          "text": [
            "Tuple:  ('a', 'b', 'c')\n",
            "Second item in the tuple:  b\n"
          ]
        }
      ]
    },
    {
      "cell_type": "markdown",
      "source": [
        "3. Create a tuple with one item (value 5) and print its type."
      ],
      "metadata": {
        "id": "6jsqXGYHlFVn"
      }
    },
    {
      "cell_type": "code",
      "source": [
        "# Creating one item tuple and printing it's type\n",
        "single = (5,)\n",
        "print(type(single))\n"
      ],
      "metadata": {
        "colab": {
          "base_uri": "https://localhost:8080/"
        },
        "id": "VeyHSW9VlLf3",
        "outputId": "c27bddbd-2636-400f-8642-3c4af37c76c3"
      },
      "execution_count": 31,
      "outputs": [
        {
          "output_type": "stream",
          "name": "stdout",
          "text": [
            "<class 'tuple'>\n"
          ]
        }
      ]
    },
    {
      "cell_type": "markdown",
      "source": [
        "4. Convert the tuple (1, 2, 3) to a list.\n"
      ],
      "metadata": {
        "id": "XatRdbGxmthZ"
      }
    },
    {
      "cell_type": "code",
      "source": [
        "# Creating a tuple\n",
        "my_tuple = (1, 2, 3)\n",
        "print(\"Tuple: \", my_tuple)\n",
        "\n",
        "# Converting tuple to list\n",
        "my_list = list(my_tuple)\n",
        "print(\"Converted List: \", my_list)\n"
      ],
      "metadata": {
        "colab": {
          "base_uri": "https://localhost:8080/"
        },
        "id": "-zmXeVkqm1gf",
        "outputId": "53fb53b4-c057-4c01-f684-ca8b70376890"
      },
      "execution_count": 34,
      "outputs": [
        {
          "output_type": "stream",
          "name": "stdout",
          "text": [
            "Tuple:  (1, 2, 3)\n",
            "Converted List:  [1, 2, 3]\n"
          ]
        }
      ]
    },
    {
      "cell_type": "markdown",
      "source": [
        "5. Check if \"apple\" exists in the tuple (\"apple\", \"banana\", \"cherry\")"
      ],
      "metadata": {
        "id": "UkeUpBtGnbhD"
      }
    },
    {
      "cell_type": "code",
      "source": [
        "# Creating a fruits tuple\n",
        "fruits = (\"apple\", \"banana\", \"cherry\")\n",
        "\n",
        "# If-else to check if apple is present in tuple\n",
        "if \"apple\" in fruits:\n",
        "  print(\"Yes, 'apple' is in the fruits tuple!\")\n",
        "\n",
        "else:\n",
        "  print(\"No, 'apple' is not in the fruits tuple!\")\n"
      ],
      "metadata": {
        "colab": {
          "base_uri": "https://localhost:8080/"
        },
        "id": "fePBQP86njDi",
        "outputId": "6e5df727-5c24-4df3-a0b7-65081cf36126"
      },
      "execution_count": 42,
      "outputs": [
        {
          "output_type": "stream",
          "name": "stdout",
          "text": [
            "Yes, 'apple' is in the fruits tuple!\n"
          ]
        }
      ]
    },
    {
      "cell_type": "markdown",
      "source": [
        "6. Slice the tuple (10, 20, 30, 40, 50) to get (20, 30)"
      ],
      "metadata": {
        "id": "FxK2r9VfoAsN"
      }
    },
    {
      "cell_type": "code",
      "source": [
        "# Creating a tuple\n",
        "my_tuple = (10, 20, 30, 40, 50)\n",
        "print(\"Original Tuple: \", my_tuple)\n",
        "\n",
        "# Slicing of tuple\n",
        "sliced_tuple = my_tuple[1:3]\n",
        "print(\"Sliced Tuple: \", sliced_tuple)\n"
      ],
      "metadata": {
        "colab": {
          "base_uri": "https://localhost:8080/"
        },
        "id": "VKVZt_r8oIDS",
        "outputId": "6c01a5b9-19e6-4a70-8fba-69d115f3acff"
      },
      "execution_count": 41,
      "outputs": [
        {
          "output_type": "stream",
          "name": "stdout",
          "text": [
            "Original Tuple:  (10, 20, 30, 40, 50)\n",
            "Sliced Tuple:  (20, 30)\n"
          ]
        }
      ]
    },
    {
      "cell_type": "markdown",
      "source": [
        "7. Unpack the tuple (1, 2, 3) into three variables and print them."
      ],
      "metadata": {
        "id": "QAE89n_FosLV"
      }
    },
    {
      "cell_type": "code",
      "source": [
        "# Unpacking a tuple\n",
        "a, b, c = (1, 2, 3)\n",
        "\n",
        "# Printing them\n",
        "print(a)\n",
        "print(b)\n",
        "print(c)"
      ],
      "metadata": {
        "colab": {
          "base_uri": "https://localhost:8080/"
        },
        "id": "4QB9mz0loyXr",
        "outputId": "f34de975-7484-40e6-d730-474b6eb36caa"
      },
      "execution_count": 44,
      "outputs": [
        {
          "output_type": "stream",
          "name": "stdout",
          "text": [
            "1\n",
            "2\n",
            "3\n"
          ]
        }
      ]
    },
    {
      "cell_type": "markdown",
      "source": [
        "8. Loop through the tuple (\"cat\", \"dog\", \"mouse\") and print each item."
      ],
      "metadata": {
        "id": "bWVpSab-palp"
      }
    },
    {
      "cell_type": "code",
      "source": [
        "# Create a tuple\n",
        "my_tuple = (\"cat\", \"dog\", \"mouse\")\n",
        "\n",
        "# Set index at 0\n",
        "i = 0\n",
        "\n",
        "while i < len(my_tuple):\n",
        "  print(my_tuple[i])\n",
        "\n",
        "  # incrementing by 1\n",
        "  i+=1\n"
      ],
      "metadata": {
        "colab": {
          "base_uri": "https://localhost:8080/"
        },
        "id": "62HVEqErqHry",
        "outputId": "b0818985-f1e3-4ed3-8511-23bb585dc47d"
      },
      "execution_count": 48,
      "outputs": [
        {
          "output_type": "stream",
          "name": "stdout",
          "text": [
            "cat\n",
            "dog\n",
            "mouse\n"
          ]
        }
      ]
    },
    {
      "cell_type": "markdown",
      "source": [
        "9. Concatenate two tuples: (1, 2) and (3, 4)"
      ],
      "metadata": {
        "id": "tdLRdUZRrDIo"
      }
    },
    {
      "cell_type": "code",
      "source": [
        "# Creating 2 tuples\n",
        "tuple1 = (1,2)\n",
        "tuple2 = (3,4)\n",
        "\n",
        "# Concatenating the tuples\n",
        "concatenated_tuple = tuple1 + tuple2\n",
        "print(\"Concatenated Tuple: \", concatenated_tuple)\n"
      ],
      "metadata": {
        "colab": {
          "base_uri": "https://localhost:8080/"
        },
        "id": "3ij09JuMrJUe",
        "outputId": "b59b2cb3-dee6-4f81-ab4f-1a0f26991105"
      },
      "execution_count": 49,
      "outputs": [
        {
          "output_type": "stream",
          "name": "stdout",
          "text": [
            "Concatenated Tuple:  (1, 2, 3, 4)\n"
          ]
        }
      ]
    },
    {
      "cell_type": "markdown",
      "source": [
        "10. Count how many times 2 appears in the tuple (1, 2, 3, 2, 4, 2)"
      ],
      "metadata": {
        "id": "FTQcxFgurZ4z"
      }
    },
    {
      "cell_type": "code",
      "source": [
        "# Creating a tuple\n",
        "my_tuple = (1,2,3,2,4,2)\n",
        "\n",
        "# Claculating total count of 2 in count\n",
        "print(\"Count of 2 in tuple: \", my_tuple.count(2))\n"
      ],
      "metadata": {
        "colab": {
          "base_uri": "https://localhost:8080/"
        },
        "id": "ec_plAiRre7n",
        "outputId": "91209d42-c845-476f-a75e-9460a91c4535"
      },
      "execution_count": 53,
      "outputs": [
        {
          "output_type": "stream",
          "name": "stdout",
          "text": [
            "Count of 2 in tuple:  3\n"
          ]
        }
      ]
    },
    {
      "cell_type": "markdown",
      "source": [
        "# Sets"
      ],
      "metadata": {
        "id": "RPlvYWmrsbJJ"
      }
    },
    {
      "cell_type": "markdown",
      "source": [
        "1. Create a set of 4 numbers and print it."
      ],
      "metadata": {
        "id": "wbMKTvs8spTC"
      }
    },
    {
      "cell_type": "code",
      "source": [
        "# Creating a set of 4 numbers\n",
        "\n",
        "my_set = {2, 4, 6, 8}\n",
        "print(\"Set: \", my_set)\n"
      ],
      "metadata": {
        "colab": {
          "base_uri": "https://localhost:8080/"
        },
        "id": "GXLO-BK8B7FY",
        "outputId": "be7dd258-ee5a-40a8-e666-24c7d4401e0c"
      },
      "execution_count": 2,
      "outputs": [
        {
          "output_type": "stream",
          "name": "stdout",
          "text": [
            "Set:  {8, 2, 4, 6}\n"
          ]
        }
      ]
    },
    {
      "cell_type": "markdown",
      "source": [
        "2. Add the number 10 to the set {1, 2, 3}"
      ],
      "metadata": {
        "id": "k7Uma2jCCN4f"
      }
    },
    {
      "cell_type": "code",
      "source": [
        "# Creating a set\n",
        "my_set = {1, 2, 3}\n",
        "print(\"Original Set: \", my_set)\n",
        "\n",
        "# Adding 10 to the set\n",
        "my_set.add(10)\n",
        "print(\"Updated Set: \", my_set)\n"
      ],
      "metadata": {
        "colab": {
          "base_uri": "https://localhost:8080/"
        },
        "id": "jwypXuPYCTTP",
        "outputId": "32373e4e-2605-423b-f1d8-ad67d2132ac9"
      },
      "execution_count": 5,
      "outputs": [
        {
          "output_type": "stream",
          "name": "stdout",
          "text": [
            "Original Set:  {1, 2, 3}\n",
            "Updated Set:  {10, 1, 2, 3}\n"
          ]
        }
      ]
    },
    {
      "cell_type": "markdown",
      "source": [
        "3. Remove the item 3 from the set {1, 2, 3, 4}"
      ],
      "metadata": {
        "id": "y02zhQDiCy__"
      }
    },
    {
      "cell_type": "code",
      "source": [
        "# Creating a set\n",
        "my_set = {1, 2, 3, 4}\n",
        "print(\"Original List: \", my_set)\n",
        "\n",
        "# Removing 3 from the list\n",
        "my_set.remove(3)\n",
        "print(\"Updated List: \", my_set)\n"
      ],
      "metadata": {
        "colab": {
          "base_uri": "https://localhost:8080/"
        },
        "id": "pIbUA2lJC37t",
        "outputId": "636f8f06-9182-490e-8089-870d840a03a2"
      },
      "execution_count": 6,
      "outputs": [
        {
          "output_type": "stream",
          "name": "stdout",
          "text": [
            "Original List:  {1, 2, 3, 4}\n",
            "Updated List:  {1, 2, 4}\n"
          ]
        }
      ]
    },
    {
      "cell_type": "markdown",
      "source": [
        "4. Find the union of {1, 2, 3} and {3, 4, 5}"
      ],
      "metadata": {
        "id": "8azo84lIDHYX"
      }
    },
    {
      "cell_type": "code",
      "source": [
        "# Creating 2 sets\n",
        "set1 = {1, 2, 3}\n",
        "set2 = {3, 4, 5}\n",
        "\n",
        "print(\"Set 1: \", set1)\n",
        "print(\"Set 2: \", set2)\n",
        "\n",
        "# Finding union of 2 sets\n",
        "unionSet = set1.union(set2)\n",
        "print(\"Union of 2 sets: \", unionSet)\n"
      ],
      "metadata": {
        "colab": {
          "base_uri": "https://localhost:8080/"
        },
        "id": "t3X5_LUeDNM8",
        "outputId": "23b3386a-1a7a-46da-f37c-2f8681a7d3b6"
      },
      "execution_count": 7,
      "outputs": [
        {
          "output_type": "stream",
          "name": "stdout",
          "text": [
            "Set 1:  {1, 2, 3}\n",
            "Set 2:  {3, 4, 5}\n",
            "Union of 2 sets:  {1, 2, 3, 4, 5}\n"
          ]
        }
      ]
    },
    {
      "cell_type": "markdown",
      "source": [
        "5. Find the intersection of {1, 2, 3} and {2, 3, 4}\n",
        "\n",
        "\n"
      ],
      "metadata": {
        "id": "sGjOIAbbDler"
      }
    },
    {
      "cell_type": "code",
      "source": [
        "# Creating 2 sets\n",
        "set1 = {1, 2, 3}\n",
        "set2 = {2, 3, 4}\n",
        "\n",
        "print(\"Set 1: \", set1)\n",
        "print(\"Set 2: \", set2)\n",
        "\n",
        "# Finding intersection of 2 sets\n",
        "intersectionSet = set1.intersection(set2)\n",
        "print(\"Intersection of 2 sets: \", intersectionSet)\n"
      ],
      "metadata": {
        "colab": {
          "base_uri": "https://localhost:8080/"
        },
        "id": "atcK6dsODzV9",
        "outputId": "2e4c6cbd-2f71-4238-8571-0668ceed94d7"
      },
      "execution_count": 8,
      "outputs": [
        {
          "output_type": "stream",
          "name": "stdout",
          "text": [
            "Set 1:  {1, 2, 3}\n",
            "Set 2:  {2, 3, 4}\n",
            "Intersection of 2 sets:  {2, 3}\n"
          ]
        }
      ]
    },
    {
      "cell_type": "markdown",
      "source": [
        "6. Check if {1, 2} is a subset of {1, 2, 3}"
      ],
      "metadata": {
        "id": "Vv5bY3JtEGWP"
      }
    },
    {
      "cell_type": "code",
      "source": [
        "# Creating 2 sets\n",
        "set1 = {1, 2}\n",
        "set2 = {1, 2, 3}\n",
        "\n",
        "print(\"Set 1: \", set1)\n",
        "print(\"Set 2: \", set2)\n",
        "\n",
        "# Checking if set1 is subset of set2\n",
        "print(\"Set 1 is subset of Set 2: \", set1.issubset(set2))\n"
      ],
      "metadata": {
        "colab": {
          "base_uri": "https://localhost:8080/"
        },
        "id": "BV-rGQUBELnS",
        "outputId": "6aaf9bee-dd7c-403f-c15e-f822fb6d4003"
      },
      "execution_count": 9,
      "outputs": [
        {
          "output_type": "stream",
          "name": "stdout",
          "text": [
            "Set 1:  {1, 2}\n",
            "Set 2:  {1, 2, 3}\n",
            "Set 1 is subset of Set 2:  True\n"
          ]
        }
      ]
    },
    {
      "cell_type": "markdown",
      "source": [
        "7. Check if 5 is in the set {3, 4, 5}"
      ],
      "metadata": {
        "id": "d3ATfof2E3Cc"
      }
    },
    {
      "cell_type": "code",
      "source": [
        "# Creating a set\n",
        "my_set = {3, 4, 5}\n",
        "\n",
        "# If-else to check if 5 in set\n",
        "if 5 in my_set:\n",
        "  print(\"Yes, 5 is in the set!\")\n",
        "\n",
        "else:\n",
        "  print(\"No, 5 is not in the set!\")\n"
      ],
      "metadata": {
        "colab": {
          "base_uri": "https://localhost:8080/"
        },
        "id": "3h7m0OdVFA4-",
        "outputId": "ff5fab03-cfd1-4b5c-b9b1-56931a891f88"
      },
      "execution_count": 10,
      "outputs": [
        {
          "output_type": "stream",
          "name": "stdout",
          "text": [
            "Yes, 5 is in the set!\n"
          ]
        }
      ]
    },
    {
      "cell_type": "markdown",
      "source": [
        "8. Create a set from the list [1, 2, 2, 3, 3, 3] and print it"
      ],
      "metadata": {
        "id": "HbJUhOrFFQ3B"
      }
    },
    {
      "cell_type": "code",
      "source": [
        "# Creating a list\n",
        "my_list = [1, 2, 2, 3, 3, 3]\n",
        "\n",
        "# Converting list to set\n",
        "my_set = set(my_list)\n",
        "print(\"Set: \", my_set)\n"
      ],
      "metadata": {
        "colab": {
          "base_uri": "https://localhost:8080/"
        },
        "id": "9dHI9C3aFVZ3",
        "outputId": "732778ea-14c0-4521-dff0-c8cd855bec68"
      },
      "execution_count": 11,
      "outputs": [
        {
          "output_type": "stream",
          "name": "stdout",
          "text": [
            "Set:  {1, 2, 3}\n"
          ]
        }
      ]
    },
    {
      "cell_type": "markdown",
      "source": [
        "9. Clear all items from a set {1, 2, 3}"
      ],
      "metadata": {
        "id": "eAXf3Xn1Gnll"
      }
    },
    {
      "cell_type": "code",
      "source": [
        "# Creating the list\n",
        "my_list = {1, 2, 3}\n",
        "print(\"Original List: \", my_list)\n",
        "\n",
        "# Clearing the list\n",
        "my_list.clear()\n",
        "print(\"Updated List: \", my_list)\n"
      ],
      "metadata": {
        "colab": {
          "base_uri": "https://localhost:8080/"
        },
        "id": "_PWN2TCxGsPI",
        "outputId": "3ae34908-81b9-4470-dd5b-1403e7411cdf"
      },
      "execution_count": 12,
      "outputs": [
        {
          "output_type": "stream",
          "name": "stdout",
          "text": [
            "Original List:  {1, 2, 3}\n",
            "Updated List:  set()\n"
          ]
        }
      ]
    },
    {
      "cell_type": "markdown",
      "source": [
        "10. Use a loop to print all items in the set {10, 20, 30}"
      ],
      "metadata": {
        "id": "wukGS2AnG4sn"
      }
    },
    {
      "cell_type": "code",
      "source": [
        "# Creating a list\n",
        "my_list = {10, 20, 30}\n",
        "\n",
        "# printing each item in set\n",
        "for i in my_list:\n",
        "  print (i)\n",
        ""
      ],
      "metadata": {
        "colab": {
          "base_uri": "https://localhost:8080/"
        },
        "id": "mdLAz0KjG-SU",
        "outputId": "d8890151-94da-4c6b-9a64-dc3e179e4bf2"
      },
      "execution_count": 17,
      "outputs": [
        {
          "output_type": "stream",
          "name": "stdout",
          "text": [
            "10\n",
            "20\n",
            "30\n"
          ]
        }
      ]
    }
  ],
  "metadata": {
    "colab": {
      "toc_visible": true,
      "provenance": []
    },
    "kernelspec": {
      "display_name": "Python 3",
      "name": "python3"
    }
  },
  "nbformat": 4,
  "nbformat_minor": 0
}