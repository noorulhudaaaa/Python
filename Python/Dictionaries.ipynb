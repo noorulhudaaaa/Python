{
  "cells": [
    {
      "cell_type": "markdown",
      "source": [
        "#  Dictionaries\n",
        "A dictionary is a collection of key-value pairs stored in a single variable. Each key is unique, and it is used to access its corresponding value.\n",
        "\n",
        "# 🔹 Key Points about Dictionaries:\n",
        " - Store data as key: value pairs\n",
        " - Keys must be unique and immutable (string, number, tuple)\n",
        " - Values can be of any data type\n",
        " - Changeable (can add, update, or remove items)\n",
        " - Useful for fast lookups and mapping data\n",
        "\n",
        "``` python\n",
        "my_dict = {\n",
        "    \"name\": \"John\",\n",
        "    \"age\": 25,\n",
        "    \"city\": \"New York\"\n",
        "}\n",
        "```\n"
      ],
      "metadata": {
        "id": "xiK2vRbf7jTc"
      }
    },
    {
      "cell_type": "code",
      "source": [
        "# Syntax\n",
        "\n",
        "emptyDict = {}   # Empty dictionary\n",
        "\n",
        "# Dictionary with string keys and string values\n",
        "dict1 = {\"name\": \"Noor\", \"fruit\": \"apple\", \"color\": \"red\"}\n",
        "\n",
        "# Dictionary with string keys and integer values\n",
        "dict2 = {\"age\": 25, \"year\": 2025, \"score\": 95}\n",
        "\n",
        "# Dictionary with mixed data types in values\n",
        "dict3 = {\"name\": \"Noor\", \"age\": 25, \"Student\": True, \"height\": 5.6}\n",
        "\n",
        "# Dictionary with mixed data types in keys\n",
        "dict4 = {1: \"one\", \"two\": 2, True: \"yes\", 3.5: \"pi\"}\n",
        "\n",
        "# Nested dictionary\n",
        "nested = {\"person\": {\"name\": \"Noor\", \"age\": 25},\n",
        "    \"job\": {\"title\": \"Data Analyst\", \"experience\": 2}}\n",
        "\n",
        "print(emptyDict)\n",
        "print(dict1)\n",
        "print(dict2)\n",
        "print(dict3)\n",
        "print(dict4)\n",
        "print(nested)\n"
      ],
      "metadata": {
        "id": "5HhlCHRy7nvF",
        "outputId": "01275cdb-7a74-449f-b09e-c8bcf71cd485",
        "colab": {
          "base_uri": "https://localhost:8080/"
        }
      },
      "execution_count": 1,
      "outputs": [
        {
          "output_type": "stream",
          "name": "stdout",
          "text": [
            "{}\n",
            "{'name': 'Noor', 'fruit': 'apple', 'color': 'red'}\n",
            "{'age': 25, 'year': 2025, 'score': 95}\n",
            "{'name': 'Noor', 'age': 25, 'Student': True, 'height': 5.6}\n",
            "{1: 'yes', 'two': 2, 3.5: 'pi'}\n",
            "{'person': {'name': 'Noor', 'age': 25}, 'job': {'title': 'Data Analyst', 'experience': 2}}\n"
          ]
        }
      ]
    },
    {
      "cell_type": "code",
      "source": [
        "# Checking type after creating a set\n",
        "\n",
        "x=dict()\n",
        "print(type(x))\n"
      ],
      "metadata": {
        "id": "vgnUXgyVhHyJ",
        "colab": {
          "base_uri": "https://localhost:8080/"
        },
        "outputId": "7263a8ff-654f-48f9-d4b3-5f2aff036b80"
      },
      "execution_count": 2,
      "outputs": [
        {
          "output_type": "stream",
          "name": "stdout",
          "text": [
            "<class 'dict'>\n"
          ]
        }
      ]
    },
    {
      "cell_type": "code",
      "source": [
        "# If dublicate values for the same key, it takes the latest one\n",
        "\n",
        "thisdict = {\n",
        "  \"brand\": \"Ford\",\n",
        "  \"model\": \"Mustang\",\n",
        "  \"year\": 1964,\n",
        "  \"year\": 2020\n",
        "}\n",
        "print(thisdict)\n",
        "print(len(thisdict))\n",
        "#\n",
        "print()\n",
        "\n",
        "my_dict= {\"name\":\"noor\", \"name\":\"amna\"}\n",
        "print(my_dict)"
      ],
      "metadata": {
        "colab": {
          "base_uri": "https://localhost:8080/"
        },
        "id": "xZ-lgXZmS-t6",
        "outputId": "e6d7e5e5-b820-4754-b4cf-c6014ee086f0"
      },
      "execution_count": 95,
      "outputs": [
        {
          "output_type": "stream",
          "name": "stdout",
          "text": [
            "{'brand': 'Ford', 'model': 'Mustang', 'year': 2020}\n",
            "3\n",
            "\n",
            "{'name': 'amna'}\n"
          ]
        }
      ]
    },
    {
      "cell_type": "code",
      "source": [
        "# dict() - using dict() constructor to make doictionary, works the same\n",
        "\n",
        "this_dict = dict(name = \"John\", age = 36, country = \"Norway\")\n",
        "print(this_dict)\n",
        "\n",
        "# easy way to update dictionary\n",
        "this_dict[\"name\"]= \"noor\"\n",
        "print(this_dict)\n",
        "\n",
        "# can also add like this\n",
        "this_dict[\"gender\"]= \"Female\"\n",
        "print(this_dict)\n"
      ],
      "metadata": {
        "colab": {
          "base_uri": "https://localhost:8080/"
        },
        "id": "V2ymKgajUMHl",
        "outputId": "956cdc29-a2f3-426f-8a6e-9acd1eaec556"
      },
      "execution_count": 99,
      "outputs": [
        {
          "output_type": "stream",
          "name": "stdout",
          "text": [
            "{'name': 'John', 'age': 36, 'country': 'Norway'}\n",
            "{'name': 'noor', 'age': 36, 'country': 'Norway'}\n",
            "{'name': 'noor', 'age': 36, 'country': 'Norway', 'gender': 'Female'}\n"
          ]
        }
      ]
    },
    {
      "cell_type": "markdown",
      "source": [
        "# Conversion\n"
      ],
      "metadata": {
        "id": "0x0c26Luthob"
      }
    },
    {
      "cell_type": "code",
      "source": [
        "# Converting dictionary to a list\n",
        "\n",
        "my_dict = {\"name\": \"noor\", \"age\": 24}\n",
        "\n",
        "key_list = list(my_dict.keys())  # can also write just list(my_dict)\n",
        "print(key_list)\n",
        "\n",
        "values_list = list(my_dict.values())\n",
        "print(values_list)\n",
        "\n",
        "items_list = list(my_dict.items())\n",
        "print(items_list)\n",
        "print()\n",
        "\n",
        "# converting back to dictionary\n",
        "\n",
        "my_dict= dict(items_list)\n",
        "print(my_dict)\n"
      ],
      "metadata": {
        "colab": {
          "base_uri": "https://localhost:8080/"
        },
        "id": "IVUvCkditkpB",
        "outputId": "7fdbd986-26cd-4d8d-ba58-7aa25e9ce7e3"
      },
      "execution_count": 24,
      "outputs": [
        {
          "output_type": "stream",
          "name": "stdout",
          "text": [
            "['name', 'age']\n",
            "['noor', 24]\n",
            "[('name', 'noor'), ('age', 24)]\n",
            "\n",
            "{'name': 'noor', 'age': 24}\n"
          ]
        }
      ]
    },
    {
      "cell_type": "code",
      "source": [
        "# Converting dictionary to a tuple\n",
        "\n",
        "my_dict = {\"name\": \"noor\", \"age\": 24}\n",
        "\n",
        "key_tuple = tuple(my_dict.keys())  # can also write just tuple(my_dict)\n",
        "print(key_tuple)\n",
        "\n",
        "values_tuple = tuple(my_dict.values())\n",
        "print(values_tuple)\n",
        "\n",
        "items_tuple = tuple(my_dict.items())\n",
        "print(items_tuple)\n",
        "print()\n",
        "\n",
        "# converting back to dictionary\n",
        "\n",
        "my_dict= dict(items_tuple)\n",
        "print(my_dict)"
      ],
      "metadata": {
        "colab": {
          "base_uri": "https://localhost:8080/"
        },
        "id": "w-CAczApukZQ",
        "outputId": "956eefc0-9a8f-47ec-a334-bec028707b76"
      },
      "execution_count": 36,
      "outputs": [
        {
          "output_type": "stream",
          "name": "stdout",
          "text": [
            "('name', 'age')\n",
            "('noor', 24)\n",
            "(('name', 'noor'), ('age', 24))\n",
            "\n",
            "{'name': 'noor', 'age': 24}\n"
          ]
        }
      ]
    },
    {
      "cell_type": "code",
      "source": [
        "# Converting dictionary to a set\n",
        "# Sets don’t allow duplicates and are unordered, so order may change:\n",
        "\n",
        "my_dict = {\"name\": \"noor\", \"age\": 24}\n",
        "\n",
        "key_set = set(my_dict.keys())  # can also write just set(my_dict)\n",
        "print(key_set)\n",
        "\n",
        "values_set = set(my_dict.values())\n",
        "print(values_set)\n",
        "\n",
        "items_set = set(my_dict.items())\n",
        "print(items_set)\n",
        "print()\n",
        "\n",
        "# converting back to dictionary\n",
        "\n",
        "my_dict= dict(items_set)\n",
        "print(my_dict)"
      ],
      "metadata": {
        "colab": {
          "base_uri": "https://localhost:8080/"
        },
        "id": "Osehf7Tgvu_A",
        "outputId": "364ca8f7-db57-47f0-f513-5e46b14b9476"
      },
      "execution_count": 27,
      "outputs": [
        {
          "output_type": "stream",
          "name": "stdout",
          "text": [
            "{'age', 'name'}\n",
            "{24, 'noor'}\n",
            "{('age', 24), ('name', 'noor')}\n",
            "\n",
            "{'age': 24, 'name': 'noor'}\n"
          ]
        }
      ]
    },
    {
      "cell_type": "markdown",
      "source": [
        "# Accessing Dictionary"
      ],
      "metadata": {
        "id": "rcclLj_9iMB6"
      }
    },
    {
      "cell_type": "code",
      "source": [
        "# Access values in dictionary by keys\n",
        "\n",
        "my_dict = {\"name\": \"noor\", \"age\": 24}\n",
        "\n",
        "print(\"Name:\", my_dict[\"name\"])\n",
        "print(\"Age:\", my_dict[\"age\"])\n",
        "\n"
      ],
      "metadata": {
        "colab": {
          "base_uri": "https://localhost:8080/"
        },
        "id": "SY4CADc2iCY0",
        "outputId": "12b098cd-a895-4f3d-87f8-dd0eae2b8a60"
      },
      "execution_count": 12,
      "outputs": [
        {
          "output_type": "stream",
          "name": "stdout",
          "text": [
            "Name: noor\n",
            "Age: 24\n"
          ]
        }
      ]
    },
    {
      "cell_type": "code",
      "source": [
        "# You can access a dictionary’s items using indexes indirectly by converting it to a list first.\n",
        "\n",
        "my_dict = {\"name\": \"noor\", \"age\": 24, \"country\": \"Pakistan\"}\n",
        "\n",
        "# Get first key\n",
        "first_key = list(my_dict.keys())[0]\n",
        "print(\"First key:\", first_key)            # name\n",
        "\n",
        "# Get first value\n",
        "first_value = list(my_dict.values())[0]\n",
        "print(\"First value:\", first_value) # noor\n",
        "\n",
        "# Get second key\n",
        "second_key = list(my_dict.keys())[1]\n",
        "print(\"Second Key:\", second_key)\n",
        "print()\n",
        "\n",
        "# Getting second key and third value\n",
        "\n",
        "second_items = list(my_dict.items())[1]\n",
        "print(\"Second items:\", second_items)\n",
        "\n",
        "third_value = list(my_dict.values())[2]\n",
        "print(\"Third value:\", third_value)\n",
        "\n",
        "print (\"First key is\", first_key, \"and its value is\", first_value)\n"
      ],
      "metadata": {
        "colab": {
          "base_uri": "https://localhost:8080/"
        },
        "id": "0yWO2SM4kjLs",
        "outputId": "571a17dc-f9b9-485a-fa45-36ac9434b260"
      },
      "execution_count": 35,
      "outputs": [
        {
          "output_type": "stream",
          "name": "stdout",
          "text": [
            "First key: name\n",
            "First value: noor\n",
            "Second Key: age\n",
            "\n",
            "Second items: ('age', 24)\n",
            "Third value: Pakistan\n",
            "First key is name and its value is noor\n"
          ]
        }
      ]
    },
    {
      "cell_type": "markdown",
      "source": [
        "# Loops in Dictionary"
      ],
      "metadata": {
        "id": "PfRRUAUny-q3"
      }
    },
    {
      "cell_type": "code",
      "source": [
        "# Creating a dictionary\n",
        "\n",
        "my_dict = {\"name\": \"noor\", \"age\": 24, \"country\": \"Pakistan\"}\n",
        "i = 0\n",
        "\n",
        "# Loop to go through each item\n",
        "for items in my_dict.items():\n",
        "    print(items)\n",
        "\n",
        "print()\n",
        "\n",
        "# Loop to go through each key\n",
        "for key in my_dict.keys():\n",
        "    print(key)\n",
        "\n",
        "print()\n",
        "\n",
        "# Loop to go through each value\n",
        "for value in my_dict.values():\n",
        "    print(value)\n",
        ""
      ],
      "metadata": {
        "colab": {
          "base_uri": "https://localhost:8080/"
        },
        "id": "VlIPfUa7tMUA",
        "outputId": "a032e7e9-ecd6-4ee5-b73a-855369a05a57"
      },
      "execution_count": 43,
      "outputs": [
        {
          "output_type": "stream",
          "name": "stdout",
          "text": [
            "('name', 'noor')\n",
            "('age', 24)\n",
            "('country', 'Pakistan')\n",
            "\n",
            "name\n",
            "age\n",
            "country\n",
            "\n",
            "noor\n",
            "24\n",
            "Pakistan\n"
          ]
        }
      ]
    },
    {
      "cell_type": "markdown",
      "source": [
        "# Membership\n"
      ],
      "metadata": {
        "id": "ILBA8xaDLt5Q"
      }
    },
    {
      "cell_type": "code",
      "source": [
        "# Creating a dictionary\n",
        "\n",
        "person = {\"name\": \"Noor\", \"age\": 24, \"city\": \"Rawalpindi\"}\n",
        "\n",
        "# Check if a key exists in the dictionary\n",
        "print(\"name\" in person.keys())\n",
        "print(\"city\" not in person)\n",
        "\n",
        "print()\n",
        "\n",
        "# Using membership in an if-else\n",
        "if \"age\" in person:\n",
        "    print(\"Age is in the dictionary.\")\n",
        "else:\n",
        "    print(\"Age is not in the dictionary.\")\n",
        "\n",
        "print()\n",
        "\n",
        "# Checking for a value instead in the dictionary\n",
        "if \"Rawalpindi\" in person.values():\n",
        "    print(\"Rawalpindi is in the dictionary values.\")\n",
        "else:\n",
        "    print(\"Rawalpindi is not in the dictionary values.\")\n",
        "\n",
        "if \"Lahore\" in person.values():\n",
        "    print(\"Lahore is in the dictionary values.\")\n",
        "else:\n",
        "    print(\"Lahore is not in the dictionary values.\")\n",
        ""
      ],
      "metadata": {
        "colab": {
          "base_uri": "https://localhost:8080/"
        },
        "id": "K05iQ0KPzisy",
        "outputId": "eee416f5-9c15-454d-9f32-a64979db8099"
      },
      "execution_count": 55,
      "outputs": [
        {
          "output_type": "stream",
          "name": "stdout",
          "text": [
            "True\n",
            "False\n",
            "\n",
            "Age is in the dictionary.\n",
            "\n",
            "Rawalpindi is in the dictionary values.\n",
            "Lahore is not in the dictionary values.\n"
          ]
        }
      ]
    },
    {
      "cell_type": "markdown",
      "source": [
        "# Dictionary Methods"
      ],
      "metadata": {
        "id": "qH1Rx4G9R1za"
      }
    },
    {
      "cell_type": "code",
      "source": [
        "# clear() - removes all element from dictionary\n",
        "\n",
        "dict1 = {\"name\": \"Noor\", \"fruit\": \"apple\", \"color\": \"red\"}\n",
        "print(\"Original Dictionary: \", dict1)\n",
        "\n",
        "dict1.clear()\n",
        "print(\"Dictionary after being cleared: \", dict1)\n"
      ],
      "metadata": {
        "colab": {
          "base_uri": "https://localhost:8080/"
        },
        "id": "ejWO2f9MN9p3",
        "outputId": "0ec97102-c467-4547-f24e-2778ba5d17a7"
      },
      "execution_count": 57,
      "outputs": [
        {
          "output_type": "stream",
          "name": "stdout",
          "text": [
            "Original Dictionary:  {'name': 'Noor', 'fruit': 'apple', 'color': 'red'}\n",
            "Dictionary after being cleared:  {}\n"
          ]
        }
      ]
    },
    {
      "cell_type": "code",
      "source": [
        "# copy - makes a copy of dictionary\n",
        "\n",
        "dict1 = {\"name\": \"Noor\", \"fruit\": \"apple\", \"color\": \"red\"}\n",
        "print(\"Original Dictionary: \", dict1)\n",
        "\n",
        "dict2 = dict1.copy()\n",
        "print(\"Copied Dictionary: \", dict2)\n"
      ],
      "metadata": {
        "colab": {
          "base_uri": "https://localhost:8080/"
        },
        "id": "aBS2gdGmbNcG",
        "outputId": "773eb730-7483-450f-bb4f-badc48a9b4ab"
      },
      "execution_count": 58,
      "outputs": [
        {
          "output_type": "stream",
          "name": "stdout",
          "text": [
            "Original Dictionary:  {'name': 'Noor', 'fruit': 'apple', 'color': 'red'}\n",
            "Copied Dictionary:  {'name': 'Noor', 'fruit': 'apple', 'color': 'red'}\n"
          ]
        }
      ]
    },
    {
      "cell_type": "code",
      "source": [
        "# fromkey -  just makes a new dictionary by:\n",
        "# Taking a list (or any iterable) of keys.\n",
        "# Giving each key the same value you choose (or None if you don’t give one).\n",
        "\n",
        "keys = [\"a\", \"b\", \"c\"]\n",
        "my_dict = dict.fromkeys(keys, 0)\n",
        "print(my_dict)\n",
        "\n",
        "print()\n",
        "\n",
        "my_dict2 = dict.fromkeys([\"name\",\"age\",\"city\"],\"unknown\")\n",
        "print(my_dict2)\n"
      ],
      "metadata": {
        "colab": {
          "base_uri": "https://localhost:8080/"
        },
        "id": "O1TZnRw8bdAj",
        "outputId": "f86d473c-f5cc-44f4-d8a2-d5d1ff32865f"
      },
      "execution_count": 63,
      "outputs": [
        {
          "output_type": "stream",
          "name": "stdout",
          "text": [
            "{'a': 0, 'b': 0, 'c': 0}\n",
            "\n",
            "{'name': 'unknown', 'age': 'unknown', 'city': 'unknown'}\n"
          ]
        }
      ]
    },
    {
      "cell_type": "code",
      "source": [
        "# get() - looks for a key in a dictionary:\n",
        "# If the key is there → it gives you its value.\n",
        "# If the key is not there → it gives you a value you choose (or None if you don’t choose).\n",
        "\n",
        "my_dict = {\"name\": \"Noor\", \"age\": 24}\n",
        "\n",
        "print(my_dict.get(\"name\"))\n",
        "print(my_dict.get(\"city\", \"N/A\"))\n",
        "print()\n",
        "\n",
        "print(my_dict.get(\"country\"))\n",
        "print(my_dict.get(\"country\", \"Not provided\"))\n"
      ],
      "metadata": {
        "colab": {
          "base_uri": "https://localhost:8080/"
        },
        "id": "RkNsRCS0igZ7",
        "outputId": "d13a69c4-cb18-4dfd-beff-5c827e4619c0"
      },
      "execution_count": 74,
      "outputs": [
        {
          "output_type": "stream",
          "name": "stdout",
          "text": [
            "Noor\n",
            "N/A\n",
            "\n",
            "None\n",
            "Not provided\n"
          ]
        }
      ]
    },
    {
      "cell_type": "code",
      "source": [
        "# items() - shows all the dictionary’s data as pairs of (key, value) in a list-like form.\n",
        "\n",
        "my_dict = {\"name\": \"Noor\", \"age\": 24}\n",
        "\n",
        "print(my_dict.items())\n"
      ],
      "metadata": {
        "colab": {
          "base_uri": "https://localhost:8080/"
        },
        "id": "qvQUpr_Ik5Bj",
        "outputId": "db296cc8-72be-491b-fe72-a03df8fbbe8d"
      },
      "execution_count": 76,
      "outputs": [
        {
          "output_type": "stream",
          "name": "stdout",
          "text": [
            "dict_items([('name', 'Noor'), ('age', 24)])\n"
          ]
        }
      ]
    },
    {
      "cell_type": "code",
      "source": [
        "# keys() - shows all the keys in the dictionary, kind of like a list of labels without their values.\n",
        "\n",
        "my_dict = {\"name\": \"Noor\", \"age\": 24}\n",
        "\n",
        "print(my_dict.keys())\n"
      ],
      "metadata": {
        "colab": {
          "base_uri": "https://localhost:8080/"
        },
        "id": "gA9lpC-V_iI6",
        "outputId": "f2ffcb0e-bae0-4ac2-8f24-a555e7282c98"
      },
      "execution_count": 78,
      "outputs": [
        {
          "output_type": "stream",
          "name": "stdout",
          "text": [
            "dict_keys(['name', 'age'])\n"
          ]
        }
      ]
    },
    {
      "cell_type": "code",
      "source": [
        "# pop() removes a specific key from the dictionary and gives you back its value.\n",
        "\n",
        "my_dict = {\"name\": \"Noor\", \"age\": 24}\n",
        "\n",
        "print(\"Removed Value: \", my_dict.pop(\"name\"))\n",
        "print(\"Dictionary after popping key: \", my_dict)\n"
      ],
      "metadata": {
        "colab": {
          "base_uri": "https://localhost:8080/"
        },
        "id": "VY63J8CzDeDI",
        "outputId": "7785d4ab-0ebc-4cd8-c740-11908e4caf2e"
      },
      "execution_count": 81,
      "outputs": [
        {
          "output_type": "stream",
          "name": "stdout",
          "text": [
            "Removed Value:  Noor\n",
            "Dictionary after popping key:  {'age': 24}\n"
          ]
        }
      ]
    },
    {
      "cell_type": "code",
      "source": [
        "# popitem() - removes and gives you back the last added key-value pair from the dictionary.\n",
        "\n",
        "my_dict = {\"name\": \"Noor\", \"age\": 24}\n",
        "\n",
        "print(\"Removed Value: \", my_dict.popitem())\n",
        "print(\"Dictionary after popping item: \", my_dict)\n"
      ],
      "metadata": {
        "colab": {
          "base_uri": "https://localhost:8080/"
        },
        "id": "jNI_Rt2vENGy",
        "outputId": "0a425ae5-efe3-4278-8364-b239b34b1eec"
      },
      "execution_count": 82,
      "outputs": [
        {
          "output_type": "stream",
          "name": "stdout",
          "text": [
            "Removed Value:  ('age', 24)\n",
            "Dictionary after popping item:  {'name': 'Noor'}\n"
          ]
        }
      ]
    },
    {
      "cell_type": "code",
      "source": [
        "# values() -  gives you all the values from a dictionary, without the keys.\n",
        "\n",
        "my_dict = {\"name\": \"Noor\", \"age\": 24}\n",
        "\n",
        "print(\"Values in dictionary are: \", my_dict.values())\n"
      ],
      "metadata": {
        "colab": {
          "base_uri": "https://localhost:8080/"
        },
        "id": "_5cxZ36rHbjG",
        "outputId": "86c8d717-17b6-44e8-ccdd-c66bd9d24910"
      },
      "execution_count": 85,
      "outputs": [
        {
          "output_type": "stream",
          "name": "stdout",
          "text": [
            "Values in dictionary are:  dict_values(['Noor', 24])\n"
          ]
        }
      ]
    },
    {
      "cell_type": "code",
      "source": [
        "# update() - adds or changes items in a dictionary using another dictionary or a list of key-value pairs.\n",
        "\n",
        "my_dict = {\"name\": \"Noor\", \"age\": 24}\n",
        "print(\"Original Dictionary: \", my_dict)\n",
        "print()\n",
        "\n",
        "my_dict.update({\"age\": 26, \"city\": \"Rawalpindi\"})\n",
        "print(\"Updated Dictionary: \", my_dict)\n",
        "print()\n",
        "\n",
        "my_dict.update([(\"country\", \"Pakistan\"), (\"gender\", \"Female\")])\n",
        "print(\"Original Dictionary: \", my_dict)\n"
      ],
      "metadata": {
        "colab": {
          "base_uri": "https://localhost:8080/"
        },
        "id": "s7P75pMYLfty",
        "outputId": "b5b31c22-ada1-4682-f794-73d1ae00b307"
      },
      "execution_count": 90,
      "outputs": [
        {
          "output_type": "stream",
          "name": "stdout",
          "text": [
            "Original Dictionary:  {'name': 'Noor', 'age': 24}\n",
            "\n",
            "Updated Dictionary:  {'name': 'Noor', 'age': 26, 'city': 'Rawalpindi'}\n",
            "\n",
            "Original Dictionary:  {'name': 'Noor', 'age': 26, 'city': 'Rawalpindi', 'country': 'Pakistan', 'gender': 'Female'}\n"
          ]
        }
      ]
    },
    {
      "cell_type": "code",
      "source": [
        "# setdefault() looks for a key in a dictionary.\n",
        "# If the key exists → it gives you its value.\n",
        "# If the key doesn’t exist → it adds the key with the value you give and returns that value.\n",
        "\n",
        "my_dict = {\"name\": \"Noor\", \"age\": 24}\n",
        "\n",
        "print(my_dict.setdefault(\"name\"))\n",
        "print(my_dict.setdefault(\"city\", \"Rawalpindi\"))\n",
        "print(my_dict)\n"
      ],
      "metadata": {
        "colab": {
          "base_uri": "https://localhost:8080/"
        },
        "id": "gCZOkoYkOxgf",
        "outputId": "8c84d65b-8bfd-404f-db90-f03e5383e370"
      },
      "execution_count": 91,
      "outputs": [
        {
          "output_type": "stream",
          "name": "stdout",
          "text": [
            "Noor\n",
            "Rawalpindi\n",
            "{'name': 'Noor', 'age': 24, 'city': 'Rawalpindi'}\n"
          ]
        }
      ]
    },
    {
      "cell_type": "code",
      "source": [
        "# del() - deletes the required item when you put the key\n",
        "\n",
        "my_dict = {\"name\": \"Noor\", \"age\": 24}\n",
        "print(\"Original Dictionary: \", my_dict)\n",
        "\n",
        "del my_dict[\"name\"]\n",
        "print(\"Dictionary after deleting key: \", my_dict)\n",
        "\n",
        "del my_dict\n",
        "print(my_dict) # error because the dictionary is deleted\n"
      ],
      "metadata": {
        "colab": {
          "base_uri": "https://localhost:8080/",
          "height": 220
        },
        "id": "lwAsdwPVZAgw",
        "outputId": "1088928c-4d99-4a10-959b-ca84927f06d6"
      },
      "execution_count": 101,
      "outputs": [
        {
          "output_type": "stream",
          "name": "stdout",
          "text": [
            "Original Dictionary:  {'name': 'Noor', 'age': 24}\n",
            "Dictionary after deleting key:  {'age': 24}\n"
          ]
        },
        {
          "output_type": "error",
          "ename": "NameError",
          "evalue": "name 'my_dict' is not defined",
          "traceback": [
            "\u001b[0;31m---------------------------------------------------------------------------\u001b[0m",
            "\u001b[0;31mNameError\u001b[0m                                 Traceback (most recent call last)",
            "\u001b[0;32m/tmp/ipython-input-3590979347.py\u001b[0m in \u001b[0;36m<cell line: 0>\u001b[0;34m()\u001b[0m\n\u001b[1;32m      8\u001b[0m \u001b[0;34m\u001b[0m\u001b[0m\n\u001b[1;32m      9\u001b[0m \u001b[0;32mdel\u001b[0m \u001b[0mmy_dict\u001b[0m\u001b[0;34m\u001b[0m\u001b[0;34m\u001b[0m\u001b[0m\n\u001b[0;32m---> 10\u001b[0;31m \u001b[0mprint\u001b[0m\u001b[0;34m(\u001b[0m\u001b[0mmy_dict\u001b[0m\u001b[0;34m)\u001b[0m\u001b[0;34m\u001b[0m\u001b[0;34m\u001b[0m\u001b[0m\n\u001b[0m",
            "\u001b[0;31mNameError\u001b[0m: name 'my_dict' is not defined"
          ]
        }
      ]
    }
  ],
  "metadata": {
    "colab": {
      "toc_visible": true,
      "provenance": []
    },
    "kernelspec": {
      "display_name": "Python 3",
      "name": "python3"
    }
  },
  "nbformat": 4,
  "nbformat_minor": 0
}