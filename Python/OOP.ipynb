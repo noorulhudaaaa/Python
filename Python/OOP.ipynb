{
  "nbformat": 4,
  "nbformat_minor": 0,
  "metadata": {
    "colab": {
      "provenance": [],
      "toc_visible": true
    },
    "kernelspec": {
      "name": "python3",
      "display_name": "Python 3"
    },
    "language_info": {
      "name": "python"
    }
  },
  "cells": [
    {
      "cell_type": "markdown",
      "source": [
        "# OOP (Object-Oriented Programming)\n",
        "OOP is a programming approach where code is organized into classes and objects, combining data (attributes) and functions (methods) in a single unit.\n",
        "\n",
        "# 🔹 Key Points about OOP:\n",
        "- Class: A blueprint/template that defines how an object looks and behaves.\n",
        "- Example: A Car class defines features like color, model, and what actions it can perform.\n",
        "- Object / Instance: A real example created from a class, with its own data.\n",
        "- Example: A specific car with red color and 2024 model is an object of the Car class.\n",
        "- Attribute: A property or characteristic of an object.\n",
        "- Example: For a car object → color, model, year.\n",
        "- Method: A function defined inside a class to perform actions on objects.\n",
        "- Example: For a car object → start(), stop(), accelerate()."
      ],
      "metadata": {
        "id": "MQVmddpWLROw"
      }
    },
    {
      "cell_type": "code",
      "source": [
        "# class definitions cannot be empty.\n",
        "# But if you for some reason have a class definition with no content\n",
        "# put in the pass statement to avoid getting an error.\n",
        "\n",
        "class me:\n",
        "  pass"
      ],
      "metadata": {
        "id": "IColRNxqgZrp"
      },
      "execution_count": 65,
      "outputs": []
    },
    {
      "cell_type": "code",
      "source": [
        "# creating a class\n",
        "\n",
        "class this_class:\n",
        "  a= 8"
      ],
      "metadata": {
        "id": "G4RzzeIFPQHE"
      },
      "execution_count": 6,
      "outputs": []
    },
    {
      "cell_type": "code",
      "source": [
        "# creating an object and printing value of 'a'\n",
        "\n",
        "student = this_class()\n",
        "print(student.a)"
      ],
      "metadata": {
        "colab": {
          "base_uri": "https://localhost:8080/"
        },
        "id": "3MOnbgeZPjuo",
        "outputId": "3ef70d71-46ad-4693-f857-c361106d7ec1"
      },
      "execution_count": 52,
      "outputs": [
        {
          "output_type": "stream",
          "name": "stdout",
          "text": [
            "8\n"
          ]
        }
      ]
    },
    {
      "cell_type": "code",
      "source": [
        "# creating attributes for the object\n",
        "\n",
        "student.name = \"Noor\"\n",
        "student.age = 24\n",
        "student.grade = \"A\"\n",
        "print(student.name)\n",
        "print(student.age)\n",
        "print(student.grade)\n"
      ],
      "metadata": {
        "colab": {
          "base_uri": "https://localhost:8080/"
        },
        "id": "kmKXSTVxP-5w",
        "outputId": "a30f5418-049e-4884-bf94-d9b7b702ca34"
      },
      "execution_count": 4,
      "outputs": [
        {
          "output_type": "stream",
          "name": "stdout",
          "text": [
            "Noor\n",
            "24\n",
            "A\n"
          ]
        }
      ]
    },
    {
      "cell_type": "markdown",
      "source": [
        "# Method - __init__()"
      ],
      "metadata": {
        "id": "dc8gufKoW8m3"
      }
    },
    {
      "cell_type": "code",
      "source": [
        "# using _init_() method - for initializing attributes\n",
        "\n",
        "class Student:\n",
        "  def __init__(self, name, age, grade):\n",
        "    self.name = name\n",
        "    self.age = age\n",
        "    self.grade = grade\n",
        "\n",
        "# Making the object of the class Student\n",
        "\n",
        "student_data = Student(\"Noor\", 24, \"A\")\n",
        "print(student_data.name)\n",
        "print(student_data.age)\n",
        "print(student_data.grade)\n"
      ],
      "metadata": {
        "colab": {
          "base_uri": "https://localhost:8080/"
        },
        "id": "AhpM6kUrQfix",
        "outputId": "f8d0bf0f-0e92-4efc-af03-30765057b084"
      },
      "execution_count": 9,
      "outputs": [
        {
          "output_type": "stream",
          "name": "stdout",
          "text": [
            "Noor\n",
            "24\n",
            "A\n"
          ]
        }
      ]
    },
    {
      "cell_type": "markdown",
      "source": [
        "# Without \"__str__()\" Method"
      ],
      "metadata": {
        "id": "w_Ene7scYAW3"
      }
    },
    {
      "cell_type": "code",
      "source": [
        "# The string representation of an object WITHOUT the __str__() method\n",
        "# using _init_() method - for initializing attributes\n",
        "\n",
        "class Student:\n",
        "  def __init__(self, name, age, grade):\n",
        "    self.name = name\n",
        "    self.age = age\n",
        "    self.grade = grade\n",
        "\n",
        "# Making the object of the class Student\n",
        "\n",
        "student_data = Student(\"Noor\", 24, \"A\")\n",
        "print(student_data)\n"
      ],
      "metadata": {
        "colab": {
          "base_uri": "https://localhost:8080/"
        },
        "id": "jTo8eV3CR1qJ",
        "outputId": "ba68ef94-aab5-445d-e730-b5802ed3bcad"
      },
      "execution_count": 27,
      "outputs": [
        {
          "output_type": "stream",
          "name": "stdout",
          "text": [
            "<__main__.Student object at 0x79ff8a436a90>\n"
          ]
        }
      ]
    },
    {
      "cell_type": "markdown",
      "source": [
        "# Using \"__str__()\" Method"
      ],
      "metadata": {
        "id": "6HMnb1HXYHZ0"
      }
    },
    {
      "cell_type": "code",
      "source": [
        "# Using _str_() method\n",
        "\n",
        "# Initialzing attributes\n",
        "\n",
        "class Student:\n",
        "  def __init__(self, name, age, grade):\n",
        "    self.name = name\n",
        "    self.age = age\n",
        "    self.grade = grade\n",
        "\n",
        "  def __str__(self):\n",
        "      return f\"My name is {self.name} and age is {self.age} with grade {self.grade}\"\n",
        "\n",
        "# Making the object of the class Student\n",
        "\n",
        "student_data = Student(\"Noor\" , 24, 'A')\n",
        "\n",
        "print(student_data)\n"
      ],
      "metadata": {
        "colab": {
          "base_uri": "https://localhost:8080/"
        },
        "id": "CjIzFN_kXY1R",
        "outputId": "89a3500a-8881-49ab-b0db-20762317e95e"
      },
      "execution_count": 33,
      "outputs": [
        {
          "output_type": "stream",
          "name": "stdout",
          "text": [
            "My name is Noor and age is 24 with grade A\n"
          ]
        }
      ]
    },
    {
      "cell_type": "markdown",
      "source": [
        "# Update"
      ],
      "metadata": {
        "id": "pNXNZMSuadrn"
      }
    },
    {
      "cell_type": "code",
      "source": [
        "\n",
        "# Initialzing attributes\n",
        "\n",
        "class person:\n",
        "  def __init__(self, name, gender, city):\n",
        "    self.name = name\n",
        "    self.gender = gender\n",
        "    self.city = city\n",
        "\n",
        "  def __str__(self):\n",
        "      return f\"My name is {self.name} and I'm a {self.gender} living in {self.city}.\"\n",
        "\n",
        "# Making the object of the class Student\n",
        "\n",
        "person_info = person(\"Noor\" , \"Female\", \"Rawalpindi\")\n",
        "print(person_info)\n",
        "print()\n",
        "\n",
        "# Updating\n",
        "\n",
        "person_info.city = \"Lahore\"\n",
        "print(person_info)\n"
      ],
      "metadata": {
        "colab": {
          "base_uri": "https://localhost:8080/"
        },
        "id": "-Ni2ke3Uai0H",
        "outputId": "1844dfc4-dc84-44b9-c030-af5c070e0723"
      },
      "execution_count": 41,
      "outputs": [
        {
          "output_type": "stream",
          "name": "stdout",
          "text": [
            "My name is Noor and I'm a Female living in Rawalpindi.\n",
            "\n",
            "My name is Noor and I'm a Female living in Lahore.\n"
          ]
        }
      ]
    },
    {
      "cell_type": "markdown",
      "source": [
        "# Delete"
      ],
      "metadata": {
        "id": "CPJPFfPzbuQh"
      }
    },
    {
      "cell_type": "code",
      "source": [
        "\n",
        "# Initialzing attributes\n",
        "\n",
        "class person:\n",
        "  def __init__(self, name, gender, city):\n",
        "    self.name = name\n",
        "    self.gender = gender\n",
        "    self.city = city\n",
        "\n",
        "  def __str__(self):\n",
        "      city_info = getattr(self, 'city', 'Unknown')\n",
        "      return f\"My name is {self.name} and I'm a {self.gender} living in {city_info}.\"\n",
        "\n",
        "# Making the object of the class Student\n",
        "\n",
        "person_info = person(\"Noor\" , \"Female\", \"Rawalpindi\")\n",
        "print(person_info)\n",
        "print()\n",
        "\n",
        "# DELETING\n",
        "\n",
        "del person_info.city\n",
        "print(person_info)\n"
      ],
      "metadata": {
        "colab": {
          "base_uri": "https://localhost:8080/"
        },
        "id": "1ywqU7nrb1A4",
        "outputId": "07e87da6-9cc2-4227-b286-7e585c1d46cd"
      },
      "execution_count": 47,
      "outputs": [
        {
          "output_type": "stream",
          "name": "stdout",
          "text": [
            "My name is Noor and I'm a Female living in Rawalpindi.\n",
            "\n",
            "My name is Noor and I'm a Female living in Unknown.\n"
          ]
        }
      ]
    },
    {
      "cell_type": "code",
      "source": [
        "# DELETING my object\n",
        "\n",
        "del person_info\n",
        "print(person_info)\n",
        "\n",
        "# the object has been deleted so it shows not defined\n"
      ],
      "metadata": {
        "colab": {
          "base_uri": "https://localhost:8080/",
          "height": 220
        },
        "id": "BmikrBQhdjcu",
        "outputId": "a0897798-6fb9-4f5a-e351-e8651774d695"
      },
      "execution_count": 49,
      "outputs": [
        {
          "output_type": "error",
          "ename": "NameError",
          "evalue": "name 'person_info' is not defined",
          "traceback": [
            "\u001b[0;31m---------------------------------------------------------------------------\u001b[0m",
            "\u001b[0;31mNameError\u001b[0m                                 Traceback (most recent call last)",
            "\u001b[0;32m/tmp/ipython-input-1412478285.py\u001b[0m in \u001b[0;36m<cell line: 0>\u001b[0;34m()\u001b[0m\n\u001b[1;32m      1\u001b[0m \u001b[0;31m# DELETING my object\u001b[0m\u001b[0;34m\u001b[0m\u001b[0;34m\u001b[0m\u001b[0m\n\u001b[1;32m      2\u001b[0m \u001b[0;34m\u001b[0m\u001b[0m\n\u001b[0;32m----> 3\u001b[0;31m \u001b[0;32mdel\u001b[0m \u001b[0mperson_info\u001b[0m\u001b[0;34m\u001b[0m\u001b[0;34m\u001b[0m\u001b[0m\n\u001b[0m\u001b[1;32m      4\u001b[0m \u001b[0mprint\u001b[0m\u001b[0;34m(\u001b[0m\u001b[0mperson_info\u001b[0m\u001b[0;34m)\u001b[0m\u001b[0;34m\u001b[0m\u001b[0;34m\u001b[0m\u001b[0m\n\u001b[1;32m      5\u001b[0m \u001b[0;34m\u001b[0m\u001b[0m\n",
            "\u001b[0;31mNameError\u001b[0m: name 'person_info' is not defined"
          ]
        }
      ]
    },
    {
      "cell_type": "markdown",
      "source": [
        "# Practice"
      ],
      "metadata": {
        "id": "C85ANw8ReHhb"
      }
    },
    {
      "cell_type": "code",
      "source": [
        "# Can use any variable in place of self\n",
        "\n",
        "class Student:\n",
        "  def __init__(inform, name, age, grade):\n",
        "    inform.name = name\n",
        "    inform.age = age\n",
        "    inform.grade = grade\n",
        "\n",
        "  def __str__(inform):\n",
        "      return f\"My name is {inform.name} and age is {inform.age} with grade {inform.grade}\"\n",
        "\n",
        "# Making the object of the class Student\n",
        "\n",
        "student_data = Student(\"Noor\" , 24, 'A')\n",
        "\n",
        "print(student_data)"
      ],
      "metadata": {
        "colab": {
          "base_uri": "https://localhost:8080/"
        },
        "id": "u9UExY0neK6n",
        "outputId": "8e564560-29fb-4951-9446-482915a08754"
      },
      "execution_count": 51,
      "outputs": [
        {
          "output_type": "stream",
          "name": "stdout",
          "text": [
            "My name is Noor and age is 24 with grade A\n"
          ]
        }
      ]
    },
    {
      "cell_type": "code",
      "source": [
        "# creating any function other than _str_\n",
        "\n",
        "class Person:\n",
        "  def __init__(self, name, age):\n",
        "    self.name = name\n",
        "    self.age = age\n",
        "\n",
        "  def myfunc(self):\n",
        "    print(\"Hello, my name is\", self.name)\n",
        "\n",
        "person = Person(\"NOOR\", 25)\n",
        "person.myfunc()\n"
      ],
      "metadata": {
        "colab": {
          "base_uri": "https://localhost:8080/"
        },
        "id": "h2ugp_FDfhkT",
        "outputId": "2ea0c172-be3a-4e1c-c927-88417774bd0c"
      },
      "execution_count": 64,
      "outputs": [
        {
          "output_type": "stream",
          "name": "stdout",
          "text": [
            "Hello, my name is NOOR\n"
          ]
        }
      ]
    }
  ]
}