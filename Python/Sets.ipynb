{
  "cells": [
    {
      "cell_type": "markdown",
      "source": [
        "# Sets\n",
        "\n",
        "A set is a collection of unique items stored in a single variable. Unlike lists and tuples, sets do not allow duplicates and are unordered.\n",
        "\n",
        "---\n",
        "\n",
        "## 🔹 Key Points about Sets\n",
        "\n",
        "- Sets are unordered (items have no fixed position)\n",
        "- Sets do not allow duplicate values\n",
        "- Sets are changeable (you can add or remove items)\n",
        "- Sets can hold multiple data types (e.g., strings, numbers)\n",
        "- Sets are useful for removing duplicates or testing membership\n",
        "\n",
        "---\n",
        "\n",
        "``` python\n",
        "mySet = {\"apple\", \"banana\", \"cherry\"}\n",
        "```"
      ],
      "metadata": {
        "id": "OaV310sh0Z-x"
      }
    },
    {
      "cell_type": "code",
      "source": [
        "# Syntax\n",
        "\n",
        "emptySet = set()\n",
        "\n",
        "set1 = {\"apple\", \"banana\", \"cherry\"}   # Set of strings\n",
        "set2 = {1, 5, 7, 9, 3}                 # Set of integers\n",
        "set3 = {True, False}                   # Set of booleans\n",
        "mixedSet = {1, 2, 3, 4.5, 'hello', True, \"noor\"}          # Mixed data types\n",
        "mixedSet2 = {True, 1, 2, 3, 4.5, 'hello', \"noor\"}\n",
        "\n",
        "# Note: Sets do not support nesting like lists do\n",
        "\n",
        "print(emptySet)\n",
        "print(set1)\n",
        "print(set2)\n",
        "print(set3)\n",
        "print(mixedSet)\n",
        "print(mixedSet2)\n"
      ],
      "metadata": {
        "id": "nZUQFw4W3gcC",
        "outputId": "05b1a8c3-ef93-421f-9e22-5956d3b654bd",
        "colab": {
          "base_uri": "https://localhost:8080/"
        }
      },
      "execution_count": 12,
      "outputs": [
        {
          "output_type": "stream",
          "name": "stdout",
          "text": [
            "set()\n",
            "{'cherry', 'banana', 'apple'}\n",
            "{1, 3, 5, 7, 9}\n",
            "{False, True}\n",
            "{1, 2, 3, 4.5, 'noor', 'hello'}\n",
            "{True, 2, 3, 4.5, 'noor', 'hello'}\n"
          ]
        }
      ]
    },
    {
      "cell_type": "code",
      "source": [
        "# Checking type after creating a set\n",
        "\n",
        "x=set()\n",
        "print(type(x))\n"
      ],
      "metadata": {
        "id": "LtpHTYmu2HP0",
        "outputId": "b6a6f255-2489-47e9-bec4-0429c528c9c8",
        "colab": {
          "base_uri": "https://localhost:8080/"
        }
      },
      "execution_count": 2,
      "outputs": [
        {
          "output_type": "stream",
          "name": "stdout",
          "text": [
            "<class 'set'>\n"
          ]
        }
      ]
    },
    {
      "cell_type": "markdown",
      "source": [
        "# Conversion"
      ],
      "metadata": {
        "id": "5GGlXHqT52U-"
      }
    },
    {
      "cell_type": "code",
      "source": [
        "# Creating a list\n",
        "my_list = [1, 2, 3, 4, 5, 6, 7]\n",
        "print(\"List: \", my_list)\n",
        "\n",
        "# Converting to a set\n",
        "my_set = set(my_list)\n",
        "print(\"Converted Set: \", my_set)\n"
      ],
      "metadata": {
        "id": "UXRcn-wZ5b-e",
        "outputId": "0a737c64-34cf-4aa9-97ae-6aeee6ef787a",
        "colab": {
          "base_uri": "https://localhost:8080/"
        }
      },
      "execution_count": 13,
      "outputs": [
        {
          "output_type": "stream",
          "name": "stdout",
          "text": [
            "List:  [1, 2, 3, 4, 5, 6, 7]\n",
            "Converted Set:  {1, 2, 3, 4, 5, 6, 7}\n"
          ]
        }
      ]
    },
    {
      "cell_type": "code",
      "source": [
        "# Creating a set\n",
        "my_set = {1, 2, 3, 4, 5}\n",
        "print(\"Set: \", my_set)\n",
        "\n",
        "# Converting to a list\n",
        "my_list = list(my_set)\n",
        "print(\"Converted List: \", my_list)\n",
        "\n",
        "# Converting to a tuple\n",
        "my_tuple = tuple(my_set)\n",
        "print(\"Converted Tuple: \", my_tuple)\n"
      ],
      "metadata": {
        "id": "IWvdqiLm-EVj",
        "outputId": "6090679a-dbf6-4474-a23e-027717be863d",
        "colab": {
          "base_uri": "https://localhost:8080/"
        }
      },
      "execution_count": 14,
      "outputs": [
        {
          "output_type": "stream",
          "name": "stdout",
          "text": [
            "Set:  {1, 2, 3, 4, 5}\n",
            "Converted List:  [1, 2, 3, 4, 5]\n",
            "Converted Tuple:  (1, 2, 3, 4, 5)\n"
          ]
        }
      ]
    },
    {
      "cell_type": "code",
      "source": [
        "# List to set\n",
        "my_set = set([3, 7, 9, 11, 15])\n",
        "print(my_set)\n"
      ],
      "metadata": {
        "colab": {
          "base_uri": "https://localhost:8080/"
        },
        "id": "BwnboW2j_Gaf",
        "outputId": "bd391861-c6d5-4a02-fd4c-151cfc6cc61c"
      },
      "execution_count": 11,
      "outputs": [
        {
          "output_type": "stream",
          "name": "stdout",
          "text": [
            "{3, 7, 9, 11, 15}\n"
          ]
        }
      ]
    },
    {
      "cell_type": "markdown",
      "source": [
        "# Accessing Sets"
      ],
      "metadata": {
        "id": "V4N0-9A4ATeh"
      }
    },
    {
      "cell_type": "code",
      "source": [
        "# Access elements in sets\n",
        "\n",
        "my_set = {1,2,3,4,5}\n",
        "print(my_set[0])\n",
        "\n",
        "# We can't access them using index because set is unordered so they donot have a proper index"
      ],
      "metadata": {
        "colab": {
          "base_uri": "https://localhost:8080/",
          "height": 220
        },
        "id": "bK4ZDi4IAWxF",
        "outputId": "303e83f9-d2c2-4a1c-8bc7-af0993a67c91"
      },
      "execution_count": 19,
      "outputs": [
        {
          "output_type": "error",
          "ename": "TypeError",
          "evalue": "'set' object is not subscriptable",
          "traceback": [
            "\u001b[0;31m---------------------------------------------------------------------------\u001b[0m",
            "\u001b[0;31mTypeError\u001b[0m                                 Traceback (most recent call last)",
            "\u001b[0;32m/tmp/ipython-input-19-685184465.py\u001b[0m in \u001b[0;36m<cell line: 0>\u001b[0;34m()\u001b[0m\n\u001b[1;32m      2\u001b[0m \u001b[0;34m\u001b[0m\u001b[0m\n\u001b[1;32m      3\u001b[0m \u001b[0mmy_set\u001b[0m \u001b[0;34m=\u001b[0m \u001b[0;34m{\u001b[0m\u001b[0;36m1\u001b[0m\u001b[0;34m,\u001b[0m\u001b[0;36m2\u001b[0m\u001b[0;34m,\u001b[0m\u001b[0;36m3\u001b[0m\u001b[0;34m,\u001b[0m\u001b[0;36m4\u001b[0m\u001b[0;34m,\u001b[0m\u001b[0;36m5\u001b[0m\u001b[0;34m}\u001b[0m\u001b[0;34m\u001b[0m\u001b[0;34m\u001b[0m\u001b[0m\n\u001b[0;32m----> 4\u001b[0;31m \u001b[0mprint\u001b[0m\u001b[0;34m(\u001b[0m\u001b[0mmy_set\u001b[0m\u001b[0;34m[\u001b[0m\u001b[0;36m0\u001b[0m\u001b[0;34m]\u001b[0m\u001b[0;34m)\u001b[0m\u001b[0;34m\u001b[0m\u001b[0;34m\u001b[0m\u001b[0m\n\u001b[0m\u001b[1;32m      5\u001b[0m \u001b[0mprint\u001b[0m\u001b[0;34m(\u001b[0m\u001b[0mmy_set\u001b[0m\u001b[0;34m[\u001b[0m\u001b[0;34m:\u001b[0m\u001b[0;34m:\u001b[0m\u001b[0;34m-\u001b[0m\u001b[0;36m1\u001b[0m\u001b[0;34m]\u001b[0m\u001b[0;34m)\u001b[0m\u001b[0;34m\u001b[0m\u001b[0;34m\u001b[0m\u001b[0m\n\u001b[1;32m      6\u001b[0m \u001b[0mprint\u001b[0m\u001b[0;34m(\u001b[0m\u001b[0mmy_set\u001b[0m\u001b[0;34m[\u001b[0m\u001b[0;34m-\u001b[0m\u001b[0;36m1\u001b[0m\u001b[0;34m]\u001b[0m\u001b[0;34m)\u001b[0m\u001b[0;34m\u001b[0m\u001b[0;34m\u001b[0m\u001b[0m\n",
            "\u001b[0;31mTypeError\u001b[0m: 'set' object is not subscriptable"
          ]
        }
      ]
    },
    {
      "cell_type": "markdown",
      "source": [
        "# Loop in Sets"
      ],
      "metadata": {
        "id": "ix02HsXogv3w"
      }
    },
    {
      "cell_type": "code",
      "source": [
        "# Creating a set\n",
        "\n",
        "my_set = {\"Noor\", 24, \"Data Science\"}\n",
        "i = 0\n",
        "\n",
        "# Loop to go through each item\n",
        "for item in my_set:\n",
        "    print(item)\n",
        ""
      ],
      "metadata": {
        "colab": {
          "base_uri": "https://localhost:8080/"
        },
        "id": "45PnyndOgz4b",
        "outputId": "740ce8b3-121a-4c78-e2d1-fe4c59d3ae30"
      },
      "execution_count": 64,
      "outputs": [
        {
          "output_type": "stream",
          "name": "stdout",
          "text": [
            "Noor\n",
            "24\n",
            "Data Science\n"
          ]
        }
      ]
    },
    {
      "cell_type": "markdown",
      "source": [
        "# Membership"
      ],
      "metadata": {
        "id": "KAEl-sUIUaD9"
      }
    },
    {
      "cell_type": "code",
      "source": [
        "fruit = {\"apple\", \"banana\", \"strawberry\"}\n",
        "print(\"strwaberry\" in fruit)\n",
        "\n",
        "fruit = {\"apple\", \"banana\", \"cherry\"}\n",
        "print(\"strwaberry\" not in fruit)\n",
        "\n",
        "print()\n",
        "\n",
        "fruit = {\"apple\", \"banana\", \"strawberry\"}\n",
        "\n",
        "if \"strawberry\" in fruit:\n",
        "    print(\"Strawberry is in the set.\")\n",
        "else:\n",
        "    print(\"Strawberry is not in the set.\")\n"
      ],
      "metadata": {
        "colab": {
          "base_uri": "https://localhost:8080/"
        },
        "id": "bMIld6VTUgTJ",
        "outputId": "5c33341b-ef6d-4079-d4cc-9e06e6e2b7cf"
      },
      "execution_count": 53,
      "outputs": [
        {
          "output_type": "stream",
          "name": "stdout",
          "text": [
            "False\n",
            "True\n",
            "\n",
            "Strawberry is in the set.\n"
          ]
        }
      ]
    },
    {
      "cell_type": "markdown",
      "source": [
        "# Set Methods"
      ],
      "metadata": {
        "id": "FdncL16GCU_N"
      }
    },
    {
      "cell_type": "code",
      "source": [
        "# Add() - Similar to append() in lists but since sets are unordered, the item is added anywhere (random position)\n",
        "\n",
        "my_set = {3, 6, 8}\n",
        "print(\"Original Set: \", my_set)\n",
        "\n",
        "my_set.add(4)\n",
        "print(\"Updated Set: \", my_set)\n",
        "\n",
        "\n",
        "my_set.add(\"noor\")\n",
        "print(\"Updated again: \", my_set)\n"
      ],
      "metadata": {
        "colab": {
          "base_uri": "https://localhost:8080/"
        },
        "id": "QxeA0QgUCaGF",
        "outputId": "d6e28ede-cf14-469a-eabb-4b65dfb2f9a3"
      },
      "execution_count": 26,
      "outputs": [
        {
          "output_type": "stream",
          "name": "stdout",
          "text": [
            "Original Set:  {8, 3, 6}\n",
            "Updated Set:  {8, 3, 4, 6}\n",
            "Updated again:  {3, 4, 6, 8, 'noor'}\n"
          ]
        }
      ]
    },
    {
      "cell_type": "code",
      "source": [
        "# Update() - Adds each element from an iterable (like list, set, tuple) to the set\n",
        "# Since sets are unordered, items go anywhere\n",
        "# Duplicates are ignored\n",
        "\n",
        "my_set = {4, 5, 7}\n",
        "print(\"Original Set: \", my_set)\n",
        "\n",
        "my_set.update([11, 15, 3])\n",
        "print(\"Updated Set: \", my_set)\n",
        "print()\n",
        "\n",
        "# Another way\n",
        "\n",
        "my_set = {4, 5, 7}\n",
        "print(\"Original Set: \", my_set)\n",
        "\n",
        "a = {7, 9, 10}\n",
        "my_set.update(a)\n",
        "print(\"Updated Set: \", my_set)\n"
      ],
      "metadata": {
        "colab": {
          "base_uri": "https://localhost:8080/"
        },
        "id": "jEuPYRm9DRqb",
        "outputId": "21866967-4c17-4f9c-bf8b-599939126174"
      },
      "execution_count": 33,
      "outputs": [
        {
          "output_type": "stream",
          "name": "stdout",
          "text": [
            "Original Set:  {4, 5, 7}\n",
            "Updated Set:  {3, 4, 5, 7, 11, 15}\n",
            "\n",
            "Original Set:  {4, 5, 7}\n",
            "Updated Set:  {4, 5, 7, 9, 10}\n"
          ]
        }
      ]
    },
    {
      "cell_type": "code",
      "source": [
        "# Remove - Deletes a specific item\n",
        "# Removes the given value from the set\n",
        "# Gives an error if the value doesn't exist\n",
        "\n",
        "my_set = {1, 2, 3, 4, 5}\n",
        "print(\"Original Set: \", my_set)\n",
        "\n",
        "my_set.remove(3)\n",
        "print(\"Updated Set: \", my_set)\n",
        "\n",
        "my_set.remove(7)\n",
        "print(\"Updated Set: \", my_set)\n"
      ],
      "metadata": {
        "colab": {
          "base_uri": "https://localhost:8080/",
          "height": 238
        },
        "id": "YR3H5pt8OrwO",
        "outputId": "3654252c-9d65-4fde-c49b-83f87203df8d"
      },
      "execution_count": 36,
      "outputs": [
        {
          "output_type": "stream",
          "name": "stdout",
          "text": [
            "Original Set:  {1, 2, 3, 4, 5}\n",
            "Updated Set:  {1, 2, 4, 5}\n"
          ]
        },
        {
          "output_type": "error",
          "ename": "KeyError",
          "evalue": "7",
          "traceback": [
            "\u001b[0;31m---------------------------------------------------------------------------\u001b[0m",
            "\u001b[0;31mKeyError\u001b[0m                                  Traceback (most recent call last)",
            "\u001b[0;32m/tmp/ipython-input-36-4084724941.py\u001b[0m in \u001b[0;36m<cell line: 0>\u001b[0;34m()\u001b[0m\n\u001b[1;32m      9\u001b[0m \u001b[0mprint\u001b[0m\u001b[0;34m(\u001b[0m\u001b[0;34m\"Updated Set: \"\u001b[0m\u001b[0;34m,\u001b[0m \u001b[0mmy_set\u001b[0m\u001b[0;34m)\u001b[0m\u001b[0;34m\u001b[0m\u001b[0;34m\u001b[0m\u001b[0m\n\u001b[1;32m     10\u001b[0m \u001b[0;34m\u001b[0m\u001b[0m\n\u001b[0;32m---> 11\u001b[0;31m \u001b[0mmy_set\u001b[0m\u001b[0;34m.\u001b[0m\u001b[0mremove\u001b[0m\u001b[0;34m(\u001b[0m\u001b[0;36m7\u001b[0m\u001b[0;34m)\u001b[0m\u001b[0;34m\u001b[0m\u001b[0;34m\u001b[0m\u001b[0m\n\u001b[0m\u001b[1;32m     12\u001b[0m \u001b[0mprint\u001b[0m\u001b[0;34m(\u001b[0m\u001b[0;34m\"Updated Set: \"\u001b[0m\u001b[0;34m,\u001b[0m \u001b[0mmy_set\u001b[0m\u001b[0;34m)\u001b[0m\u001b[0;34m\u001b[0m\u001b[0;34m\u001b[0m\u001b[0m\n",
            "\u001b[0;31mKeyError\u001b[0m: 7"
          ]
        }
      ]
    },
    {
      "cell_type": "code",
      "source": [
        "# Discard - Safely deletes an item\n",
        "# Works like remove() but no error if item not found\n",
        "# Good for safe deletion\n",
        "\n",
        "my_set = {1, 2, 3, 4, 5}\n",
        "print(\"Original Set: \", my_set)\n",
        "\n",
        "my_set.discard(4)\n",
        "print(\"Updated Set: \", my_set)\n",
        "print()\n",
        "\n",
        "my_set.discard(9)\n",
        "print(\"Updated Set: \", my_set)\n"
      ],
      "metadata": {
        "colab": {
          "base_uri": "https://localhost:8080/"
        },
        "id": "An11VB4SQaMM",
        "outputId": "edfad917-4b3d-42a1-fe09-0be50e1276ff"
      },
      "execution_count": 39,
      "outputs": [
        {
          "output_type": "stream",
          "name": "stdout",
          "text": [
            "Original Set:  {1, 2, 3, 4, 5}\n",
            "Updated Set:  {1, 2, 3, 5}\n",
            "\n",
            "Updated Set:  {1, 2, 3, 5}\n"
          ]
        }
      ]
    },
    {
      "cell_type": "code",
      "source": [
        "# Pop - Removes a random item\n",
        "# Removes and returns one random item\n",
        "# Gives error if set is empty\n",
        "# Since sets are unordered, you don't control what gets removed\n",
        "\n",
        "my_set = {7, 9, 13, 15}\n",
        "print(\"Original Set: \", my_set)\n",
        "\n",
        "removed_item = my_set.pop()\n",
        "print(\"Updated Set: \", my_set)\n",
        "print()\n",
        "\n",
        "fruit = {\"apple\", \"banana\", \"cherry\"}\n",
        "print(\"Original Set: \", fruit)\n",
        "\n",
        "removed_item = fruit.pop()\n",
        "print(\"Updated Set: \", fruit)\n"
      ],
      "metadata": {
        "colab": {
          "base_uri": "https://localhost:8080/"
        },
        "id": "zi8xm-2tQyRA",
        "outputId": "33d3ca77-f377-4112-cd30-afd09e47537c"
      },
      "execution_count": 49,
      "outputs": [
        {
          "output_type": "stream",
          "name": "stdout",
          "text": [
            "Original Set:  {9, 7, 13, 15}\n",
            "Updated Set:  {7, 13, 15}\n",
            "\n",
            "Original Set:  {'cherry', 'banana', 'apple'}\n",
            "Updated Set:  {'banana', 'apple'}\n"
          ]
        }
      ]
    },
    {
      "cell_type": "code",
      "source": [
        "# Clear - Removes all items\n",
        "# Empties the entire set\n",
        "\n",
        "my_set = {\"Noor\", 24, \"Data Science\"}\n",
        "print(\"Original Set: \", my_set)\n",
        "\n",
        "my_set.clear()\n",
        "print(\"Updated Set: \", my_set)\n"
      ],
      "metadata": {
        "colab": {
          "base_uri": "https://localhost:8080/"
        },
        "id": "OhL9-zWkVSmR",
        "outputId": "763536e4-55e7-47db-98a4-74b44928c26d"
      },
      "execution_count": 55,
      "outputs": [
        {
          "output_type": "stream",
          "name": "stdout",
          "text": [
            "Original Set:  {'Noor', 24, 'Data Science'}\n",
            "Updated Set:  set()\n"
          ]
        }
      ]
    },
    {
      "cell_type": "code",
      "source": [
        "# Copy - Makes of copy of set\n",
        "\n",
        "my_set = {\"Noor\", 24, \"Data Science\"}\n",
        "print(\"Original Set: \", my_set)\n",
        "\n",
        "new_set = my_set.copy()\n",
        "print(\"Copied Set: \", new_set)"
      ],
      "metadata": {
        "colab": {
          "base_uri": "https://localhost:8080/"
        },
        "id": "-zJKrVoM6AcW",
        "outputId": "a8540ae3-d7b0-4439-d95c-c5e67c7d0e71"
      },
      "execution_count": 107,
      "outputs": [
        {
          "output_type": "stream",
          "name": "stdout",
          "text": [
            "Original Set:  {'Noor', 24, 'Data Science'}\n",
            "Copied Set:  {'Noor', 24, 'Data Science'}\n"
          ]
        }
      ]
    },
    {
      "cell_type": "code",
      "source": [
        "# Delete - Deletes the set completely\n",
        "\n",
        "my_set = {\"Noor\", 24, \"Data Science\"}\n",
        "print(\"Original Set: \", my_set)\n",
        "\n",
        "del my_set\n",
        "print(\"Deleted Set: \", my_set)\n",
        "\n",
        "# It deleted the set, this will raise an error because the set no longer exists."
      ],
      "metadata": {
        "colab": {
          "base_uri": "https://localhost:8080/",
          "height": 201
        },
        "id": "8LZ6gjm32cL-",
        "outputId": "bd71487d-1430-4c06-b15b-9f04623c2926"
      },
      "execution_count": 105,
      "outputs": [
        {
          "output_type": "stream",
          "name": "stdout",
          "text": [
            "Original Set:  {'Noor', 24, 'Data Science'}\n"
          ]
        },
        {
          "output_type": "error",
          "ename": "NameError",
          "evalue": "name 'my_set' is not defined",
          "traceback": [
            "\u001b[0;31m---------------------------------------------------------------------------\u001b[0m",
            "\u001b[0;31mNameError\u001b[0m                                 Traceback (most recent call last)",
            "\u001b[0;32m/tmp/ipython-input-105-110339773.py\u001b[0m in \u001b[0;36m<cell line: 0>\u001b[0;34m()\u001b[0m\n\u001b[1;32m      5\u001b[0m \u001b[0;34m\u001b[0m\u001b[0m\n\u001b[1;32m      6\u001b[0m \u001b[0;32mdel\u001b[0m \u001b[0mmy_set\u001b[0m\u001b[0;34m\u001b[0m\u001b[0;34m\u001b[0m\u001b[0m\n\u001b[0;32m----> 7\u001b[0;31m \u001b[0mprint\u001b[0m\u001b[0;34m(\u001b[0m\u001b[0;34m\"Deleted Set: \"\u001b[0m\u001b[0;34m,\u001b[0m \u001b[0mmy_set\u001b[0m\u001b[0;34m)\u001b[0m\u001b[0;34m\u001b[0m\u001b[0;34m\u001b[0m\u001b[0m\n\u001b[0m",
            "\u001b[0;31mNameError\u001b[0m: name 'my_set' is not defined"
          ]
        }
      ]
    },
    {
      "cell_type": "code",
      "source": [
        "# isdisjoint() - Checks if two sets have NO common elements.\n",
        "# Returns true when no common element found\n",
        "\n",
        "set1 = {1, 2, 3}\n",
        "set2 = {4, 5, 6}\n",
        "set3 = {3, 4, 5}\n",
        "\n",
        "print(set1.isdisjoint(set2))\n",
        "print(set1.isdisjoint(set3))"
      ],
      "metadata": {
        "colab": {
          "base_uri": "https://localhost:8080/"
        },
        "id": "cXirx0Et8AGw",
        "outputId": "387232f9-b347-40a2-973c-f1c69481f1d6"
      },
      "execution_count": 109,
      "outputs": [
        {
          "output_type": "stream",
          "name": "stdout",
          "text": [
            "True\n",
            "False\n"
          ]
        }
      ]
    },
    {
      "cell_type": "code",
      "source": [
        "# issubset() or <= - Checks if one set is a subset of another.\n",
        "# Returns True if all elements of the first set exist in the second set.\n",
        "\n",
        "set1 = {1, 2, 3}\n",
        "set2 = {1, 2, 3, 4, 5}\n",
        "\n",
        "print(set1.issubset(set2))\n",
        "print(set1 <= set2)\n",
        "print()\n",
        "\n",
        "# Strict subset or < - Same as issubset(), but also checks that the sets are not equal.\n",
        "# If equal returns false\n",
        "\n",
        "set1 = {1, 2, 3}\n",
        "set2 = {1, 2, 3}\n",
        "\n",
        "print(set1 < (set2))\n",
        "\n"
      ],
      "metadata": {
        "colab": {
          "base_uri": "https://localhost:8080/"
        },
        "id": "FWeaYVU98DIO",
        "outputId": "2e2563b1-96ea-4261-b51f-9cdb98614b6c"
      },
      "execution_count": 112,
      "outputs": [
        {
          "output_type": "stream",
          "name": "stdout",
          "text": [
            "True\n",
            "True\n",
            "\n",
            "False\n"
          ]
        }
      ]
    },
    {
      "cell_type": "code",
      "source": [
        "# issuperset() or >= - Returns True if this set has all the elements of the other set.\n",
        "\n",
        "set1 = {1, 2, 3}\n",
        "set2 = {1, 2, 3, 4, 5}\n",
        "\n",
        "print(set1.issuperset(set2))\n",
        "print(set2 >= set1)\n",
        "print()\n",
        "\n",
        "# (Strict Superset)or > - Same as issuperset(), but also checks that the sets are not equal.\n",
        "# Returns true when not equal\n",
        "\n",
        "set1 = {1, 2, 3}\n",
        "set2 = {1, 2, 3, 4, 5}\n",
        "\n",
        "print(set1 > (set2))\n"
      ],
      "metadata": {
        "colab": {
          "base_uri": "https://localhost:8080/"
        },
        "id": "8tBml9Au-Fzd",
        "outputId": "9c94351e-1f58-49ff-8c55-2d7a0bcb3797"
      },
      "execution_count": 119,
      "outputs": [
        {
          "output_type": "stream",
          "name": "stdout",
          "text": [
            "False\n",
            "True\n",
            "\n",
            "False\n"
          ]
        }
      ]
    },
    {
      "cell_type": "markdown",
      "source": [
        "# Set Operations\n",
        "\n"
      ],
      "metadata": {
        "id": "88FubhXFVver"
      }
    },
    {
      "cell_type": "code",
      "source": [
        "# Union - Combines both sets (no duplicates)\n",
        "# Creating two sets\n",
        "\n",
        "set1= {2,5,7,9}\n",
        "set2 = {'noor', True, 24, 8, 9, 8}\n",
        "\n",
        "print(\"Set 1: \", set1)\n",
        "print(\"Set 2: \", set2)\n",
        "print()\n",
        "\n",
        "# Performing union\n",
        "\n",
        "finalSet  = set1.union(set2)\n",
        "print(\"Union of two sets: \", finalSet)\n",
        "\n",
        "# or\n",
        "\n",
        "finalSet  = set1 | set2\n",
        "print(\"Union of two sets: \", finalSet)\n"
      ],
      "metadata": {
        "colab": {
          "base_uri": "https://localhost:8080/"
        },
        "id": "sZ7Pyl-lg6qy",
        "outputId": "41dc2ff9-dcc7-4440-c06e-c5b3d81a05fd"
      },
      "execution_count": 68,
      "outputs": [
        {
          "output_type": "stream",
          "name": "stdout",
          "text": [
            "Set 1:  {9, 2, 5, 7}\n",
            "Set 2:  {True, 24, 8, 'noor', 9}\n",
            "\n",
            "Union of two sets:  {True, 2, 5, 7, 8, 9, 'noor', 24}\n",
            "Union of two sets:  {True, 2, 5, 7, 8, 9, 'noor', 24}\n"
          ]
        }
      ]
    },
    {
      "cell_type": "code",
      "source": [
        "# Another example\n",
        "# Creating 4 sets\n",
        "\n",
        "set1 = {\"a\", \"b\", \"c\", 3}\n",
        "set2 = {1, 2, 3}\n",
        "set3 = {\"noor\", 3, \"amna\"}\n",
        "set4 = {\"apple\", \"bananas\", \"cherry\", 3}\n",
        "\n",
        "print(\"Set 1: \", set1)\n",
        "print(\"Set 2: \", set2)\n",
        "print(\"Set 3: \", set3)\n",
        "print(\"Set 4: \", set4)\n",
        "print()\n",
        "\n",
        "finalSet = set1.union(set2, set3, set4)\n",
        "print(\"Union of 4 sets: \", finalSet)\n",
        "\n",
        "# Or\n",
        "\n",
        "finalSet = set1 | set2 | set3 | set4\n",
        "print(\"Union of 4 sets: \", finalSet)\n"
      ],
      "metadata": {
        "colab": {
          "base_uri": "https://localhost:8080/"
        },
        "id": "NHWpYVoSjWTP",
        "outputId": "fa1eb474-f4eb-4a84-8c1a-4c9e7769d4d9"
      },
      "execution_count": 78,
      "outputs": [
        {
          "output_type": "stream",
          "name": "stdout",
          "text": [
            "Set 1:  {3, 'b', 'c', 'a'}\n",
            "Set 2:  {1, 2, 3}\n",
            "Set 3:  {'noor', 3, 'amna'}\n",
            "Set 4:  {3, 'cherry', 'bananas', 'apple'}\n",
            "\n",
            "Union of 4 sets:  {1, 2, 3, 'noor', 'cherry', 'b', 'c', 'bananas', 'apple', 'amna', 'a'}\n",
            "Union of 4 sets:  {1, 2, 3, 'noor', 'cherry', 'b', 'c', 'bananas', 'apple', 'amna', 'a'}\n"
          ]
        }
      ]
    },
    {
      "cell_type": "code",
      "source": [
        "# Intersection - Items common in both sets\n",
        "# Creating two sets\n",
        "\n",
        "set1= {2,5,7,9}\n",
        "set2 = {'noor', True, 24, 8, 9, 8}\n",
        "\n",
        "print(\"Set 1: \", set1)\n",
        "print(\"Set 2: \", set2)\n",
        "print()\n",
        "\n",
        "# Performing union\n",
        "\n",
        "finalSet  = set1.intersection(set2)\n",
        "print(\"Intersection of two sets: \", finalSet)\n",
        "\n",
        "# or\n",
        "\n",
        "finalSet  = set1 & set2\n",
        "print(\"Intersection of two sets: \", finalSet)\n"
      ],
      "metadata": {
        "colab": {
          "base_uri": "https://localhost:8080/"
        },
        "id": "FWDD6T2-kHSz",
        "outputId": "a1e1b681-7121-49d9-eac1-6835366e5914"
      },
      "execution_count": 73,
      "outputs": [
        {
          "output_type": "stream",
          "name": "stdout",
          "text": [
            "Set 1:  {9, 2, 5, 7}\n",
            "Set 2:  {True, 24, 8, 'noor', 9}\n",
            "\n",
            "Intersection of two sets:  {9}\n",
            "Intersection of two sets:  {9}\n"
          ]
        }
      ]
    },
    {
      "cell_type": "code",
      "source": [
        "# Another example\n",
        "# Creating 4 sets\n",
        "\n",
        "set1 = {\"a\", \"b\", \"c\", 3}\n",
        "set2 = {1, 2, 3}\n",
        "set3 = {\"noor\", 3, \"amna\"}\n",
        "set4 = {\"apple\", \"bananas\", 3, \"cherry\"}\n",
        "\n",
        "print(\"Set 1: \", set1)\n",
        "print(\"Set 2: \", set2)\n",
        "print(\"Set 3: \", set3)\n",
        "print(\"Set 4: \", set4)\n",
        "print()\n",
        "\n",
        "finalSet = set1.intersection(set2, set3, set4)\n",
        "print(\"Intersection of 4 sets: \", finalSet)\n",
        "\n",
        "# Or\n",
        "\n",
        "finalSet = set1 & set2 & set3 & set4\n",
        "print(\"Intersection of 4 sets: \", finalSet)\n"
      ],
      "metadata": {
        "colab": {
          "base_uri": "https://localhost:8080/"
        },
        "id": "F_zQmnhpkl_T",
        "outputId": "757abec9-93be-4d7d-ced5-fcbc4edf5507"
      },
      "execution_count": 77,
      "outputs": [
        {
          "output_type": "stream",
          "name": "stdout",
          "text": [
            "Set 1:  {3, 'b', 'c', 'a'}\n",
            "Set 2:  {1, 2, 3}\n",
            "Set 3:  {'noor', 3, 'amna'}\n",
            "Set 4:  {'cherry', 3, 'bananas', 'apple'}\n",
            "\n",
            "Intersection of 4 sets:  {3}\n",
            "Intersection of 4 sets:  {3}\n"
          ]
        }
      ]
    },
    {
      "cell_type": "code",
      "source": [
        "# Another example\n",
        "\n",
        "set1 = {\"apple\", 1,  \"banana\", 0, \"cherry\"}\n",
        "set2 = {False, \"google\", 1, \"apple\", 2, True}\n",
        "\n",
        "set3 = set1.intersection(set2)\n",
        "\n",
        "print(\"Intersection of both sets: \", set3)"
      ],
      "metadata": {
        "colab": {
          "base_uri": "https://localhost:8080/"
        },
        "id": "f-O-Klbyl2Aw",
        "outputId": "1708a761-6471-4b13-e233-10f979b30e54"
      },
      "execution_count": 87,
      "outputs": [
        {
          "output_type": "stream",
          "name": "stdout",
          "text": [
            "Intersection of both sets:  {False, 1, 'apple'}\n"
          ]
        }
      ]
    },
    {
      "cell_type": "code",
      "source": [
        "# Intersection_update - It keeps only the common values in your original set.\n",
        "\n",
        "# It changes the set you call it on.\n",
        "\n",
        "set1 = {\"apple\", \"banana\", \"cherry\", \"watermelon\"}\n",
        "set2 = {\"google\", \"microsoft\", \"watermelon\", \"apple\"}\n",
        "\n",
        "set2.intersection_update(set1)\n",
        "\n",
        "print(\"Intersection update of both sets: \", set2)"
      ],
      "metadata": {
        "colab": {
          "base_uri": "https://localhost:8080/"
        },
        "id": "2fQgPsjUnXvl",
        "outputId": "eae55c19-9778-4ac4-bc87-75d6c4537bed"
      },
      "execution_count": 88,
      "outputs": [
        {
          "output_type": "stream",
          "name": "stdout",
          "text": [
            "Intersection update of both sets:  {'watermelon', 'apple'}\n"
          ]
        }
      ]
    },
    {
      "cell_type": "code",
      "source": [
        "# Difference - Items in set 1 but not in set 2\n",
        "\n",
        "# Creating two sets\n",
        "\n",
        "set1= {2,5,7,9}\n",
        "set2 = {'noor', True, 24, 8, 9, 8}\n",
        "\n",
        "print(\"Set 1: \", set1)\n",
        "print(\"Set 2: \", set2)\n",
        "print()\n",
        "\n",
        "# Performing union\n",
        "\n",
        "finalSet  = set1.difference(set2)\n",
        "print(\"Difference of two sets: \", finalSet)\n",
        "\n",
        "# or\n",
        "\n",
        "finalSet  = set1 - set2\n",
        "print(\"Difference of two sets: \", finalSet)\n"
      ],
      "metadata": {
        "colab": {
          "base_uri": "https://localhost:8080/"
        },
        "id": "7tbT88J8ojKr",
        "outputId": "c0e3ecb2-a403-4777-f96a-a9b94d5b0f95"
      },
      "execution_count": 89,
      "outputs": [
        {
          "output_type": "stream",
          "name": "stdout",
          "text": [
            "Set 1:  {9, 2, 5, 7}\n",
            "Set 2:  {True, 24, 8, 'noor', 9}\n",
            "\n",
            "Difference of two sets:  {2, 5, 7}\n",
            "Difference of two sets:  {2, 5, 7}\n"
          ]
        }
      ]
    },
    {
      "cell_type": "code",
      "source": [
        "# Another example\n",
        "# Creating 4 sets\n",
        "\n",
        "set1 = {\"a\", \"b\", \"c\", 3}\n",
        "set2 = {1, 2, 3}\n",
        "set3 = {\"noor\", 3, \"amna\"}\n",
        "set4 = {\"apple\", \"bananas\", 3, \"cherry\"}\n",
        "\n",
        "print(\"Set 1: \", set1)\n",
        "print(\"Set 2: \", set2)\n",
        "print(\"Set 3: \", set3)\n",
        "print(\"Set 4: \", set4)\n",
        "print()\n",
        "\n",
        "finalSet = set1.difference(set2, set3, set4)\n",
        "print(\"Intersection of 4 sets: \", finalSet)\n",
        "\n",
        "# Or\n",
        "\n",
        "finalSet = set1 - set2 - set3 - set4\n",
        "print(\"Difference of 4 sets: \", finalSet)"
      ],
      "metadata": {
        "colab": {
          "base_uri": "https://localhost:8080/"
        },
        "id": "mwXLA-lBpCIs",
        "outputId": "c82d2c31-60a4-4ae3-8944-9003b2dc7785"
      },
      "execution_count": 91,
      "outputs": [
        {
          "output_type": "stream",
          "name": "stdout",
          "text": [
            "Set 1:  {3, 'b', 'c', 'a'}\n",
            "Set 2:  {1, 2, 3}\n",
            "Set 3:  {'noor', 3, 'amna'}\n",
            "Set 4:  {'cherry', 3, 'bananas', 'apple'}\n",
            "\n",
            "Intersection of 4 sets:  {'b', 'c', 'a'}\n",
            "Difference of 4 sets:  {'b', 'c', 'a'}\n"
          ]
        }
      ]
    },
    {
      "cell_type": "code",
      "source": [
        "# Another example\n",
        "\n",
        "set1 = {\"apple\", 1,  \"banana\", 0, \"cherry\"}\n",
        "set2 = {False, \"google\", 1, \"apple\", 2, True}\n",
        "\n",
        "set3 = set1.difference(set2)\n",
        "\n",
        "print(\"Difference of set 1 and set 2: \", set3)\n"
      ],
      "metadata": {
        "colab": {
          "base_uri": "https://localhost:8080/"
        },
        "id": "GqtWytcApQzV",
        "outputId": "3110fd2c-689d-4bfd-b8ad-c426809a082e"
      },
      "execution_count": 95,
      "outputs": [
        {
          "output_type": "stream",
          "name": "stdout",
          "text": [
            "Difference of set 1 and set 2:  {'cherry', 'banana'}\n"
          ]
        }
      ]
    },
    {
      "cell_type": "code",
      "source": [
        "# Difference update\n",
        "\n",
        "set1 = {\"apple\", \"banana\", \"cherry\"}\n",
        "set2 = {\"google\", \"microsoft\", \"apple\"}\n",
        "\n",
        "set1.difference_update(set2)\n",
        "\n",
        "print(set1)"
      ],
      "metadata": {
        "colab": {
          "base_uri": "https://localhost:8080/"
        },
        "id": "5FiWGnZG5Cr6",
        "outputId": "c2220000-2de5-44f3-bd5b-47ff81358fac"
      },
      "execution_count": 106,
      "outputs": [
        {
          "output_type": "stream",
          "name": "stdout",
          "text": [
            "{'cherry', 'banana'}\n"
          ]
        }
      ]
    },
    {
      "cell_type": "code",
      "source": [
        "# Symmetric difference - Shows the items that are in either of the sets, but not in both.\n",
        "# It removes the common values. It keeps only the different ones from both sets.\n",
        "\n",
        "# Creating two sets\n",
        "\n",
        "set1= {2,5,9}\n",
        "set2 = {'noor', True, 8, 9, 8}\n",
        "\n",
        "print(\"Set 1: \", set1)\n",
        "print(\"Set 2: \", set2)\n",
        "print()\n",
        "\n",
        "# Performing union\n",
        "\n",
        "finalSet  = set1.symmetric_difference(set2)\n",
        "print(\"Symmetric Difference of two sets: \", finalSet)\n"
      ],
      "metadata": {
        "colab": {
          "base_uri": "https://localhost:8080/"
        },
        "id": "l4UKkz_yw0I8",
        "outputId": "e9810388-35c6-4130-e81a-a180b6a68785"
      },
      "execution_count": 98,
      "outputs": [
        {
          "output_type": "stream",
          "name": "stdout",
          "text": [
            "Set 1:  {9, 2, 5}\n",
            "Set 2:  {8, 'noor', True, 9}\n",
            "\n",
            "Symmetric Difference of two sets:  {True, 2, 5, 8, 'noor'}\n"
          ]
        }
      ]
    },
    {
      "cell_type": "code",
      "source": [
        "# Another example\n",
        "# Creating 4 sets\n",
        "\n",
        "set1 = {\"a\", \"b\", \"c\", 3}\n",
        "set2 = {1, 2, 3}\n",
        "set3 = {\"noor\", 3, \"amna\"}\n",
        "set4 = {\"apple\", \"bananas\", \"cherry\", 3}\n",
        "\n",
        "print(\"Set 1: \", set1)\n",
        "print(\"Set 2: \", set2)\n",
        "print(\"Set 3: \", set3)\n",
        "print(\"Set 4: \", set4)\n",
        "print()\n",
        "\n",
        "finalSet = (((set1.symmetric_difference(set2)).symmetric_difference(set3)).symmetric_difference(set4))\n",
        "print(\"Symmetric Difference of 4 sets: \", finalSet)\n"
      ],
      "metadata": {
        "colab": {
          "base_uri": "https://localhost:8080/"
        },
        "id": "v0y0hYBx0Ola",
        "outputId": "a4e48423-339e-4646-8a06-042cbed2d5db"
      },
      "execution_count": 103,
      "outputs": [
        {
          "output_type": "stream",
          "name": "stdout",
          "text": [
            "Set 1:  {3, 'b', 'c', 'a'}\n",
            "Set 2:  {1, 2, 3}\n",
            "Set 3:  {'noor', 3, 'amna'}\n",
            "Set 4:  {3, 'cherry', 'bananas', 'apple'}\n",
            "\n",
            "Symmetric Difference of 4 sets:  {1, 2, 'noor', 'cherry', 'b', 'c', 'bananas', 'apple', 'amna', 'a'}\n"
          ]
        }
      ]
    },
    {
      "cell_type": "code",
      "source": [
        "# Symmetric Difference Update\n",
        "# It’s like symmetric_difference(), but it updates the original set instead of returning a new one.\n",
        "\n",
        "set1 = {\"apple\", \"banana\", \"cherry\", \"watermelon\"}\n",
        "set2 = {\"google\", \"microsoft\", \"watermelon\", \"apple\"}\n",
        "\n",
        "set1.symmetric_difference_update(set2)\n",
        "\n",
        "print(\"Symmetric difference update of both sets: \", set1)"
      ],
      "metadata": {
        "colab": {
          "base_uri": "https://localhost:8080/"
        },
        "id": "svCV_A4DyQpJ",
        "outputId": "b6b1ca3e-92a9-49fb-a311-b2b7ec284644"
      },
      "execution_count": 101,
      "outputs": [
        {
          "output_type": "stream",
          "name": "stdout",
          "text": [
            "Symmetric difference update of both sets:  {'banana', 'microsoft', 'cherry', 'google'}\n"
          ]
        }
      ]
    }
  ],
  "metadata": {
    "colab": {
      "toc_visible": true,
      "provenance": []
    },
    "kernelspec": {
      "display_name": "Python 3",
      "name": "python3"
    }
  },
  "nbformat": 4,
  "nbformat_minor": 0
}