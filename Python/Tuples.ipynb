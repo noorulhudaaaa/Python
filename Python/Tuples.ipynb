{
  "nbformat": 4,
  "nbformat_minor": 0,
  "metadata": {
    "colab": {
      "provenance": [],
      "toc_visible": true
    },
    "kernelspec": {
      "name": "python3",
      "display_name": "Python 3"
    },
    "language_info": {
      "name": "python"
    }
  },
  "cells": [
    {
      "cell_type": "markdown",
      "source": [
        "# Tuples\n",
        "A tuple is a collection of items stored in a single variable, just like a list — but unlike lists, tuples cannot be changed after they're created.\n",
        "\n",
        "---\n",
        "\n",
        "## 🔹 Key Points about Tuples\n",
        "\n",
        "- Tuples are ordered (they keep the order you add items in)\n",
        "- Tuples are unchangeable (you can't add, update, or remove items once created)\n",
        "- Tuples can store multiple data types (e.g., numbers and strings)\n",
        "- You can have duplicate values in a tuple\n",
        "- Tuples use less memory than lists, making them slightly faster.\n",
        "\n",
        "---\n",
        "\n",
        "\n",
        "```python\n",
        "myTuple = (\"item1\", \"item2\", \"item3\", \"item4\")\n",
        "```"
      ],
      "metadata": {
        "id": "PF_oZphE6Vpl"
      }
    },
    {
      "cell_type": "code",
      "source": [
        "# Syntax\n",
        "\n",
        "emptyTuple = ()\n",
        "tuple1 = (\"apple\", \"banana\", \"cherry\")     # String tuple\n",
        "tuple2 = (1, 5, 7, 9, 3)                   # Int tuple\n",
        "tuple3 = (True, False, False)              # Boolen tuple\n",
        "single = (2,)\n",
        "mixed = (\"noor\", 24, False, 4.78)          # All data typle\n"
      ],
      "metadata": {
        "id": "ArB5O0K-6a_7"
      },
      "execution_count": 1,
      "outputs": []
    },
    {
      "cell_type": "code",
      "source": [
        "# Access elements in tuple\n",
        "\n",
        "myTuple = (\"a\", \"b\", \"c\", \"d\", \"f\", \"j\" , \"m\")\n",
        "\n",
        "print(myTuple[3])\n",
        "print(myTuple[-1])\n",
        "print(myTuple[-6])\n",
        "print(myTuple[::-1])\n"
      ],
      "metadata": {
        "colab": {
          "base_uri": "https://localhost:8080/"
        },
        "id": "dvrmjRM3uRQ3",
        "outputId": "cd5991ba-c602-40eb-dacb-a38f9f9ba8fb"
      },
      "execution_count": 15,
      "outputs": [
        {
          "output_type": "stream",
          "name": "stdout",
          "text": [
            "d\n",
            "m\n",
            "b\n",
            "('m', 'j', 'f', 'd', 'c', 'b', 'a')\n"
          ]
        }
      ]
    },
    {
      "cell_type": "markdown",
      "source": [
        "# Tuple Methods"
      ],
      "metadata": {
        "id": "Bohz0hlLvZwH"
      }
    },
    {
      "cell_type": "code",
      "source": [
        "# Index - get index of the first match\n",
        "\n",
        "print(\"Tuple: \", myTuple)\n",
        "\n",
        "print(\"Index of provided element is: \", myTuple.index(\"c\"))\n"
      ],
      "metadata": {
        "colab": {
          "base_uri": "https://localhost:8080/"
        },
        "id": "weIQMHaeug61",
        "outputId": "442e4abc-e0b8-431d-d672-05a5fa55a640"
      },
      "execution_count": 16,
      "outputs": [
        {
          "output_type": "stream",
          "name": "stdout",
          "text": [
            "Tuple:  ('a', 'b', 'c', 'd', 'f', 'j', 'm')\n",
            "Index of provided element is:  2\n"
          ]
        }
      ]
    },
    {
      "cell_type": "code",
      "source": [
        "# Count - Gets the number of occurences of an element\n",
        "\n",
        "print(\"List: \", myTuple)\n",
        "\n",
        "print(\"Count of j in tuple is: \", myTuple.count(\"j\"))\n"
      ],
      "metadata": {
        "colab": {
          "base_uri": "https://localhost:8080/"
        },
        "id": "P4SusC2YwgHD",
        "outputId": "e817d115-e47b-40b4-9895-654120d179f8"
      },
      "execution_count": 18,
      "outputs": [
        {
          "output_type": "stream",
          "name": "stdout",
          "text": [
            "List:  ('a', 'b', 'c', 'd', 'f', 'j', 'm')\n",
            "Count of j in tuple is:  1\n"
          ]
        }
      ]
    },
    {
      "cell_type": "markdown",
      "source": [
        "# Conversion\n",
        "-  List <-> Tuple\n"
      ],
      "metadata": {
        "id": "yBAogZCExNtZ"
      }
    },
    {
      "cell_type": "code",
      "source": [
        "# Tuple to list Conversion\n",
        "\n",
        "my_tuple= ( 3, 6, 9, 0, 2)\n",
        "print(\"Tuple: \", my_tuple)\n",
        "my_list = list(my_tuple)\n",
        "print(\"Tuple to List Converversion: \", my_list)\n"
      ],
      "metadata": {
        "colab": {
          "base_uri": "https://localhost:8080/"
        },
        "id": "LBt_SSo5w3cy",
        "outputId": "cf6118f9-0aeb-4618-fb44-92150cdd8093"
      },
      "execution_count": 24,
      "outputs": [
        {
          "output_type": "stream",
          "name": "stdout",
          "text": [
            "Tuple:  (3, 6, 9, 0, 2)\n",
            "Tuple to List Converversion:  [3, 6, 9, 0, 2]\n"
          ]
        }
      ]
    },
    {
      "cell_type": "code",
      "source": [
        "# List to Tuple Conversion\n",
        "\n",
        "my_list= [ 3, 6, 9, 0, 2]\n",
        "print(\"Tuple: \", my_list)\n",
        "my_tuple = tuple(my_list)\n",
        "print(\"List to Tuple Converversion: \", my_tuple)\n"
      ],
      "metadata": {
        "colab": {
          "base_uri": "https://localhost:8080/"
        },
        "id": "Z5cAYxSHyT8p",
        "outputId": "18fdf42d-336b-4f33-bd75-bad613aee602"
      },
      "execution_count": 25,
      "outputs": [
        {
          "output_type": "stream",
          "name": "stdout",
          "text": [
            "Tuple:  [3, 6, 9, 0, 2]\n",
            "List to Tuple Converversion:  (3, 6, 9, 0, 2)\n"
          ]
        }
      ]
    },
    {
      "cell_type": "markdown",
      "source": [
        "# Unpacking Tuples\n"
      ],
      "metadata": {
        "id": "6F38gRT08fqy"
      }
    },
    {
      "cell_type": "code",
      "source": [
        "# Unpacking Tuple\n",
        "\n",
        "m, n, o, p, q = (2,4,6,8,10)\n",
        "print(m)\n",
        "print(n)\n",
        "print(o)\n",
        "print(p)\n",
        "print(q)\n"
      ],
      "metadata": {
        "colab": {
          "base_uri": "https://localhost:8080/"
        },
        "id": "5D0C-yokyuUI",
        "outputId": "2544ea96-09a3-4190-d7b2-4d1957f38709"
      },
      "execution_count": 26,
      "outputs": [
        {
          "output_type": "stream",
          "name": "stdout",
          "text": [
            "2\n",
            "4\n",
            "6\n",
            "8\n",
            "10\n"
          ]
        }
      ]
    },
    {
      "cell_type": "code",
      "source": [
        "# Assigning last 3 fruits to the red tuple\n",
        "\n",
        "(green, yellow, *red)  = (\"apple\", \"banana\", \"cherry\", \"strawberry\", \"raspberry\")\n",
        "\n",
        "print(green)\n",
        "print(yellow)\n",
        "print(red)"
      ],
      "metadata": {
        "colab": {
          "base_uri": "https://localhost:8080/"
        },
        "id": "UN6E02SqB4vR",
        "outputId": "6ec08c0d-6193-4c49-9d08-4fc37f148c4e"
      },
      "execution_count": 64,
      "outputs": [
        {
          "output_type": "stream",
          "name": "stdout",
          "text": [
            "apple\n",
            "banana\n",
            "['cherry', 'strawberry', 'raspberry']\n"
          ]
        }
      ]
    },
    {
      "cell_type": "code",
      "source": [
        "student = (\"Noor\",24,\"Data Analyst\")\n",
        "name, age, profession = student\n",
        "\n",
        "# print them out\n",
        "print(\"Name:\", name)\n",
        "print(\"Age:\", age)\n",
        "print(\"Profession:\", profession)"
      ],
      "metadata": {
        "colab": {
          "base_uri": "https://localhost:8080/"
        },
        "id": "StknSN2S8Mnp",
        "outputId": "7dcbcda6-678e-412c-b220-51c873e92ff9"
      },
      "execution_count": 52,
      "outputs": [
        {
          "output_type": "stream",
          "name": "stdout",
          "text": [
            "Name: Noor\n",
            "Age: 24\n",
            "Profession: Data Analyst\n"
          ]
        }
      ]
    },
    {
      "cell_type": "code",
      "source": [
        "mul_stu=(\"Noor\",24,\"Data Analyst\") , (\"Aroosa\",23,\"Data Scientist\") , (\"Amna\",25,\"Computer Scientist\")\n",
        "\n",
        "# for loop to go through all the students and enter their data\n",
        "for students in mul_stu:\n",
        "    name, age, profession = students\n",
        "    print(\"Name:\", name)\n",
        "    print(\"Age:\", age)\n",
        "    print(\"Profession:\", profession)\n",
        "    print()\n",
        ""
      ],
      "metadata": {
        "colab": {
          "base_uri": "https://localhost:8080/"
        },
        "id": "KJGdS84P80OR",
        "outputId": "cd018556-ee31-46d0-c2dc-9d302e879728"
      },
      "execution_count": 56,
      "outputs": [
        {
          "output_type": "stream",
          "name": "stdout",
          "text": [
            "Name: Noor\n",
            "Age: 24\n",
            "Profession: Data Analyst\n",
            "\n",
            "Name: Aroosa\n",
            "Age: 23\n",
            "Profession: Data Scientist\n",
            "\n",
            "Name: Amna\n",
            "Age: 25\n",
            "Profession: Computer Scientist\n",
            "\n"
          ]
        }
      ]
    },
    {
      "cell_type": "markdown",
      "source": [
        "# Slicing"
      ],
      "metadata": {
        "id": "sslsDuoV6SeG"
      }
    },
    {
      "cell_type": "code",
      "source": [
        "# Slicing Tuple\n",
        "\n",
        "fruits = (\"Apple\",\"Banana\",\"Cherry\",\"Mango\",\"Apricot\",\"Peach\",\"Grape\")\n",
        "print(\"The first four fruits are:\", fruits[:4])\n",
        "\n",
        "# Starting from index 1 to index 6 with two steps each\n",
        "print(\"Index 1 to 6 fruits, with 2 steps each: \", fruits[1:6:2])\n"
      ],
      "metadata": {
        "colab": {
          "base_uri": "https://localhost:8080/"
        },
        "id": "ibH6RLPH6bds",
        "outputId": "94142a28-8cb1-4c22-bcf5-350e33c082e9"
      },
      "execution_count": 48,
      "outputs": [
        {
          "output_type": "stream",
          "name": "stdout",
          "text": [
            "The first four fruits are: ('Apple', 'Banana', 'Cherry', 'Mango')\n",
            "Index 1 to 6 fruits, with 2 steps each:  ('Banana', 'Mango', 'Peach')\n"
          ]
        }
      ]
    },
    {
      "cell_type": "code",
      "source": [
        "\n",
        "print(\"Original Tuple: \" , mixed)\n",
        "\n",
        "#slicing in tuples\n",
        "print(\"After Slicing: \", mixed[1::2])\n"
      ],
      "metadata": {
        "colab": {
          "base_uri": "https://localhost:8080/"
        },
        "id": "CCio4uBi7slp",
        "outputId": "955e97c8-247d-45bc-9264-0f425722877e"
      },
      "execution_count": 51,
      "outputs": [
        {
          "output_type": "stream",
          "name": "stdout",
          "text": [
            "Original Tuple:  ('noor', 24, False, 4.78)\n",
            "After Slicing:  (24, 4.78)\n"
          ]
        }
      ]
    },
    {
      "cell_type": "code",
      "source": [
        "x = (2, 3, 5, 7, 6, 9)\n",
        "print(\"Original Tuple: \", x)\n",
        "\n",
        "slicedTuple = x[2:5]\n",
        "\n",
        "print(\"Sliced Tuple from index 2 to 5: \", slicedTuple)\n"
      ],
      "metadata": {
        "colab": {
          "base_uri": "https://localhost:8080/"
        },
        "id": "INGMagEw0mDA",
        "outputId": "5dfcbb66-aac9-4e43-d718-5596bea3bf36"
      },
      "execution_count": 28,
      "outputs": [
        {
          "output_type": "stream",
          "name": "stdout",
          "text": [
            "Original Tuple:  (2, 3, 5, 7, 6, 9)\n",
            "Sliced Tuple from index 2 to 5:  (5, 7, 6)\n"
          ]
        }
      ]
    },
    {
      "cell_type": "code",
      "source": [
        "print(\"Original Tuple: \", x)\n",
        "\n",
        "slicedTuple = x[:3]\n",
        "\n",
        "print(\"Sliced Tuple from index starting to 3: \", slicedTuple)\n"
      ],
      "metadata": {
        "colab": {
          "base_uri": "https://localhost:8080/"
        },
        "id": "Bqlrz2Bm1PRc",
        "outputId": "c46d20bc-ceb6-4485-e3de-58cd62088974"
      },
      "execution_count": 31,
      "outputs": [
        {
          "output_type": "stream",
          "name": "stdout",
          "text": [
            "Original Tuple:  (2, 3, 5, 7, 6, 9)\n",
            "Sliced Tuple from index starting to 3:  (2, 3, 5)\n"
          ]
        }
      ]
    },
    {
      "cell_type": "code",
      "source": [
        "print(\"Original Tuple: \", x)\n",
        "\n",
        "slicedTuple = x[4:]\n",
        "\n",
        "print(\"Sliced Tuple from index 4 to end: \", slicedTuple)\n"
      ],
      "metadata": {
        "colab": {
          "base_uri": "https://localhost:8080/"
        },
        "id": "595jyOcP1d5Z",
        "outputId": "19d4c18c-7adc-4937-93c4-84cbb9e26360"
      },
      "execution_count": 32,
      "outputs": [
        {
          "output_type": "stream",
          "name": "stdout",
          "text": [
            "Original Tuple:  (2, 3, 5, 7, 6, 9)\n",
            "Sliced Tuple from index 4 to end:  (6, 9)\n"
          ]
        }
      ]
    },
    {
      "cell_type": "code",
      "source": [
        "print(\"Original Tuple: \", x)\n",
        "\n",
        "reversedTuple = x[::-1]\n",
        "\n",
        "print(\"Reversed Tuple: \", reversedTuple)\n"
      ],
      "metadata": {
        "colab": {
          "base_uri": "https://localhost:8080/"
        },
        "id": "6Y9aUOw11zcl",
        "outputId": "70e0c694-1915-4906-d4a1-796c75ca65a4"
      },
      "execution_count": 33,
      "outputs": [
        {
          "output_type": "stream",
          "name": "stdout",
          "text": [
            "Original Tuple:  (2, 3, 5, 7, 6, 9)\n",
            "Reversed Tuple:  (9, 6, 7, 5, 3, 2)\n"
          ]
        }
      ]
    },
    {
      "cell_type": "code",
      "source": [
        "print(\"Original Tuple: \", x)\n",
        "\n",
        "slicedTuple = x[::3]\n",
        "\n",
        "print(\"Sliced Tuple with 3 steps each: \", slicedTuple)\n"
      ],
      "metadata": {
        "colab": {
          "base_uri": "https://localhost:8080/"
        },
        "id": "oAOndKCX2DQv",
        "outputId": "06ce505b-a312-4342-dee4-769f5a9baa35"
      },
      "execution_count": 35,
      "outputs": [
        {
          "output_type": "stream",
          "name": "stdout",
          "text": [
            "Original Tuple:  (2, 3, 5, 7, 6, 9)\n",
            "Sliced Tuple with 3 steps each:  (2, 7)\n"
          ]
        }
      ]
    },
    {
      "cell_type": "code",
      "source": [
        "print(\"Original Tuple: \", x)\n",
        "\n",
        "print(\"Last Element: \", x[-1])\n",
        "print(\"Second Last Element: \", x[-2])\n",
        "print(\"Fifth Last Element: \", x[-5])\n"
      ],
      "metadata": {
        "colab": {
          "base_uri": "https://localhost:8080/"
        },
        "id": "7uvqwCsB2dyU",
        "outputId": "3b4b5296-0493-4d13-8fa8-629df8ac9db5"
      },
      "execution_count": 36,
      "outputs": [
        {
          "output_type": "stream",
          "name": "stdout",
          "text": [
            "Original Tuple:  (2, 3, 5, 7, 6, 9)\n",
            "Last Element:  9\n",
            "Second Last Element:  6\n",
            "Fifth Last Element:  3\n"
          ]
        }
      ]
    },
    {
      "cell_type": "code",
      "source": [
        "print(\"Original Tuple: \", x)\n",
        "\n",
        "print(\"From 2nd last index element to the last in tuple: \" , x[-2:])\n",
        "print(\"From start of the tuple to the 4th last index element: \", x[:-4])\n",
        "print(\"From the 5th last index element to the 2nd last index element in tuple: \", x[-5:-2])"
      ],
      "metadata": {
        "colab": {
          "base_uri": "https://localhost:8080/"
        },
        "id": "FXxvt2E728gy",
        "outputId": "6502a13b-ba11-40e1-92ca-5994ce06e59b"
      },
      "execution_count": 40,
      "outputs": [
        {
          "output_type": "stream",
          "name": "stdout",
          "text": [
            "Original Tuple:  (2, 3, 5, 7, 6, 9)\n",
            "From 2nd last index element to the last in tuple:  (6, 9)\n",
            "From start of the tuple to the 4th last index element:  (2, 3)\n",
            "From the 5th last index element to the 2nd last index element in tuple:  (3, 5, 7)\n"
          ]
        }
      ]
    },
    {
      "cell_type": "markdown",
      "source": [
        "# Membership"
      ],
      "metadata": {
        "id": "U43O8lth5fcq"
      }
    },
    {
      "cell_type": "code",
      "source": [
        "# Using if-else, elif to check if an element is present in the tuple - MEMBERSHIP\n",
        "\n",
        "my_tuple= (\"Apple\", \"Watermelon\", \"Grapes\", \"Banana\", \"Mango\")\n",
        "\n",
        "\n",
        "# 1st Condition\n",
        "if \"Mango\" in my_tuple:\n",
        "  print(\"Mango is present in the Tuple!\")\n",
        "else:\n",
        "  print(\"Mango is not present in the Tuple!\")\n",
        "\n",
        "\n",
        "# 2nd Condition\n",
        "if \"Apricots\" not in my_tuple:\n",
        "  print(\"Apricots are not present in the Tuple!\")\n",
        "else:\n",
        "  print(\"Apricots are present in the Tuple!\")\n",
        "\n",
        "\n",
        "# 3rd Condition\n",
        "if \"Peach\" in my_tuple:\n",
        "  print(\"Peach is present in the Tuple!\")\n",
        "elif \"Orange\" in my_tuple:\n",
        "  print(\"Orange is present in the Tuple!\")\n",
        "else:\n",
        "  print(\"Both Peach and Orange are not present in the Tuple!\")\n"
      ],
      "metadata": {
        "colab": {
          "base_uri": "https://localhost:8080/"
        },
        "id": "T49iXV1D3vHK",
        "outputId": "51537ac1-3808-484b-e065-21fcb8e9c14c"
      },
      "execution_count": 43,
      "outputs": [
        {
          "output_type": "stream",
          "name": "stdout",
          "text": [
            "Mango is present in the Tuple!\n",
            "Apricots are not present in the Tuple!\n",
            "Both Peach and Orange are not present in the Tuple!\n"
          ]
        }
      ]
    },
    {
      "cell_type": "markdown",
      "source": [
        "# Loop for Tuple\n"
      ],
      "metadata": {
        "id": "-i6-i6dLCx21"
      }
    },
    {
      "cell_type": "code",
      "source": [
        "# using loop to print all items in tuple\n",
        "\n",
        "this_tuple = (\"apple\", \"banana\", \"cherry\")\n",
        "\n",
        "i = 0\n",
        "while i < len(this_tuple):\n",
        "  print(this_tuple[i])\n",
        "\n",
        "  i = i + 1\n"
      ],
      "metadata": {
        "colab": {
          "base_uri": "https://localhost:8080/"
        },
        "id": "r9wSex4KCv1v",
        "outputId": "691df525-df72-4569-ec1b-3c7b13222e54"
      },
      "execution_count": 65,
      "outputs": [
        {
          "output_type": "stream",
          "name": "stdout",
          "text": [
            "apple\n",
            "banana\n",
            "cherry\n"
          ]
        }
      ]
    },
    {
      "cell_type": "markdown",
      "source": [
        "# Updating Tuple\n",
        "\n",
        "if you wish to update your tuple, first convert it into a list, make modifications and then convert it back to a tuple."
      ],
      "metadata": {
        "id": "_C1eruaq-QcA"
      }
    },
    {
      "cell_type": "code",
      "source": [
        "a = (\"apple\", \"banana\", \"cherry\")\n",
        "print(\"Original Tuple: \", a)\n",
        "\n",
        "# converting tuple to list to make changes\n",
        "b = list(a)\n",
        "\n",
        "# Insert a new item\n",
        "b.insert(0, \"mango\")\n",
        "\n",
        "# Convert it back to tuple\n",
        "a = tuple(b)\n",
        "\n",
        "print(\"Updated Tuple: \", a)"
      ],
      "metadata": {
        "colab": {
          "base_uri": "https://localhost:8080/"
        },
        "id": "y_SI_TFY-ce0",
        "outputId": "571eba58-a53e-450d-e6a9-0b8e9c2f30a8"
      },
      "execution_count": 62,
      "outputs": [
        {
          "output_type": "stream",
          "name": "stdout",
          "text": [
            "Original Tuple:  ('apple', 'banana', 'cherry')\n",
            "Updated Tuple:  ('mango', 'apple', 'banana', 'cherry')\n"
          ]
        }
      ]
    }
  ]
}