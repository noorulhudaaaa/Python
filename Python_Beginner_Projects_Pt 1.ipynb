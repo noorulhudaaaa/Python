{
  "cells": [
    {
      "cell_type": "markdown",
      "metadata": {
        "id": "view-in-github",
        "colab_type": "text"
      },
      "source": [
        "<a href=\"https://colab.research.google.com/github/noorulhudaaaa/Python/blob/main/Python_Beginner_Projects_Pt%201.ipynb\" target=\"_parent\"><img src=\"https://colab.research.google.com/assets/colab-badge.svg\" alt=\"Open In Colab\"/></a>"
      ]
    },
    {
      "cell_type": "markdown",
      "source": [
        "# Python Beginner Projects Pt.1"
      ],
      "metadata": {
        "id": "Ui7Ilg22dqp3"
      }
    },
    {
      "cell_type": "code",
      "source": [
        "# Number Guessing Game\n",
        "\n",
        "import random\n",
        "\n",
        "random_number = random.randint(1, 100)\n",
        "\n",
        "for i in range(5):\n",
        "    guess_number = int(input(\"Guess the number between 1 and 100: \"))\n",
        "\n",
        "    if guess_number > random_number:\n",
        "        print(\"The number is too high. Try again.\")\n",
        "    elif guess_number < random_number:\n",
        "        print(\"The number is too low. Try again.\")\n",
        "    else:\n",
        "        print(\"Your guess is correct! The number is: \", random_number)\n",
        "        break\n",
        "else:\n",
        "    print(\"You have used all your attempts. The correct number was: \", random_number)"
      ],
      "metadata": {
        "colab": {
          "base_uri": "https://localhost:8080/"
        },
        "id": "6gysGgSZds78",
        "outputId": "9367183d-ba86-425b-d2ab-cc173fc317f8"
      },
      "execution_count": null,
      "outputs": [
        {
          "output_type": "stream",
          "name": "stdout",
          "text": [
            "Guess the number between 1 and 100: 56\n",
            "The number is too low. Try again.\n",
            "Guess the number between 1 and 100: 70\n",
            "The number is too low. Try again.\n",
            "Guess the number between 1 and 100: 89\n",
            "The number is too high. Try again.\n",
            "Guess the number between 1 and 100: 85\n",
            "The number is too high. Try again.\n",
            "Guess the number between 1 and 100: 80\n",
            "The number is too high. Try again.\n",
            "You have used all your attempts. The correct number was:  77\n"
          ]
        }
      ]
    },
    {
      "cell_type": "code",
      "source": [
        "# Calculator\n",
        "\n",
        "x = float(input(\"Enter Number 1: \"))\n",
        "y = float(input(\"Enter Number 2: \"))\n",
        "\n",
        "operation= input(\"What operation do you want to perform: \")\n",
        "\n",
        "if operation== '+':\n",
        "  print (\"Addition: \", x+y)\n",
        "\n",
        "elif operation== '-':\n",
        "  print (\"Subtraction: \", x-y)\n",
        "\n",
        "elif operation== '*':\n",
        "  print (\"Multiplication: \", x*y)\n",
        "\n",
        "\n",
        "else:\n",
        "  print (\"Division: \", x/y)\n"
      ],
      "metadata": {
        "colab": {
          "base_uri": "https://localhost:8080/"
        },
        "id": "WMCn1OVGd6X7",
        "outputId": "3e4f7266-6d8f-4b97-8ee1-0b9758c0d8cd"
      },
      "execution_count": null,
      "outputs": [
        {
          "output_type": "stream",
          "name": "stdout",
          "text": [
            "Enter Number 1: 567\n",
            "Enter Number 2: 98\n",
            "What operation do you want to perform: /\n",
            "Division:  5.785714285714286\n"
          ]
        }
      ]
    },
    {
      "cell_type": "code",
      "source": [
        "# ODD/EVEN Calculator\n",
        "\n",
        "number = int(input(\"Enter a number: \"))\n",
        "\n",
        "if number % 2:\n",
        "  print(number, \" is an odd number!\")\n",
        "\n",
        "else:\n",
        "  print(number, (\" is an even number!\"))"
      ],
      "metadata": {
        "colab": {
          "base_uri": "https://localhost:8080/"
        },
        "id": "uFddgOj9d_GQ",
        "outputId": "7e7d59cb-5de4-4774-c655-314cf434f866"
      },
      "execution_count": null,
      "outputs": [
        {
          "output_type": "stream",
          "name": "stdout",
          "text": [
            "Enter a number: 7890\n",
            "7890  is an even number!\n"
          ]
        }
      ]
    },
    {
      "cell_type": "code",
      "source": [
        "# Grade Checker\n",
        "\n",
        "test_score = int(input(\"Enter the test score between 1 and 100: \"))\n",
        "\n",
        "if test_score> 100 or test_score<1:\n",
        "  print(\"You have entered the wrong value. Please Re-Enter your Score!\")\n",
        "\n",
        "else:\n",
        "\n",
        " if test_score>=90:\n",
        "  print(\"You have A Grade. Excellent!\")\n",
        "\n",
        " elif test_score>=80:\n",
        "  print(\"Your have B Grade. Great!\")\n",
        "\n",
        " elif test_score>=70:\n",
        "  print(\"Your have C Great. Keep it up!\")\n",
        "\n",
        " elif test_score>=60:\n",
        "  print(\"Your have D Grade! Work Harder!\")\n",
        "\n",
        " else:\n",
        "  print(\"You have F Grade. Please repeat your subjects!\")\n"
      ],
      "metadata": {
        "colab": {
          "base_uri": "https://localhost:8080/"
        },
        "id": "LO7vmA9Pd__T",
        "outputId": "9d966d45-78a2-4d64-a16a-e3e705685bc0"
      },
      "execution_count": null,
      "outputs": [
        {
          "output_type": "stream",
          "name": "stdout",
          "text": [
            "Enter the test score between 1 and 100: 65\n",
            "Your have D Grade! Work Harder!\n"
          ]
        }
      ]
    },
    {
      "cell_type": "code",
      "source": [
        "# ATM PIN Checker\n",
        "\n",
        "pincode = \"5788\"\n",
        "\n",
        "for i in range(3):\n",
        "  userpin = (input(\"Enter your 4-Digit ATM PIN: \"))\n",
        "  if pincode == userpin:\n",
        "    print(\"Correct pincode. Access Granted. Welcome!\")\n",
        "    break\n",
        "\n",
        "  else:\n",
        "      print(\"Wrong pincode. Enter again!\")\n",
        "\n",
        "else:\n",
        "  print(\"Too many wrong attempts. Access denied!\")\n"
      ],
      "metadata": {
        "colab": {
          "base_uri": "https://localhost:8080/"
        },
        "id": "IKVLa33peDoO",
        "outputId": "4ea51b21-2c13-41c9-c91e-ef3a3068e172"
      },
      "execution_count": null,
      "outputs": [
        {
          "output_type": "stream",
          "name": "stdout",
          "text": [
            "Enter your 4-Digit ATM PIN: 7654\n",
            "Wrong pincode. Enter again!\n",
            "Enter your 4-Digit ATM PIN: 9876\n",
            "Wrong pincode. Enter again!\n",
            "Enter your 4-Digit ATM PIN: 5788\n",
            "Correct pincode. Access Granted. Welcome!\n"
          ]
        }
      ]
    }
  ],
  "metadata": {
    "colab": {
      "toc_visible": true,
      "provenance": [],
      "include_colab_link": true
    },
    "kernelspec": {
      "display_name": "Python 3",
      "name": "python3"
    }
  },
  "nbformat": 4,
  "nbformat_minor": 0
}